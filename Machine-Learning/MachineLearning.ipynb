{
  "nbformat": 4,
  "nbformat_minor": 0,
  "metadata": {
    "colab": {
      "provenance": [],
      "toc_visible": true
    },
    "kernelspec": {
      "name": "python3",
      "display_name": "Python 3"
    },
    "language_info": {
      "name": "python"
    }
  },
  "cells": [
    {
      "cell_type": "markdown",
      "source": [
        "# Machine Learning Pipelines\n",
        "\n",
        "\n",
        "This notebook implements and explores gradient boosted trees and autoencoders."
      ],
      "metadata": {
        "id": "wKfBYIVSfVfk"
      }
    },
    {
      "cell_type": "markdown",
      "source": [
        "###Setup"
      ],
      "metadata": {
        "id": "H55bkAd0TZS0"
      }
    },
    {
      "cell_type": "code",
      "source": [
        "!pip install pyspark"
      ],
      "metadata": {
        "colab": {
          "base_uri": "https://localhost:8080/"
        },
        "id": "baSRkVvjYbDB",
        "outputId": "255a3b06-2583-4ad0-c1e9-f98ab716086f"
      },
      "execution_count": null,
      "outputs": [
        {
          "output_type": "stream",
          "name": "stdout",
          "text": [
            "Collecting pyspark\n",
            "  Downloading pyspark-3.5.0.tar.gz (316.9 MB)\n",
            "\u001b[2K     \u001b[90m━━━━━━━━━━━━━━━━━━━━━━━━━━━━━━━━━━━━━━━\u001b[0m \u001b[32m316.9/316.9 MB\u001b[0m \u001b[31m1.6 MB/s\u001b[0m eta \u001b[36m0:00:00\u001b[0m\n",
            "\u001b[?25h  Preparing metadata (setup.py) ... \u001b[?25l\u001b[?25hdone\n",
            "Requirement already satisfied: py4j==0.10.9.7 in /usr/local/lib/python3.10/dist-packages (from pyspark) (0.10.9.7)\n",
            "Building wheels for collected packages: pyspark\n",
            "  Building wheel for pyspark (setup.py) ... \u001b[?25l\u001b[?25hdone\n",
            "  Created wheel for pyspark: filename=pyspark-3.5.0-py2.py3-none-any.whl size=317425344 sha256=7a5c49e14ac7a6fc9e3a21f7d0b7243683f9915c6ec46ab9a9ae9a0f22e94473\n",
            "  Stored in directory: /root/.cache/pip/wheels/41/4e/10/c2cf2467f71c678cfc8a6b9ac9241e5e44a01940da8fbb17fc\n",
            "Successfully built pyspark\n",
            "Installing collected packages: pyspark\n",
            "Successfully installed pyspark-3.5.0\n"
          ]
        }
      ]
    },
    {
      "cell_type": "code",
      "source": [
        "## imports\n",
        "import pandas as pd\n",
        "import numpy as np\n",
        "from sklearn.tree import DecisionTreeRegressor\n",
        "from sklearn.metrics import mean_squared_error\n",
        "from tqdm import tqdm\n",
        "import time"
      ],
      "metadata": {
        "id": "757XypQwTct-"
      },
      "execution_count": null,
      "outputs": []
    },
    {
      "cell_type": "markdown",
      "source": [
        "## Gradient Boosted Trees\n",
        "\n",
        "Implementation of a gradient-boosted tree regression model from scratch."
      ],
      "metadata": {
        "id": "CK4GxCVh3Ma6"
      }
    },
    {
      "cell_type": "markdown",
      "source": [
        "### Data"
      ],
      "metadata": {
        "id": "xqt5VPve15ky"
      }
    },
    {
      "cell_type": "code",
      "source": [
        "cal_housing_train = pd.read_csv('sample_data/california_housing_train.csv')\n",
        "cal_housing_test = pd.read_csv('sample_data/california_housing_test.csv')"
      ],
      "metadata": {
        "id": "laKTjnUH2HBj"
      },
      "execution_count": null,
      "outputs": []
    },
    {
      "cell_type": "markdown",
      "source": [
        "### Model"
      ],
      "metadata": {
        "id": "47tF7xkRJfvt"
      }
    },
    {
      "cell_type": "code",
      "source": [
        "# Square loss for gradient boosted tree implementation\n",
        "class SquareLoss():\n",
        "    def __init__(self): pass\n",
        "\n",
        "    def loss(self, y, y_pred):\n",
        "        return 0.5 * np.power((y - y_pred), 2)\n",
        "\n",
        "    def gradient(self, y, y_pred):\n",
        "        return -(y - y_pred)"
      ],
      "metadata": {
        "id": "SyzQHhuyJntj"
      },
      "execution_count": null,
      "outputs": []
    },
    {
      "cell_type": "code",
      "source": [
        "class my_GradientBoosting(object):\n",
        "    \"\"\"Super class of GradientBoostingClassifier and GradientBoostinRegressor.\n",
        "    Uses a collection of regression trees that trains on predicting the gradient\n",
        "    of the loss function.\n",
        "\n",
        "    Parameters:\n",
        "    -----------\n",
        "    n_estimators: int\n",
        "        The number of classification trees that are used.\n",
        "    learning_rate: float\n",
        "        The step length that will be taken when following the negative gradient during\n",
        "        training.\n",
        "    min_samples_split: int\n",
        "        The minimum number of samples needed to make a split when building a tree.\n",
        "    min_impurity: float\n",
        "        The minimum impurity required to split the tree further.\n",
        "    max_depth: int\n",
        "        The maximum depth of a tree.\n",
        "    regression: boolean\n",
        "        True or false depending on if we're doing regression or classification.\n",
        "    \"\"\"\n",
        "    def __init__(self, n_estimators, learning_rate, min_samples_split,\n",
        "                 min_impurity, max_depth, regression):\n",
        "\n",
        "        self.n_estimators = n_estimators\n",
        "        self.learning_rate = learning_rate\n",
        "        self.min_samples_split = min_samples_split\n",
        "        self.min_impurity = min_impurity\n",
        "        self.max_depth = max_depth\n",
        "        self.regression = regression\n",
        "        self.trees = []\n",
        "        self.square_loss = SquareLoss()\n",
        "\n",
        "    def fit(self, X, y):\n",
        "        # Set initial predictions to be the mean\n",
        "        self.initial_pred = np.mean(y, axis=0)\n",
        "        preds = np.full(np.shape(y), self.initial_pred)\n",
        "\n",
        "        # Loop through the number of trees\n",
        "        for i in tqdm(range(self.n_estimators)):\n",
        "\n",
        "            # Compute the residuals (Note: residuals are negative gradients)\n",
        "            residuals = -self.square_loss.gradient(y, preds)\n",
        "\n",
        "            # Fit tree to the current residuals\n",
        "            self.trees.append(DecisionTreeRegressor(\n",
        "                                min_samples_split = self.min_samples_split,\n",
        "                                min_impurity_decrease = self.min_impurity,\n",
        "                                max_depth = self.max_depth))\n",
        "            self.trees[-1].fit(X, residuals)\n",
        "\n",
        "            # Update predictions\n",
        "            preds += self.learning_rate * self.trees[-1].predict(X)\n",
        "\n",
        "    def predict(self, X):\n",
        "        # Initalize predictions and refine with each tree\n",
        "        preds = np.full(X.shape[0], self.initial_pred)\n",
        "        for tree in self.trees:\n",
        "            preds += self.learning_rate * tree.predict(X)\n",
        "        return preds"
      ],
      "metadata": {
        "id": "7ARQcj4Q3GnG"
      },
      "execution_count": null,
      "outputs": []
    },
    {
      "cell_type": "code",
      "source": [
        "class my_GradientBoostingRegressor(my_GradientBoosting):\n",
        "    def __init__(self, n_estimators=200, learning_rate=0.5, min_samples_split=2,\n",
        "                 min_var_red=1e-7, max_depth=4, debug=False):\n",
        "\n",
        "        super(my_GradientBoostingRegressor, self).__init__(\n",
        "            n_estimators = n_estimators,\n",
        "            learning_rate = learning_rate,\n",
        "            min_samples_split = min_samples_split,\n",
        "            min_impurity = min_var_red,\n",
        "            max_depth = max_depth,\n",
        "            regression = True\n",
        "        )\n",
        "        self.debug = debug"
      ],
      "metadata": {
        "id": "3dx2tJT_4uJt"
      },
      "execution_count": null,
      "outputs": []
    },
    {
      "cell_type": "markdown",
      "source": [
        "### Model fitting and evaluation"
      ],
      "metadata": {
        "id": "kgFskYHwKH_o"
      }
    },
    {
      "cell_type": "markdown",
      "source": [
        "Train the Regressor"
      ],
      "metadata": {
        "id": "xi-TYaSnZ6zL"
      }
    },
    {
      "cell_type": "code",
      "source": [
        "# Split data into features and labels for training and testing\n",
        "X_train = cal_housing_train.drop('median_house_value', axis=1).values\n",
        "y_train = cal_housing_train['median_house_value'].values\n",
        "X_test = cal_housing_test.drop('median_house_value', axis=1).values\n",
        "y_test = cal_housing_test['median_house_value'].values"
      ],
      "metadata": {
        "id": "Zf52_9t84vHm"
      },
      "execution_count": null,
      "outputs": []
    },
    {
      "cell_type": "code",
      "source": [
        "# Initialize a Gradient Boosting Regressor and train it\n",
        "my_gbr = my_GradientBoostingRegressor(\n",
        "            n_estimators=100,\n",
        "            learning_rate=0.1,\n",
        "            min_samples_split=2,\n",
        "            min_var_red=1e-7,\n",
        "            max_depth=3\n",
        "        )\n",
        "my_gbr_start_time = time.time()\n",
        "my_gbr.fit(X_train, y_train)\n",
        "my_gbr_end_time = time.time()"
      ],
      "metadata": {
        "id": "XvcYqGA_yCGF",
        "colab": {
          "base_uri": "https://localhost:8080/"
        },
        "outputId": "778d0d2f-eb38-40e9-cc3c-703c13159087"
      },
      "execution_count": null,
      "outputs": [
        {
          "output_type": "stream",
          "name": "stderr",
          "text": [
            "100%|██████████| 100/100 [00:04<00:00, 21.31it/s]\n"
          ]
        }
      ]
    },
    {
      "cell_type": "markdown",
      "source": [
        "Evaluate Regressor on the test dataset"
      ],
      "metadata": {
        "id": "jHnFqz6DaIwi"
      }
    },
    {
      "cell_type": "code",
      "source": [
        "# Evaluate the RMSE as well as the model training time\n",
        "my_gbr_preds = my_gbr.predict(X_test)\n",
        "my_gbr_rmse = mean_squared_error(y_test, my_gbr_preds, squared=False)\n",
        "print(\"RMSE of my Gradient Boosting Regressor implementation:\", my_gbr_rmse)\n",
        "print(\"Training time of my Gradient Boosting Regressor implementation:\", my_gbr_end_time - my_gbr_start_time, \"seconds\")"
      ],
      "metadata": {
        "colab": {
          "base_uri": "https://localhost:8080/"
        },
        "id": "osGT6Bl9yUYm",
        "outputId": "b108a342-f287-4946-d9b0-7ede272bde53"
      },
      "execution_count": null,
      "outputs": [
        {
          "output_type": "stream",
          "name": "stdout",
          "text": [
            "RMSE of my Gradient Boosting Regressor implementation: 55209.3777250606\n",
            "Training time of my Gradient Boosting Regressor implementation: 4.700582027435303 seconds\n"
          ]
        }
      ]
    },
    {
      "cell_type": "markdown",
      "source": [
        "Evaluate regressor's performance against scikit-learn's and Spark's implementation (using the same set of hyperparameters)"
      ],
      "metadata": {
        "id": "RLfp3p3Ca3jM"
      }
    },
    {
      "cell_type": "code",
      "source": [
        "### Scikit Learn's Implementation ###\n",
        "\n",
        "from sklearn.ensemble import GradientBoostingRegressor\n",
        "\n",
        "# Initialize a Gradient Boosting Regressor\n",
        "sk_gbr = GradientBoostingRegressor(\n",
        "                    loss = 'squared_error',\n",
        "                    n_estimators = 100,\n",
        "                    learning_rate = 0.1,\n",
        "                    min_samples_split = 2,\n",
        "                    min_impurity_decrease = 0,\n",
        "                    max_depth = 3\n",
        "                )\n",
        "\n",
        "# Training\n",
        "sk_gbr_start_time = time.time()\n",
        "sk_gbr.fit(X_train, y_train)\n",
        "sk_gbr_end_time = time.time()\n",
        "\n",
        "# Predictions\n",
        "sk_gbr_preds = sk_gbr.predict(X_test)\n",
        "\n",
        "# Evaluate the RMSE as well as the model training time\n",
        "sk_gbr_rmse = mean_squared_error(y_test, sk_gbr_preds, squared=False)\n",
        "print(\"RMSE of Scikit Learn's Gradient Boosting Regressor implementation:\", sk_gbr_rmse)\n",
        "print(\"Training time of Scikit Learn's Gradient Boosting Regressor implementation:\", sk_gbr_end_time - sk_gbr_start_time, \"seconds\")"
      ],
      "metadata": {
        "colab": {
          "base_uri": "https://localhost:8080/"
        },
        "id": "MpLe_v5mEpjJ",
        "outputId": "35d7c41b-aa44-4546-d049-780935f89d7f"
      },
      "execution_count": null,
      "outputs": [
        {
          "output_type": "stream",
          "name": "stdout",
          "text": [
            "RMSE of Scikit Learn's Gradient Boosting Regressor implementation: 55209.377725060614\n",
            "Training time of Scikit Learn's Gradient Boosting Regressor implementation: 3.566077947616577 seconds\n"
          ]
        }
      ]
    },
    {
      "cell_type": "code",
      "source": [
        "### Spark's Implementation ###\n",
        "\n",
        "import pyspark\n",
        "from pyspark import SparkContext, SparkConf\n",
        "from pyspark.sql import *\n",
        "from pyspark.sql.types import *\n",
        "from pyspark.sql.functions import *\n",
        "from pyspark.ml import Pipeline\n",
        "from pyspark.ml.regression import GBTRegressor\n",
        "from pyspark.ml.feature import IndexToString, StringIndexer, VectorIndexer, VectorAssembler\n",
        "from pyspark.ml.evaluation import RegressionEvaluator\n",
        "\n",
        "# create the session\n",
        "conf = SparkConf().set(\"spark.ui.port\", \"4050\")\n",
        "\n",
        "# create the context\n",
        "sc = pyspark.SparkContext(conf=conf)\n",
        "spark = SparkSession.builder.getOrCreate()\n",
        "\n",
        "# Convert datasets to spark dataframes\n",
        "train_spark = spark.createDataFrame(cal_housing_train)\n",
        "test_spark = spark.createDataFrame(cal_housing_test)\n",
        "\n",
        "# Get features for training\n",
        "features = cal_housing_train.columns.tolist()\n",
        "features.remove(\"median_house_value\")\n",
        "featureAssembler = VectorAssembler(inputCols=features, outputCol=\"features\")\n",
        "\n",
        "# Intialize a Gradient Boosting Regressor\n",
        "gbt = GBTRegressor(\n",
        "        labelCol = \"median_house_value\",\n",
        "        featuresCol=\"features\",\n",
        "        maxDepth=3,\n",
        "        minInstancesPerNode=2,\n",
        "        minInfoGain=0.0,\n",
        "        maxIter=100,\n",
        "        stepSize=0.1,\n",
        "        lossType=\"squared\"\n",
        "    )\n",
        "# Chain indexer and GBT in a Pipeline\n",
        "pipeline = Pipeline(stages=[featureAssembler, gbt])\n",
        "\n",
        "# Training\n",
        "spark_gbr_start_time = time.time()\n",
        "spark_gbr = pipeline.fit(train_spark)\n",
        "spark_gbr_end_time = time.time()\n",
        "\n",
        "# Make predictions\n",
        "spark_gbr_preds = spark_gbr.transform(test_spark)\n",
        "\n",
        "# Select (prediction, true label) and compute test error\n",
        "evaluator = RegressionEvaluator(\n",
        "    labelCol=\"median_house_value\",\n",
        "    predictionCol=\"prediction\",\n",
        "    metricName=\"rmse\",\n",
        ")\n",
        "spark_gbr_rmse = evaluator.evaluate(spark_gbr_preds)\n",
        "\n",
        "print(\"RMSE of Spark's Gradient Boosting Regressor implementation:\", spark_gbr_rmse)\n",
        "print(\"Training time of Spark's Gradient Boosting Regressor implementation:\", spark_gbr_end_time - spark_gbr_start_time, \"seconds\")\n",
        "\n",
        "spark.stop()"
      ],
      "metadata": {
        "colab": {
          "base_uri": "https://localhost:8080/"
        },
        "id": "iWu3DjBRQNgS",
        "outputId": "c23f6110-3906-45e7-cd9d-c76d67e3b965"
      },
      "execution_count": null,
      "outputs": [
        {
          "output_type": "stream",
          "name": "stdout",
          "text": [
            "RMSE of Spark's Gradient Boosting Regressor implementation: 55377.23156039809\n",
            "Training time of Spark's Gradient Boosting Regressor implementation: 77.13829231262207 seconds\n"
          ]
        }
      ]
    },
    {
      "cell_type": "markdown",
      "source": [
        "The results of each implementation of the Gradient Boosted Tree Regressor are summarized in the table below. It can be seen that my implementation and Scikit Learn's implementation had very similar RMSE and training time while Spark's implementation had a slightly lower RMSE but higher training time.\n",
        "\n",
        "| Method              | RMSE        | Training time (s) |\n",
        "|---------------------|-------------|-------------------|\n",
        "| My Implementation   | 55209.38    | 4.70              |\n",
        "| Scikit Learn        | 55209.48    | 5.57              |\n",
        "| Spark               | 55200.07    | 47.10             |"
      ],
      "metadata": {
        "id": "miN3eya8d8Ct"
      }
    },
    {
      "cell_type": "markdown",
      "source": [
        "## Autoencoder\n",
        "\n",
        "Implementation of a simple feedforward antoencoder for images using PyTorch from scratch. The autoencoder has two hidden layers for both the encoder and decoder with a latent space of size 64."
      ],
      "metadata": {
        "id": "2vUMXtMx4zBc"
      }
    },
    {
      "cell_type": "markdown",
      "source": [
        "### Data"
      ],
      "metadata": {
        "id": "IUfY5u16JJ0j"
      }
    },
    {
      "cell_type": "code",
      "source": [
        "import torch\n",
        "from torch import nn\n",
        "from torch.utils.data import DataLoader\n",
        "from torchvision import datasets\n",
        "from torchvision.transforms import ToTensor\n",
        "\n",
        "# datasets\n",
        "minist_training_data = datasets.MNIST(\n",
        "    root=\"data\",\n",
        "    train=True,\n",
        "    download=True,\n",
        "    transform=ToTensor(),\n",
        ")\n",
        "\n",
        "minist_test_data = datasets.MNIST(\n",
        "    root=\"data\",\n",
        "    train=False,\n",
        "    download=True,\n",
        "    transform=ToTensor(),\n",
        ")\n",
        "\n",
        "# dataloader\n",
        "batch_size = 100\n",
        "\n",
        "train_loader = DataLoader(dataset=minist_training_data,shuffle=True,batch_size=batch_size)\n",
        "test_loader = DataLoader(dataset=minist_test_data,shuffle=True,batch_size=batch_size)"
      ],
      "metadata": {
        "id": "QTbdqOI8JPDW",
        "colab": {
          "base_uri": "https://localhost:8080/"
        },
        "outputId": "7701b60c-90d1-4beb-aee0-4f7552400018"
      },
      "execution_count": null,
      "outputs": [
        {
          "output_type": "stream",
          "name": "stdout",
          "text": [
            "Downloading http://yann.lecun.com/exdb/mnist/train-images-idx3-ubyte.gz\n",
            "Downloading http://yann.lecun.com/exdb/mnist/train-images-idx3-ubyte.gz to data/MNIST/raw/train-images-idx3-ubyte.gz\n"
          ]
        },
        {
          "output_type": "stream",
          "name": "stderr",
          "text": [
            "100%|██████████| 9912422/9912422 [00:00<00:00, 143173952.06it/s]"
          ]
        },
        {
          "output_type": "stream",
          "name": "stdout",
          "text": [
            "Extracting data/MNIST/raw/train-images-idx3-ubyte.gz to data/MNIST/raw\n"
          ]
        },
        {
          "output_type": "stream",
          "name": "stderr",
          "text": [
            "\n"
          ]
        },
        {
          "output_type": "stream",
          "name": "stdout",
          "text": [
            "\n",
            "Downloading http://yann.lecun.com/exdb/mnist/train-labels-idx1-ubyte.gz\n",
            "Downloading http://yann.lecun.com/exdb/mnist/train-labels-idx1-ubyte.gz to data/MNIST/raw/train-labels-idx1-ubyte.gz\n"
          ]
        },
        {
          "output_type": "stream",
          "name": "stderr",
          "text": [
            "100%|██████████| 28881/28881 [00:00<00:00, 51372219.60it/s]\n"
          ]
        },
        {
          "output_type": "stream",
          "name": "stdout",
          "text": [
            "Extracting data/MNIST/raw/train-labels-idx1-ubyte.gz to data/MNIST/raw\n",
            "\n",
            "Downloading http://yann.lecun.com/exdb/mnist/t10k-images-idx3-ubyte.gz\n",
            "Downloading http://yann.lecun.com/exdb/mnist/t10k-images-idx3-ubyte.gz to data/MNIST/raw/t10k-images-idx3-ubyte.gz\n"
          ]
        },
        {
          "output_type": "stream",
          "name": "stderr",
          "text": [
            "100%|██████████| 1648877/1648877 [00:00<00:00, 44693912.95it/s]\n"
          ]
        },
        {
          "output_type": "stream",
          "name": "stdout",
          "text": [
            "Extracting data/MNIST/raw/t10k-images-idx3-ubyte.gz to data/MNIST/raw\n",
            "\n",
            "Downloading http://yann.lecun.com/exdb/mnist/t10k-labels-idx1-ubyte.gz\n",
            "Downloading http://yann.lecun.com/exdb/mnist/t10k-labels-idx1-ubyte.gz to data/MNIST/raw/t10k-labels-idx1-ubyte.gz\n"
          ]
        },
        {
          "output_type": "stream",
          "name": "stderr",
          "text": [
            "100%|██████████| 4542/4542 [00:00<00:00, 4042123.65it/s]\n"
          ]
        },
        {
          "output_type": "stream",
          "name": "stdout",
          "text": [
            "Extracting data/MNIST/raw/t10k-labels-idx1-ubyte.gz to data/MNIST/raw\n",
            "\n"
          ]
        }
      ]
    },
    {
      "cell_type": "markdown",
      "source": [
        "### Model"
      ],
      "metadata": {
        "id": "R8eMwlyk3SuF"
      }
    },
    {
      "cell_type": "code",
      "source": [
        "# AutoEncoder Class\n",
        "class my_AutoEncoder(nn.Module):\n",
        "    def __init__(self):\n",
        "        super(my_AutoEncoder, self).__init__()\n",
        "\n",
        "        self.latent_dim = 64\n",
        "        self.input_size = 28*28\n",
        "        self.hidden_dim1 = 512\n",
        "        self.hidden_dim2 = 128\n",
        "\n",
        "        self.learning_rate = 0.001\n",
        "\n",
        "        self.encoder = self.build_encoder()\n",
        "        self.decoder = self.build_decoder()\n",
        "\n",
        "    def build_encoder(self):\n",
        "        # build an encoder with two hidden layers\n",
        "\n",
        "        encoder = nn.Sequential(\n",
        "            nn.Linear(self.input_size, self.hidden_dim1),\n",
        "            nn.ReLU(),\n",
        "            nn.Linear(self.hidden_dim1, self.hidden_dim2),\n",
        "            nn.ReLU(),\n",
        "            nn.Linear(self.hidden_dim2, self.latent_dim)\n",
        "        )\n",
        "\n",
        "        return encoder\n",
        "\n",
        "    def build_decoder(self):\n",
        "        # build a decoder with two hidden layers\n",
        "\n",
        "        decoder = nn.Sequential(\n",
        "            nn.Linear(self.latent_dim, self.hidden_dim2),\n",
        "            nn.ReLU(),\n",
        "            nn.Linear(self.hidden_dim2, self.hidden_dim1),\n",
        "            nn.ReLU(),\n",
        "            nn.Linear(self.hidden_dim1, self.input_size)\n",
        "        )\n",
        "\n",
        "        return decoder\n",
        "\n",
        "    def forward(self, x):\n",
        "        return self.decoder(self.encoder(x))\n",
        "\n",
        "    def train(self, n_epochs=5, save_interval=100):\n",
        "        # We will train with MSE loss and Adam optimizer\n",
        "        criterion = nn.MSELoss()\n",
        "        optimizer = torch.optim.Adam(self.parameters(), lr=self.learning_rate)\n",
        "\n",
        "        n_total_steps = len(train_loader)\n",
        "\n",
        "        # Training loop\n",
        "        lossval = []\n",
        "        for j in range(n_epochs):\n",
        "            for i, (x_train, y_train) in enumerate(train_loader):\n",
        "                #prediction\n",
        "                y_pred = self(x_train.reshape(-1, 28*28))\n",
        "\n",
        "                #calculating loss\n",
        "                loss = criterion(y_pred, x_train.reshape(-1, 28*28))\n",
        "\n",
        "                #backprop\n",
        "                optimizer.zero_grad()\n",
        "                loss.backward()\n",
        "                optimizer.step()\n",
        "\n",
        "                #print batch information\n",
        "                if (i+1) % 100 == 0:\n",
        "                    print (f'Epoch [{j+1}/{n_epochs}], Step[{i+1}/{n_total_steps}], MSE Loss: {loss.item():.4f}')\n",
        "                    lossval.append(loss.item())\n",
        "\n",
        "        return y_pred, lossval"
      ],
      "metadata": {
        "id": "fayvTVhB5V36"
      },
      "execution_count": null,
      "outputs": []
    },
    {
      "cell_type": "markdown",
      "source": [
        "### Model Training and Evaluation"
      ],
      "metadata": {
        "id": "A-mcFb3t3WUj"
      }
    },
    {
      "cell_type": "markdown",
      "source": [
        "Train the autoencoder on the MNIST data for 5 epochs."
      ],
      "metadata": {
        "id": "kCT2U7hdWDKt"
      }
    },
    {
      "cell_type": "code",
      "source": [
        "# Train the autoencoder\n",
        "my_ae = my_AutoEncoder()\n",
        "outputs, losses = my_ae.train()"
      ],
      "metadata": {
        "id": "82Fuww6R6_Yy",
        "colab": {
          "base_uri": "https://localhost:8080/"
        },
        "outputId": "530e4cfb-c737-4057-e7ea-adf29ae39206"
      },
      "execution_count": null,
      "outputs": [
        {
          "output_type": "stream",
          "name": "stdout",
          "text": [
            "Epoch [1/5], Step[100/600], MSE Loss: 0.0375\n",
            "Epoch [1/5], Step[200/600], MSE Loss: 0.0268\n",
            "Epoch [1/5], Step[300/600], MSE Loss: 0.0220\n",
            "Epoch [1/5], Step[400/600], MSE Loss: 0.0203\n",
            "Epoch [1/5], Step[500/600], MSE Loss: 0.0192\n",
            "Epoch [1/5], Step[600/600], MSE Loss: 0.0178\n",
            "Epoch [2/5], Step[100/600], MSE Loss: 0.0159\n",
            "Epoch [2/5], Step[200/600], MSE Loss: 0.0155\n",
            "Epoch [2/5], Step[300/600], MSE Loss: 0.0143\n",
            "Epoch [2/5], Step[400/600], MSE Loss: 0.0137\n",
            "Epoch [2/5], Step[500/600], MSE Loss: 0.0132\n",
            "Epoch [2/5], Step[600/600], MSE Loss: 0.0119\n",
            "Epoch [3/5], Step[100/600], MSE Loss: 0.0122\n",
            "Epoch [3/5], Step[200/600], MSE Loss: 0.0117\n",
            "Epoch [3/5], Step[300/600], MSE Loss: 0.0132\n",
            "Epoch [3/5], Step[400/600], MSE Loss: 0.0118\n",
            "Epoch [3/5], Step[500/600], MSE Loss: 0.0105\n",
            "Epoch [3/5], Step[600/600], MSE Loss: 0.0111\n",
            "Epoch [4/5], Step[100/600], MSE Loss: 0.0107\n",
            "Epoch [4/5], Step[200/600], MSE Loss: 0.0104\n",
            "Epoch [4/5], Step[300/600], MSE Loss: 0.0098\n",
            "Epoch [4/5], Step[400/600], MSE Loss: 0.0100\n",
            "Epoch [4/5], Step[500/600], MSE Loss: 0.0101\n",
            "Epoch [4/5], Step[600/600], MSE Loss: 0.0100\n",
            "Epoch [5/5], Step[100/600], MSE Loss: 0.0092\n",
            "Epoch [5/5], Step[200/600], MSE Loss: 0.0098\n",
            "Epoch [5/5], Step[300/600], MSE Loss: 0.0093\n",
            "Epoch [5/5], Step[400/600], MSE Loss: 0.0087\n",
            "Epoch [5/5], Step[500/600], MSE Loss: 0.0081\n",
            "Epoch [5/5], Step[600/600], MSE Loss: 0.0093\n"
          ]
        }
      ]
    },
    {
      "cell_type": "code",
      "source": [
        "# Vizualize training loss\n",
        "import matplotlib.pyplot as plt\n",
        "%matplotlib inline\n",
        "\n",
        "# Defining the Plot Style\n",
        "plt.style.use('fivethirtyeight')\n",
        "plt.xlabel('Iterations')\n",
        "plt.ylabel('Loss')\n",
        "\n",
        "# Plotting the last 100 values\n",
        "plt.plot(losses)"
      ],
      "metadata": {
        "id": "kFr4COnzV5W3",
        "colab": {
          "base_uri": "https://localhost:8080/",
          "height": 495
        },
        "outputId": "6321572e-b759-406e-f096-e3b0f3e811e2"
      },
      "execution_count": null,
      "outputs": [
        {
          "output_type": "execute_result",
          "data": {
            "text/plain": [
              "[<matplotlib.lines.Line2D at 0x78c8c75f3460>]"
            ]
          },
          "metadata": {},
          "execution_count": 41
        },
        {
          "output_type": "display_data",
          "data": {
            "text/plain": [
              "<Figure size 640x480 with 1 Axes>"
            ],
            "image/png": "[encoded data removed]"
          },
          "metadata": {}
        }
      ]
    },
    {
      "cell_type": "markdown",
      "source": [
        "Next we extract the trained latent representations of the training data and train a simple scikit-learn's random forest model on the representations and evaluate using the accuracy and f1 scores.\n"
      ],
      "metadata": {
        "id": "TLq6MvIUWUsE"
      }
    },
    {
      "cell_type": "code",
      "source": [
        "# Extracting the latent represntations of each input\n",
        "representations = []\n",
        "y = []\n",
        "\n",
        "for x_train, y_train in train_loader:\n",
        "    with torch.no_grad():\n",
        "        latent_representation = my_ae.encoder(x_train.reshape(-1, 28*28))\n",
        "    representations.append(latent_representation)\n",
        "    y.append(y_train)\n",
        "\n",
        "# Converting to numpy\n",
        "representations = torch.cat(representations, dim=0).numpy()\n",
        "y = torch.cat(y, dim=0).numpy()"
      ],
      "metadata": {
        "id": "wdy_UZ5dWM-b"
      },
      "execution_count": null,
      "outputs": []
    },
    {
      "cell_type": "code",
      "source": [
        "from sklearn.ensemble import RandomForestClassifier\n",
        "\n",
        "sk_clf = RandomForestClassifier(n_estimators = 20, max_features = 20,\n",
        "                   min_samples_split = 2, min_impurity_decrease = 0,\n",
        "                   max_depth = None, max_samples = 0.05)\n",
        "\n",
        "\n",
        "# Training the random forest model on the latent representations\n",
        "sk_clf.fit(representations, y)"
      ],
      "metadata": {
        "id": "XLATj218WcQO",
        "colab": {
          "base_uri": "https://localhost:8080/",
          "height": 92
        },
        "outputId": "24af8191-211f-41a2-c7e2-07a9a19a5caa"
      },
      "execution_count": null,
      "outputs": [
        {
          "output_type": "execute_result",
          "data": {
            "text/plain": [
              "RandomForestClassifier(max_features=20, max_samples=0.05,\n",
              "                       min_impurity_decrease=0, n_estimators=20)"
            ],
            "text/html": [
              "<style>#sk-container-id-1 {color: black;background-color: white;}#sk-container-id-1 pre{padding: 0;}#sk-container-id-1 div.sk-toggleable {background-color: white;}#sk-container-id-1 label.sk-toggleable__label {cursor: pointer;display: block;width: 100%;margin-bottom: 0;padding: 0.3em;box-sizing: border-box;text-align: center;}#sk-container-id-1 label.sk-toggleable__label-arrow:before {content: \"▸\";float: left;margin-right: 0.25em;color: #696969;}#sk-container-id-1 label.sk-toggleable__label-arrow:hover:before {color: black;}#sk-container-id-1 div.sk-estimator:hover label.sk-toggleable__label-arrow:before {color: black;}#sk-container-id-1 div.sk-toggleable__content {max-height: 0;max-width: 0;overflow: hidden;text-align: left;background-color: #f0f8ff;}#sk-container-id-1 div.sk-toggleable__content pre {margin: 0.2em;color: black;border-radius: 0.25em;background-color: #f0f8ff;}#sk-container-id-1 input.sk-toggleable__control:checked~div.sk-toggleable__content {max-height: 200px;max-width: 100%;overflow: auto;}#sk-container-id-1 input.sk-toggleable__control:checked~label.sk-toggleable__label-arrow:before {content: \"▾\";}#sk-container-id-1 div.sk-estimator input.sk-toggleable__control:checked~label.sk-toggleable__label {background-color: #d4ebff;}#sk-container-id-1 div.sk-label input.sk-toggleable__control:checked~label.sk-toggleable__label {background-color: #d4ebff;}#sk-container-id-1 input.sk-hidden--visually {border: 0;clip: rect(1px 1px 1px 1px);clip: rect(1px, 1px, 1px, 1px);height: 1px;margin: -1px;overflow: hidden;padding: 0;position: absolute;width: 1px;}#sk-container-id-1 div.sk-estimator {font-family: monospace;background-color: #f0f8ff;border: 1px dotted black;border-radius: 0.25em;box-sizing: border-box;margin-bottom: 0.5em;}#sk-container-id-1 div.sk-estimator:hover {background-color: #d4ebff;}#sk-container-id-1 div.sk-parallel-item::after {content: \"\";width: 100%;border-bottom: 1px solid gray;flex-grow: 1;}#sk-container-id-1 div.sk-label:hover label.sk-toggleable__label {background-color: #d4ebff;}#sk-container-id-1 div.sk-serial::before {content: \"\";position: absolute;border-left: 1px solid gray;box-sizing: border-box;top: 0;bottom: 0;left: 50%;z-index: 0;}#sk-container-id-1 div.sk-serial {display: flex;flex-direction: column;align-items: center;background-color: white;padding-right: 0.2em;padding-left: 0.2em;position: relative;}#sk-container-id-1 div.sk-item {position: relative;z-index: 1;}#sk-container-id-1 div.sk-parallel {display: flex;align-items: stretch;justify-content: center;background-color: white;position: relative;}#sk-container-id-1 div.sk-item::before, #sk-container-id-1 div.sk-parallel-item::before {content: \"\";position: absolute;border-left: 1px solid gray;box-sizing: border-box;top: 0;bottom: 0;left: 50%;z-index: -1;}#sk-container-id-1 div.sk-parallel-item {display: flex;flex-direction: column;z-index: 1;position: relative;background-color: white;}#sk-container-id-1 div.sk-parallel-item:first-child::after {align-self: flex-end;width: 50%;}#sk-container-id-1 div.sk-parallel-item:last-child::after {align-self: flex-start;width: 50%;}#sk-container-id-1 div.sk-parallel-item:only-child::after {width: 0;}#sk-container-id-1 div.sk-dashed-wrapped {border: 1px dashed gray;margin: 0 0.4em 0.5em 0.4em;box-sizing: border-box;padding-bottom: 0.4em;background-color: white;}#sk-container-id-1 div.sk-label label {font-family: monospace;font-weight: bold;display: inline-block;line-height: 1.2em;}#sk-container-id-1 div.sk-label-container {text-align: center;}#sk-container-id-1 div.sk-container {/* jupyter's `normalize.less` sets `[hidden] { display: none; }` but bootstrap.min.css set `[hidden] { display: none !important; }` so we also need the `!important` here to be able to override the default hidden behavior on the sphinx rendered scikit-learn.org. See: https://github.com/scikit-learn/scikit-learn/issues/21755 */display: inline-block !important;position: relative;}#sk-container-id-1 div.sk-text-repr-fallback {display: none;}</style><div id=\"sk-container-id-1\" class=\"sk-top-container\"><div class=\"sk-text-repr-fallback\"><pre>RandomForestClassifier(max_features=20, max_samples=0.05,\n",
              "                       min_impurity_decrease=0, n_estimators=20)</pre><b>In a Jupyter environment, please rerun this cell to show the HTML representation or trust the notebook. <br />On GitHub, the HTML representation is unable to render, please try loading this page with nbviewer.org.</b></div><div class=\"sk-container\" hidden><div class=\"sk-item\"><div class=\"sk-estimator sk-toggleable\"><input class=\"sk-toggleable__control sk-hidden--visually\" id=\"sk-estimator-id-1\" type=\"checkbox\" checked><label for=\"sk-estimator-id-1\" class=\"sk-toggleable__label sk-toggleable__label-arrow\">RandomForestClassifier</label><div class=\"sk-toggleable__content\"><pre>RandomForestClassifier(max_features=20, max_samples=0.05,\n",
              "                       min_impurity_decrease=0, n_estimators=20)</pre></div></div></div></div></div>"
            ]
          },
          "metadata": {},
          "execution_count": 44
        }
      ]
    },
    {
      "cell_type": "code",
      "source": [
        "# Make predictions with Random Forest Classifier\n",
        "test_data = []\n",
        "test_labels = []\n",
        "\n",
        "# Get latent representations for each test input\n",
        "for x_test, y_test in test_loader:\n",
        "    with torch.no_grad():\n",
        "        latent_representation = my_ae.encoder(x_test.reshape(-1, 28*28))\n",
        "    test_data.append(latent_representation)\n",
        "    test_labels.append(y_test)\n",
        "\n",
        "# Convert to numpy\n",
        "test_data = torch.cat(test_data, dim=0).numpy()\n",
        "test_labels = torch.cat(test_labels, dim=0).numpy()\n",
        "\n",
        "# Predict with Random Forest Classifier\n",
        "y_pred_sk = sk_clf.predict(test_data)"
      ],
      "metadata": {
        "id": "rXa8blUNAAVq"
      },
      "execution_count": null,
      "outputs": []
    },
    {
      "cell_type": "code",
      "source": [
        "# Print classification report\n",
        "from sklearn.metrics import classification_report, ConfusionMatrixDisplay\n",
        "print(classification_report(test_labels, y_pred_sk))"
      ],
      "metadata": {
        "colab": {
          "base_uri": "https://localhost:8080/"
        },
        "id": "s8jP-ebkBBxD",
        "outputId": "fd1c7746-79af-485d-e842-54f5916e7166"
      },
      "execution_count": null,
      "outputs": [
        {
          "output_type": "stream",
          "name": "stdout",
          "text": [
            "              precision    recall  f1-score   support\n",
            "\n",
            "           0       0.90      0.96      0.93       980\n",
            "           1       0.95      0.98      0.96      1135\n",
            "           2       0.89      0.90      0.90      1032\n",
            "           3       0.85      0.88      0.86      1010\n",
            "           4       0.88      0.91      0.89       982\n",
            "           5       0.88      0.82      0.85       892\n",
            "           6       0.93      0.94      0.93       958\n",
            "           7       0.92      0.91      0.91      1028\n",
            "           8       0.87      0.83      0.85       974\n",
            "           9       0.88      0.84      0.86      1009\n",
            "\n",
            "    accuracy                           0.90     10000\n",
            "   macro avg       0.90      0.90      0.90     10000\n",
            "weighted avg       0.90      0.90      0.90     10000\n",
            "\n"
          ]
        }
      ]
    },
    {
      "cell_type": "markdown",
      "source": [
        "The accuracy was 0.90 and the average f1-score was 0.90.\n",
        "\n",
        "The below table summarizes the accuracy and f1-score on the test set for the random forest classifiers we implemented in the assignment and in the lab.\n",
        "\n",
        "It can be seen that this model that uses the latent representations performs better than both our own random forest implementation as well as spark's random forest implementation that we used in the lab. It would be difficult to assess the differences in the performances in between these models as our current model was implemented with scikit learn and from the lab we also saw that scikit learn outperformed the other implementations. Therefore it is likely that the increase in performance was due to scikit learn's optimizations rather than the use of the latent representations.\n",
        "\n",
        "However, this model performed slightly worse than the scikit learn's random forest model that was used in the lab. This slight decrease in performance on scikit learn's model could be because our latent representations might be too small or not fully optimized to represent our input data well, leading to decreased accuracy.\n",
        "\n",
        "| Model                           | Accuracy  | F1-Score  |\n",
        "|---------------------------------|-----------|-----------|\n",
        "| A2 with latent representations  | 0.90      | 0.90      |\n",
        "| Lab2 Our Implementation         | 0.79      | 0.79      |\n",
        "| Lab2 Scikit Learn               | 0.92      | 0.92      |\n",
        "| Lab2 Spark                      | 0.83      | 0.83      |"
      ],
      "metadata": {
        "id": "BfAipudDXJuk"
      }
    },
    {
      "cell_type": "markdown",
      "source": [
        "### Experiments\n",
        "\n",
        "Experiments with different hidden layer and latent space dimensions for the AutoEncoder."
      ],
      "metadata": {
        "id": "ZtwGchoH3c4z"
      }
    },
    {
      "cell_type": "code",
      "source": [
        "# Changing latent space dimensions and retraining the autoencoder.\n",
        "\n",
        "# Create a new child AutoEncoder class\n",
        "class my_AutoEncoder_2(my_AutoEncoder):\n",
        "    def __init__(self, latent_dim, hidden_dim1, hidden_dim2, input_size=28*28, learning_rate=0.001):\n",
        "        super(my_AutoEncoder, self).__init__()\n",
        "\n",
        "        self.latent_dim = latent_dim\n",
        "        self.hidden_dim1 = hidden_dim1\n",
        "        self.hidden_dim2 = hidden_dim2\n",
        "        self.input_size = input_size\n",
        "        self.learning_rate = learning_rate\n",
        "\n",
        "        self.encoder = self.build_encoder()\n",
        "        self.decoder = self.build_decoder()"
      ],
      "metadata": {
        "id": "PxqXUBIeXMk6"
      },
      "execution_count": null,
      "outputs": []
    },
    {
      "cell_type": "markdown",
      "source": [
        "The autoencoder was retrained with 3 different latent space dimensions and it was found that the MSE loss decreased as the latent space dimensions increased (the results are summarized in the table below). This makes sense because with a larger latent space dimension, we are able to encode more of the original image information.\n",
        "\n",
        "| Latent Dimension | Hidden Layer 1 Dimension | Hidden Layer 2 Dimension | MSE  |\n",
        "|------------------|--------------------------|---------|---------|\n",
        "| 128              | 512                      | 256     | 0.0075  |\n",
        "| 32               | 512                      | 128     | 0.0107  |\n",
        "| 16               | 512                      | 128     | 0.0135  |"
      ],
      "metadata": {
        "id": "tE2-U8QvXaoV"
      }
    },
    {
      "cell_type": "code",
      "source": [
        "ae_1 = my_AutoEncoder_2(latent_dim=128, hidden_dim1=512, hidden_dim2=256)\n",
        "outputs, losses = ae_1.train()"
      ],
      "metadata": {
        "id": "D81jUKGZXaH2",
        "colab": {
          "base_uri": "https://localhost:8080/"
        },
        "outputId": "4fd79089-ba68-40bc-f528-7b9f26b4ea5b"
      },
      "execution_count": null,
      "outputs": [
        {
          "output_type": "stream",
          "name": "stdout",
          "text": [
            "Epoch [1/5], Step[100/600], MSE Loss: 0.0399\n",
            "Epoch [1/5], Step[200/600], MSE Loss: 0.0281\n",
            "Epoch [1/5], Step[300/600], MSE Loss: 0.0241\n",
            "Epoch [1/5], Step[400/600], MSE Loss: 0.0189\n",
            "Epoch [1/5], Step[500/600], MSE Loss: 0.0181\n",
            "Epoch [1/5], Step[600/600], MSE Loss: 0.0164\n",
            "Epoch [2/5], Step[100/600], MSE Loss: 0.0143\n",
            "Epoch [2/5], Step[200/600], MSE Loss: 0.0149\n",
            "Epoch [2/5], Step[300/600], MSE Loss: 0.0136\n",
            "Epoch [2/5], Step[400/600], MSE Loss: 0.0127\n",
            "Epoch [2/5], Step[500/600], MSE Loss: 0.0118\n",
            "Epoch [2/5], Step[600/600], MSE Loss: 0.0119\n",
            "Epoch [3/5], Step[100/600], MSE Loss: 0.0107\n",
            "Epoch [3/5], Step[200/600], MSE Loss: 0.0100\n",
            "Epoch [3/5], Step[300/600], MSE Loss: 0.0104\n",
            "Epoch [3/5], Step[400/600], MSE Loss: 0.0098\n",
            "Epoch [3/5], Step[500/600], MSE Loss: 0.0091\n",
            "Epoch [3/5], Step[600/600], MSE Loss: 0.0086\n",
            "Epoch [4/5], Step[100/600], MSE Loss: 0.0085\n",
            "Epoch [4/5], Step[200/600], MSE Loss: 0.0090\n",
            "Epoch [4/5], Step[300/600], MSE Loss: 0.0085\n",
            "Epoch [4/5], Step[400/600], MSE Loss: 0.0090\n",
            "Epoch [4/5], Step[500/600], MSE Loss: 0.0085\n",
            "Epoch [4/5], Step[600/600], MSE Loss: 0.0083\n",
            "Epoch [5/5], Step[100/600], MSE Loss: 0.0081\n",
            "Epoch [5/5], Step[200/600], MSE Loss: 0.0077\n",
            "Epoch [5/5], Step[300/600], MSE Loss: 0.0078\n",
            "Epoch [5/5], Step[400/600], MSE Loss: 0.0074\n",
            "Epoch [5/5], Step[500/600], MSE Loss: 0.0072\n",
            "Epoch [5/5], Step[600/600], MSE Loss: 0.0075\n"
          ]
        }
      ]
    },
    {
      "cell_type": "code",
      "source": [
        "ae_2 = my_AutoEncoder_2(latent_dim=32, hidden_dim1=512, hidden_dim2=128)\n",
        "outputs, losses = ae_2.train()"
      ],
      "metadata": {
        "id": "MVJAYzFDXBvc",
        "colab": {
          "base_uri": "https://localhost:8080/"
        },
        "outputId": "99bff818-b36d-425c-9aeb-df6821719d67"
      },
      "execution_count": null,
      "outputs": [
        {
          "output_type": "stream",
          "name": "stdout",
          "text": [
            "Epoch [1/5], Step[100/600], MSE Loss: 0.0412\n",
            "Epoch [1/5], Step[200/600], MSE Loss: 0.0293\n",
            "Epoch [1/5], Step[300/600], MSE Loss: 0.0250\n",
            "Epoch [1/5], Step[400/600], MSE Loss: 0.0215\n",
            "Epoch [1/5], Step[500/600], MSE Loss: 0.0206\n",
            "Epoch [1/5], Step[600/600], MSE Loss: 0.0190\n",
            "Epoch [2/5], Step[100/600], MSE Loss: 0.0184\n",
            "Epoch [2/5], Step[200/600], MSE Loss: 0.0162\n",
            "Epoch [2/5], Step[300/600], MSE Loss: 0.0150\n",
            "Epoch [2/5], Step[400/600], MSE Loss: 0.0156\n",
            "Epoch [2/5], Step[500/600], MSE Loss: 0.0145\n",
            "Epoch [2/5], Step[600/600], MSE Loss: 0.0126\n",
            "Epoch [3/5], Step[100/600], MSE Loss: 0.0133\n",
            "Epoch [3/5], Step[200/600], MSE Loss: 0.0143\n",
            "Epoch [3/5], Step[300/600], MSE Loss: 0.0140\n",
            "Epoch [3/5], Step[400/600], MSE Loss: 0.0131\n",
            "Epoch [3/5], Step[500/600], MSE Loss: 0.0142\n",
            "Epoch [3/5], Step[600/600], MSE Loss: 0.0119\n",
            "Epoch [4/5], Step[100/600], MSE Loss: 0.0116\n",
            "Epoch [4/5], Step[200/600], MSE Loss: 0.0118\n",
            "Epoch [4/5], Step[300/600], MSE Loss: 0.0122\n",
            "Epoch [4/5], Step[400/600], MSE Loss: 0.0115\n",
            "Epoch [4/5], Step[500/600], MSE Loss: 0.0114\n",
            "Epoch [4/5], Step[600/600], MSE Loss: 0.0116\n",
            "Epoch [5/5], Step[100/600], MSE Loss: 0.0112\n",
            "Epoch [5/5], Step[200/600], MSE Loss: 0.0111\n",
            "Epoch [5/5], Step[300/600], MSE Loss: 0.0109\n",
            "Epoch [5/5], Step[400/600], MSE Loss: 0.0105\n",
            "Epoch [5/5], Step[500/600], MSE Loss: 0.0110\n",
            "Epoch [5/5], Step[600/600], MSE Loss: 0.0107\n"
          ]
        }
      ]
    },
    {
      "cell_type": "code",
      "source": [
        "ae_3 = my_AutoEncoder_2(latent_dim=16, hidden_dim1=512, hidden_dim2=128)\n",
        "outputs, losses = ae_3.train()"
      ],
      "metadata": {
        "colab": {
          "base_uri": "https://localhost:8080/"
        },
        "id": "suUIgB83kpbw",
        "outputId": "48f8d3eb-0942-476c-a319-f7c901cff916"
      },
      "execution_count": null,
      "outputs": [
        {
          "output_type": "stream",
          "name": "stdout",
          "text": [
            "Epoch [1/5], Step[100/600], MSE Loss: 0.0417\n",
            "Epoch [1/5], Step[200/600], MSE Loss: 0.0310\n",
            "Epoch [1/5], Step[300/600], MSE Loss: 0.0264\n",
            "Epoch [1/5], Step[400/600], MSE Loss: 0.0251\n",
            "Epoch [1/5], Step[500/600], MSE Loss: 0.0226\n",
            "Epoch [1/5], Step[600/600], MSE Loss: 0.0218\n",
            "Epoch [2/5], Step[100/600], MSE Loss: 0.0203\n",
            "Epoch [2/5], Step[200/600], MSE Loss: 0.0201\n",
            "Epoch [2/5], Step[300/600], MSE Loss: 0.0175\n",
            "Epoch [2/5], Step[400/600], MSE Loss: 0.0172\n",
            "Epoch [2/5], Step[500/600], MSE Loss: 0.0174\n",
            "Epoch [2/5], Step[600/600], MSE Loss: 0.0159\n",
            "Epoch [3/5], Step[100/600], MSE Loss: 0.0164\n",
            "Epoch [3/5], Step[200/600], MSE Loss: 0.0165\n",
            "Epoch [3/5], Step[300/600], MSE Loss: 0.0156\n",
            "Epoch [3/5], Step[400/600], MSE Loss: 0.0168\n",
            "Epoch [3/5], Step[500/600], MSE Loss: 0.0140\n",
            "Epoch [3/5], Step[600/600], MSE Loss: 0.0149\n",
            "Epoch [4/5], Step[100/600], MSE Loss: 0.0145\n",
            "Epoch [4/5], Step[200/600], MSE Loss: 0.0145\n",
            "Epoch [4/5], Step[300/600], MSE Loss: 0.0140\n",
            "Epoch [4/5], Step[400/600], MSE Loss: 0.0145\n",
            "Epoch [4/5], Step[500/600], MSE Loss: 0.0142\n",
            "Epoch [4/5], Step[600/600], MSE Loss: 0.0145\n",
            "Epoch [5/5], Step[100/600], MSE Loss: 0.0135\n",
            "Epoch [5/5], Step[200/600], MSE Loss: 0.0133\n",
            "Epoch [5/5], Step[300/600], MSE Loss: 0.0136\n",
            "Epoch [5/5], Step[400/600], MSE Loss: 0.0152\n",
            "Epoch [5/5], Step[500/600], MSE Loss: 0.0142\n",
            "Epoch [5/5], Step[600/600], MSE Loss: 0.0135\n"
          ]
        }
      ]
    }
  ]
}