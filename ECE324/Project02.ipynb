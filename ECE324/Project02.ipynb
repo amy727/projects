{
  "nbformat": 4,
  "nbformat_minor": 0,
  "metadata": {
    "colab": {
      "name": "ECE324_Project2.ipynb",
      "provenance": [],
      "collapsed_sections": [],
      "toc_visible": true
    },
    "kernelspec": {
      "name": "python3",
      "display_name": "Python 3"
    },
    "language_info": {
      "name": "python"
    }
  },
  "cells": [
    {
      "cell_type": "markdown",
      "source": [
        "# ECE324 Mini-Project 2\n",
        "\n",
        "Amy Chen, 1005915495"
      ],
      "metadata": {
        "id": "4caCLijNWCN1"
      }
    },
    {
      "cell_type": "code",
      "execution_count": null,
      "metadata": {
        "id": "E-EffOxvV8d4"
      },
      "outputs": [],
      "source": [
        "# Import\n",
        "import pandas as pd\n",
        "import torch\n",
        "from torch import nn\n",
        "import numpy as np\n",
        "import matplotlib.pyplot as plt"
      ]
    },
    {
      "cell_type": "markdown",
      "source": [
        "## Recall@K\n",
        "The following function is used to calculate the Recall@K averaged across users for Parts 1 and 2. "
      ],
      "metadata": {
        "id": "Eo8rWZqrBtWP"
      }
    },
    {
      "cell_type": "code",
      "source": [
        "# Function for Recall at k\n",
        "\n",
        "def recallAtK(k, embedding, Adj_mat, n_users, n_movies):\n",
        "    \"\"\"\n",
        "    Calculate Recall@k \n",
        "\n",
        "    Inputs:\n",
        "    - k - value of k for Recall@k\n",
        "    - embedding - learned embeddings of the nodes\n",
        "    - Adj_mat - the adjacency matrix\n",
        "    - n_users - number of users\n",
        "    - n_movies - number of movies\n",
        "\n",
        "    Outputs:\n",
        "    - The average recall@k\n",
        "    \"\"\"\n",
        "\n",
        "    recallAtk_vals = []\n",
        "    \n",
        "    n = n_users + n_movies\n",
        "    movie_idxs = [i for i in range(n_users,n)]\n",
        "    movie_embeddings = embedding(torch.tensor(movie_idxs))\n",
        "    \n",
        "    for u in range(n_users):\n",
        "        \n",
        "        user_embeddings = embedding(torch.tensor(u))\n",
        "        results = torch.matmul(user_embeddings, torch.t(movie_embeddings))\n",
        "        \n",
        "        # Ru\n",
        "        rec_items = np.argpartition(results.detach().numpy(), -k)[-k:]\n",
        "\n",
        "        # Pu\n",
        "        pos_items = np.where(Adj_mat[u,:]==1)[0]\n",
        "\n",
        "        # Pu \\intersect Ru\n",
        "        pos_and_rec_items = np.intersect1d(rec_items, pos_items)\n",
        "\n",
        "        # Calculate |Pu \\intersect Ru| / |Pu| for each user u\n",
        "        if len(pos_items) > 0:\n",
        "            recall = len(pos_and_rec_items)/len(pos_items)\n",
        "            recallAtk_vals.append(recall)\n",
        "        else:\n",
        "            recall = 0\n",
        "        #print(len(pos_and_rec_items), len(pos_items), recall)\n",
        "\n",
        "    return np.mean(recallAtk_vals)"
      ],
      "metadata": {
        "id": "EyuA7pbzFICq"
      },
      "execution_count": null,
      "outputs": []
    },
    {
      "cell_type": "markdown",
      "source": [
        "## Part 1: Directly Learning Embeddings\n",
        "In this part, we directly learn the embeddings based on the function provided (see Equation 1)."
      ],
      "metadata": {
        "id": "i-GO4DV5OJgA"
      }
    },
    {
      "cell_type": "markdown",
      "source": [
        "### Data Preprocessing\n",
        "The data is loaded into a panadas dataframe and each of the unique movies and users are re-indexed starting from 0. The data is then split into a 90% training dataset and a 10% testing dataset based on the timestamp (the newest timestamped data are used for testing). As well, the adjacency matrix for the training and testing data is created where an edge is created only when the user gives the movie a 5.0 rating."
      ],
      "metadata": {
        "id": "PW1TZP7UBezY"
      }
    },
    {
      "cell_type": "code",
      "source": [
        "# Load Data\n",
        "ratings = pd.read_csv(\"http://www.cs.toronto.edu/~guerzhoy/324/movielens/ratings.csv\")\n",
        "#ratings.head()"
      ],
      "metadata": {
        "id": "sFT-Q2gxWQFf"
      },
      "execution_count": null,
      "outputs": []
    },
    {
      "cell_type": "code",
      "source": [
        "n_movies = len(ratings['movieId'].unique())\n",
        "n_users = len(ratings['userId'].unique())"
      ],
      "metadata": {
        "id": "TE8XkCQLz9oF"
      },
      "execution_count": null,
      "outputs": []
    },
    {
      "cell_type": "code",
      "source": [
        "# Re-index movies\n",
        "data2movieIdxs = {}\n",
        "movieIdxs2data = {}\n",
        "i = 0\n",
        "for dataIdx in sorted(ratings['movieId'].unique()):\n",
        "  data2movieIdxs[dataIdx] = i\n",
        "  movieIdxs2data[i] = dataIdx\n",
        "  i += 1\n",
        "\n",
        "ratings['movieId'].replace(data2movieIdxs, inplace=True)\n",
        "\n",
        "# Re-index users\n",
        "data2userIdxs = {}\n",
        "userIdxs2data = {}\n",
        "i = 0\n",
        "for dataIdx in sorted(ratings['userId'].unique()):\n",
        "  data2userIdxs[dataIdx] = i\n",
        "  userIdxs2data[i] = dataIdx\n",
        "  i += 1\n",
        "\n",
        "ratings['userId'].replace(data2userIdxs, inplace=True)"
      ],
      "metadata": {
        "id": "1GB9ite54-qc"
      },
      "execution_count": null,
      "outputs": []
    },
    {
      "cell_type": "code",
      "source": [
        "# Split into Training and Testing sets by timestamp\n",
        "N = len(ratings)\n",
        "N_train = int(N*0.9)\n",
        "N_test = N - N_train\n",
        "\n",
        "ratings.sort_values(by=['timestamp'])\n",
        "ratings_train = ratings.head(N_train)\n",
        "ratings_test = ratings.tail(N_test)\n",
        "\n",
        "assert(len(ratings_train) + len(ratings_test) == N)"
      ],
      "metadata": {
        "id": "hHsDy-Lqlhb8"
      },
      "execution_count": null,
      "outputs": []
    },
    {
      "cell_type": "code",
      "source": [
        "# Get adjacency matrix for training\n",
        "adjacency_mat_train = np.zeros(shape=(n_users,n_movies))\n",
        "for row in ratings_train.itertuples():\n",
        "    userId = row[1]\n",
        "    movieId = row[2]\n",
        "    rating = row[3]\n",
        "    if rating == 5.0:\n",
        "        adjacency_mat_train[userId,movieId] = 1\n",
        "#print(adjacency_mat_train)\n",
        "\n",
        "# Get adjacency matrix for testing\n",
        "adjacency_mat_test = np.zeros(shape=(n_users,n_movies))\n",
        "for row in ratings_train.itertuples():\n",
        "    userId = row[1]\n",
        "    movieId = row[2]\n",
        "    rating = row[3]\n",
        "    if rating == 5.0:\n",
        "        adjacency_mat_test[userId,movieId] = 1\n",
        "#print(adjacency_mat_test)"
      ],
      "metadata": {
        "id": "yYDdLu1MQD6x"
      },
      "execution_count": null,
      "outputs": []
    },
    {
      "cell_type": "markdown",
      "source": [
        "### Learning the Embeddings\n",
        "The embeddings are initialized such that the embedding for each user and movie is a size of 10. Training is done for a total of 20 epochs using the SGD optimizer with a learning rate of 0.001."
      ],
      "metadata": {
        "id": "SDGKQQyDD5aL"
      }
    },
    {
      "cell_type": "code",
      "source": [
        "# Parameters\n",
        "learningRate = 0.001\n",
        "numEpochs = 20\n",
        "\n",
        "# Initialize Embeddings\n",
        "n = n_users + n_movies\n",
        "d = 10\n",
        "embedding = nn.Embedding(n, d, max_norm=0.5) \n",
        "\n",
        "# SGD optimizer\n",
        "optimizer = torch.optim.SGD(embedding.parameters(), lr=learningRate)"
      ],
      "metadata": {
        "id": "F4UHj-lUMDTY"
      },
      "execution_count": null,
      "outputs": []
    },
    {
      "cell_type": "markdown",
      "source": [
        "To directly learn the embeddings, we want to maximize Equation 1 below:\n",
        "![image.png](data:image/png;base64,iVBORw0KGgoAAAANSUhEUgAAAiwAAABjCAYAAAC45lt5AAAAAXNSR0IArs4c6QAAAARnQU1BAACxjwv8YQUAAAAJcEhZcwAAEnQAABJ0Ad5mH3gAAC19SURBVHhe7Z0PTJPpnu+/53pSzpJT4wlkzKlxY3cmljXX6kQar1SJdNgBnSgzO8DsUoY9VCYLuAvMZABz+HPuAbxH6skIZK1slJqDYBTIFZgoJavlXJeS45SNWnNMa0ZLZi69GQM5xt7DXhrNe5/n7VsoyH8LFPx9Jp2379v68rZ9fr/3+/s9v+d5fiQwQBAEQRAEEcb8F2lLEARBEAQRtpBgIQiCIAgi7CHBQhAEQRBE2EOChSAIgiCIsIcEC0EQBEEQYQ8JFoIgCIIgwh4SLARBEARBhD0kWAiCIAiCCHtIsBAEQRAEEfaQYCEIgiAIIuwhwUIQBEEQRNhDawktgtHuQiRV2aS96WhRcaMeKW9JuwRBEASxTnE0xMLQLO28QibMg0VQS3uhgjIsS2GTEqodqmmPaMg3SK8TBEEQxHpm0/R7IHtsj4JMenk5oAzLIpjIsGSZMVgQau1IEARBEGuYp10oPFwNG2VYCIIgCIJ4UyHBQhAEQRBE2EOChSAIgiCIsIcEC0EQBEEQYQ8JFoIgCIIgwh4SLARBEARBhD0kWAiCIAiCCHtIsBAEQRAEEfaQYCEIgiAIIuwhwUIQBEEQRNhDgoUgCIIgiLCHBAtBEARBEGEPCRaCIAiCIMIeEiwEQRAEQYQ9JFgIgiAIggh7SLAQBEEQBBH2kGAhCIIgCCLsIcFCEARBEETY8yOBIT0PPffqEJvTIu0sH4rcVnTnqKS95WO0uxBJVTYgy4zBArV0lJifUXQVJKF6QNpdNnSouWlE8iZplyDWPA7UxRqw7F5UkY/WawaoNkj7BLEUnnah8HA1bMiEebAIob5LLq9geelBV3Eqqm/7pAMyaCs7UH9UIe0vkJc+eL3j8D1z44nLCZvNgq4bDnill1fqRkWCZen4mHjVM/HqlvaxjTXoZtagI6X9BeLzejH+0guPyw2nywbrlU7Yngba18qJV4JYKTzM76QyvzPhReMr0HE6BYpFigvfM2Y7vhG43S44bf2w3LDA8Ux6kaE72QdjklzaI4glsMyCZXm7hDYokFJZg+SJm5IPtqpadHmk3YWyQQb5JjmitqmhSUpHUZUZfXd6YT6RApV4bivabi72pMRKIttdhJrjSmmPMdSC8kb7hBNeKDK5nLUFBVR7tUjJKkH9jQH0ddQjf6/f0Xqau2Bf7EkJIoxRHK1BTZJM2mNe9HY1arsX7+9kzIfK31JCvTcZ6V/UwHxzEL0XSpCy3X9u65UekBclwpnlr2HZpENlQyYmb1U2VBfUwTEm7S6VDVFQp1ag9fo5GJjBOZotcL2UXiPCElVWPSriJx2v53IhipfgeKcj36aF4Wwfuit1kI+1ob1vMvdG+OBqLkF57xt8K/JYUF7cAtfr+pxVQw5dWSMyt0m7DNvJQtTde31lHrU7HRWXenEuRwXZgxZYHkovEMCYCy3F5bC8wabju2dG4SkrPGFyb12RolvZ7nxU5EyNrqsvOBYdXc+IXIP8C8yYZRfQNUihdVjDM24nKqENzrj9dgkZt1lQHDWitVKL/pBGiryGIBax8QlIiGfbBod0fC3gg6NBj+x7WuQnLrIbdj2hSEb+ATuys0IQKK0WkWrk/8oQFPi50VJjCs3n2SCHJvciGrMicOH64rOes8K7B7jtJDLbYdvC7lHphTXAGLP7rGzYD+Qj+Q02HdnuTByLPIfU4q6wEC0rNEpIBvVnU6Nrd3Muim+EqAFzYy7PgbuvH+FgEqN3zCjJSEIcM9K4w3rknWqDY6YLezkKe3M5DIeToM9KQ9JhA4zdLnhnaBjeRxbUfZGEpFQ99Oz9acVm2J9KL64l3krG6eCM2xjPuDHHGyIvqfigFJVbbbA+DJXbVaNocBB9v9bBu8Zudr6BOuR2qFBTufh6h/WG2K2iakPuSWtQ7dvaQrYzH/VMkE94URb45ZZbQuTzmI/OqUDOUB/6Q+VE30pBPbOd1izFGvvOWSDVkIs2FWszi623XHewdnG8BjnfVaOw2SUdWz1Wblgzj66/LJ0aXZ+qCll0LdttwLkTOkRJ+6uFWCB39ac4ZurFwJ0+XDRsgbPDCMNHhVM/q1iQfAR53dHIu9qL1uZ29P5rCoZ/q4fh7NTsEy9YNWRUwX3gIno7WtH6dQdKtvYgL3XaOdcIYsYtKzjjZkZ1Y4gybqydJVfVI3PHpDgOBfKfrbFiRJ8DJiaUY44fg45GTTHk0H1WhJjecpy7E7IcworDBXlpUODnu12FqhB0q4qwwM9wtgS6EDvR6E3R0rO1ge+eCbUdMSj6TMdaDYENKmR+kY7hs7Vo+146tkqsnGDhKFJw+qtMTGhWMbo2r5/aE68VpionNLExiOYtfYMcqlSm0lOZg+GftcEyEWl4+5hR3PYh/Yt8aAJWsTUF+dkKuJur0fJIOvbShZaaFrh3FKHoI+mb4ync7Dwks3PWnl2LESNX7fWoiJN2GTzjVnWTak9CxailCS0eHdKTgoThm862Q0hP9KGtsXPtFpfywK+GCfIJJ8oHMhTCHPAXxGsyih5zCzyJ6TgUVDP0piPbm4IchQN1V0LYZbgEVlawMGSx+aiZEl2bUD4to7BmeewAT9BavzKgaaKeRgZN/If+pzf7YRfvyV7Y+yzsMysQHT01E6DYygeCudFpk9Jvj23oHGLbrdGYEqfIt+CvmNPy9Vqlc86Nd8iN0fmE4agb7pXSDGI9S8WUjJulqnxNZozCDw9uXbMB8TpoKLsShBzaxGTggQX9qxwpvhaRGuRXBQ9kcMP0yzVcnxNOfH8LXQOANl5D2ZVgNqigZQGz7+s+3F/Fm/WKCxZ/dF2D/CD1yqPruoF1IFm268QRS7K3kqFWTgoRWWTguRfe/+RbNxy9fKtE1LQbijzaL0s8D5jAYNtR531/NLg5epoBRSNK/A6tcHJBMyc+uC0lSC2zzF445elC4Ucl6Blawd9BkYKaymTWIiR4FqqsDe41lnET64uK05AWVF9k+/7V79H7qAvGHH8dUhp7n+FUGyy8uzCRFyaWhG40wlM7bA8A1V7VqneRhhvyd9RQwQHb3XCodls6M00TkNswOVfLmiBQw5eaNlnD1+F4NbDi77tQItqMPoPbTwnMvRaYv+B1gnHQh6o7mTF618ZaB7s57yDLmY5StZ/56E7YVnEk2SoIFgZTa4aGqdF124nitR9d8+LfywMYuFGD5LekYwzPt9LIkkgVlPz4qGdyArXZ+NaDEbYZ9tj9+7Pig+eH+dIivOjZDKOiaeZqby5W/q4FyoZW5O+cmvFZbuSJlWgMzrg9MKJkDWXcPDdKcDSjCfjEjHZeX3Tjaxhj76P4I/3UYadDbSjMqEb/jhp8zd7X3lED9YAR5e0KlJqKoHxmh/3bOX7Hl164eusmirljZ3joL/tble9bF2xsq3l7ju4gdhOwNRjE0RtxhwvR8oD/bV5XFrc6ozlW6nq2KqFhG9tD55ppY7MxfZoAX0dxSKYJWBHGHDB9egSF9zSoudrur+G7dAy4YsCRKT6KtYHTR5DXOI7MC71ovdyLi/pxmMrK8eTIRdQcZeHfbQeGpXfPiNcFS0MJCybiZrSb2Fg9WsSgzwfnQ9FyoNzK92dhzI22Mr8dJmQbYeHZupfsWPbRkAw1Xyy+x20oFz9bAguCpKCU+RvD0bqQDWbgyLap2Dfjg901791r2VgdwcKZKbo+FR5Dp0LKS2YsV/yCRZn9nn/mv5fj4v6ceJ5DfJdv/hbnHVtAq+R1L8fNqN/WMlW0BImVot0rK1b8zJRxK4dpLQxRf9qF2korvKlFyI8N5L9kUH5ShKIdbrRUTo5+cnQz58G2uniNv81HaqA9yLaPTegZy0T7YB+7+cyShB5zwfyPLLos68LIO4eQmZEMtZSZUyUZYMjhjxIUSfUq3hHuvhXYuFHcnQEfHOdzmRDwQrGDiWjYUcecbVrGEZQ/LUXpBysdXa7g9WzYiI28/sMzsgZrv6bBu1VDMTHnisN+7wvlMD9SoqggaARblBZFX6T7J8a7LonUpz1o62BGFKuDRqrbUexlz9nWcs2OXZUsQLwc3D02Fd9DMwwf6FHePQJlYiYyD6ulTLUKydmS7ZwowiFRoHgxwr87BWsjs46qG4WlnAUjd6OhZG01+nsmFvTMNj8xoP1d5sdW2oc+taA4uw72TUqodkTD3VGO1CN6pOW0Q12VD3UoL0cuFzO2rnkD5OVj9QQL45XoeqAahWEcXf/pnpQL+4/H/u0C8HSbYGLqXZ5Yg/qsVZ4yfrpo+X61xYrEKxk3D1q+CP+Mm7uvzZ/JUCknhbeIEjGxbONpgUUUXqNwfyu16h/7N5wI8bkP7u/myCDw0WTl2TA90qDiWh/MVUwc8VlKG/LF4nX35v3Iz81nj3RopPv68BC/qle7GycZYf9lorWbR7Y8K/R7tBerMRL5CRprQjQEetSOtkb2/czQNfYqK3A9E0hdqQPuuaPytcJyTcy5nPjssDRz4341kyF7RwUt29o6bvmz0B63aGPcwCL4lsPsRrS3+X5DFowV55rgjK1Ad68ZNV/ki7OkN+aKloNoLbcb9kjVIEpsY8Nw8/XOtkVNrRcMxjuM57tPo+Nr1k5ZW23v7UX9kY3wqStQf1w9zQ8sDd9jC1qau2aeCmMaXhbYamo60HuZX087+nrr8WGkD+oT9aH36XKpjvJbf7nCjIzchf8u+R9Y+F1y4ayqYBGj69wKGKZE19UwrUJabTngw5ELT9pYxF2PjpPJk453w4TpzU6g7kW2gEYXdBOcF0m0nP65CUc/MmHLKfPqipUAihRUngiaY4KPgPptOGfcRuG64y+Mls3xe3Y6nOz/cii2Sp/shX/DGRefy7Bl8+zlfYHRZOqCUqQEO/foKPEm5ZvLecyKArpcaVmLl17YG7ORe1eH1n81SEtdvC5eWL/Kg/GCEYXHWzD/7A3LfT1LhHfjZemhX8SjsGPl0+XLOjHncuC6j07pacRsYvShDS7esKMU/qw0+zATeWlmN+Jn26mYXVjwNni2FrYxNYo+nyp6o98SLWfuQGE25GqkZ2n95+PBRFkGTPISmMt0IRLWLrR8Xo66hmoYvpp/BKh8dzoy46XUEwtASz414acnzKhYpxNFrrJgYcjUyJ8SXbvRYmybv8Yj3OHqvqANimIWNRZrJQUvwYwwyL3MzO4t2MI2WxQ8+Tk3SsUiU+YeK9q+3gjN3o3o7AifaZejDp+eknHz3a5Fky18E/d+wTE3/h49GTQpOeJvbr0tDQscs8P2e7bdloOU2NkE4yhsN/hoMi1SAk4pwHdS5LlNsfTCWtHhpuJcRCkT1KHMZMixKz4ZUUx0qw7Hzt/WAyzb9SyRbemo5xmfRTzqUxf8aUMIr1GbPjFnLdrmLcZfJV76/DYwD+PcL209hEy+jtKgFXYp4+q5w56zz5ysPyRmGWdk1IauXvZX4lLw3rQszpNvRctZvN8MxmuH6dNiOBIuojVXA3nI2qoSsR/xbis5dNoYqftqfryDJuhLHdD9a2tQ9/T6Y/UFC4dF16VfStF1pBYVv529T3JNwBpzXUEdIk50oP6TQHeBG20sAvM7ESXUSXxrx/APfDvJqMcv1RTvxog3oqiYXX6jHPJMi6SHMXyPb5Ohfls8sDCYCi/U+7uBzp1tReP0mpZVhTnenIqJNVOUWY0ona2uY9WJglKanM43Q01SQMxo3+Gyk71n/P+xiFAH9cNyHOGjhFLL4YirQOvFuZb0H4bzNtsodiEmqIib47pnZf+XIV27y38gCPlm3vXInPVcgirgcBMvwpzNHKR0DaND7hlnWl4sUUk16L09wJz5AtPky3w9k7Dfit8tdygWfDNYE0yZmJOvin96ytpDYcXWGLHbhyOKkmAC2ZPAAAW25/vPLdAmRaAlxz9KKLs1Avlnv0ZN4hy/4PdOUdAH/OgEL114wAOFyHRoX1lKWA7FDrZhFzBnlSHzoSWfnMNPyi+iIkmSTC+9cA8tIWPzCswHZpvRN9gH4+FZ5dgUPN0lSG38CSovVCA5IM68brhDPRN6wM8ppo9YXTnCQ7BMoERmw2mkLOx3WnkC3TNz9ejwNSiyjfDmtk5tcM9cGHyo5Jl8hhyaeB3b+pgOmZpBGBEFiwIf7pXqXd7W4kN+Gj5qKNi4n3kwxPupE/dPTjw3H0Fixd8NxIyjINxEix++hH6o+oSXC7XOnzWx33FMS90yZ8HFZGQyUuL87tJpa4F7ZxpqLvSKsxW335BWG5/zt4vwF4hO71N/ZsWlZg/7jkqROUN2ZqOcv9s+u8Pigpq10f/7Tw1TUsejfUZkf9nnH0bvscJYXAjD0QRUBxaT5I46q8Q/KiKULOB6+OyjhccNOJpYja7bLSg5Xo66kwYkHK6G9QG71oISGNl+3LzDw0fgHmSb6I2YtSZ5jcOF/ulwnlI+SosUcfVpKx5M6y/0DblYy2WfITBAYdSOntvR0B03ijbDRwn18qkA9s6THYncKAZ6yqipnUbevku44GGC7stMaF4xHdYm+NsH3ayVzAL3ocetiK1rhCEwmzYfwXe1HPrz90U/4HvI2mdxHgzx+okJQL13TMjLMoV8JXnPtULk3oxFgymo+9TrQkuZHk0Ov916bpSjMIfZRoYZll4j8oqN4jQMCdktsD9g11pQzWw9jb0+z9pU0uhWvur3rH55w0+k15anLzcsBMvogBGFVR4cOrUMhUIh5Gc73vE/+a+zpDTEAslctLCosOvE0alD5xLLYVX8FbZINyh5YpGYwrWeb5qc+I0Zg4ndiJRZNcjkSp/Dp0Xmk0R5LsAUGLLI+/mbm2Dl2aiC5IWpXW5oU8RKgDASLXy4IPv+2jbl42LIiy1fk0C24kVQ7LU9E0Zed3OzCecGJqMrz7U61D2UQ3cif2JafLFr77IRJV+ZYGqUHh0W2O+5MTqrE1MhQc/c9oAV/YGbsNcB85esLW2f/TuKeseflXN7Zoj4+JT92YWwq7QYNx9BbDxfx0ovDvlMKrZDV54J1YZRdJ1qQfRn+UjexNqaJMjcA22w8oq6UIZXC7oeDzrrXdBlp2DLsy7UdsqQd7oGRZ+lQP2UiahfD0L7K/bdlhUhnYm5pptzdChLTlexU7n0rrRwZNTGRFs1PInGsBP64y/9DXwyE8lso7ge6ds8uHChDe7ATZJn2b5qg2y7ARWfSAHbJgWUkXbUVlZP2k1jCxOtdrjmKuh+OwGZOwHbzf4Jn+Z9YGb3GStijl+cRdBFQblTtBzMZDp8RE6hvg6+OCUGfxnHfDqfP0aPtKQE6BuB0uM6yHl7Pu1E8vFMxIy5YHWIchuOPjPsz34yx+ijxTN6oxCpZ33Yv20Q5XGxSODzQGUxIZKgh+nHpchPYIbqs6PFHI3MLDV8j0xMxGhRc6oERXot+z7qUHiR2dKpCiawmIB7ZEbXncDNaAZ+GBbFpO6dOfo/fvbX8N8l/xqLSfwvGGGVGb97Rkjds08o6BqWjoQvI10Fwp49e4Q99felI9Ngn0V8fbbHb/qFcemtIi9GhG/OFwuph94XMj5NFVI/LhbOWJzC8xfS60E8d3UKtcfeF97/OEPI+DhVyK64JHzzg/TivIwIt2pyhaa7U/76NMaF++dzhVrriLS/wrwYFjo/3yfs+fiMcP/P0rGw4L5wZobf8sxd6WXGyB8uCWX5/Pdjvw37LVO/PCP0uJ5Lr0r8qV+off/V84iPAxlC1Wzf+4vnwv3fLayNTDD+jVB7YI+wb4Z26jSzc7DjYktg33lPTYawj13DwV/UCp2Bax5/IvT8rl8YcTUJR/akCmcd/N3PhVu/ZNf6i6tCKC11wddz7pbgtNWy7ytVaHL5Dwvuq0IG8x1l/ya97/ktoYz922LLtO8+GGaj+9i/qf3DXLawxvgza6Mfs9/7805heK52sdL80CkUBNr4xKNA6Az4redOoae+WPRnvG2/fyhbKPvdN8LItM/wpDV72jkmHwfzLwnO2X7K5/eFS1/y8/p95ox2OY3xP9SK7SPYvv3w9n9w8j7Fz51/kF3DPuH9z5smffHIN8Kl605h5N/KmF0XCD3icafQdGSPcIT5/7n/+iL4E2vr77HvMnA5jktC7nvsOznwvlBwPug75NfTfl+4fyWDvVYm3PqT//D4dFsSbf2I0PRHaX8G/Pe/bOHqd9KBmZj4zZkflw6FktUVLMPswzHHOuGwwpx5BQuxRJhYqk8VDTxggOsKSUAc+c2tqc74xbgw8sdOoYrdbPYcYAYespvNuPCNkYm/I02C8zXO6TQfYQJSOseLb0ThdmQVbVW8niPse5Iu4Dm/KQQ5UL8TDrohzoDzPDvHgVrhm/WiV8JW6IeG4XYuVgqES9OFxp+HhW/OZYvitqArhEFWwFbPO6UDS8Ev7vf98pZfoLD7XG6or3NRSMHGP3ey0NWP35ZqhX7pa33CBU2Qbb3Kc6GnlJ1jvoBlmQXL6nUJ8X7rME1hEiuL51oxcjvkyG8M4/ql1+GhDW1jgC5RN3W02AYZonak4JheI3aHuUNRsycig+aDHCg8nQgsSbV43Ljf54EiPhZKfs2PH8DKz7szAvZmC1wh7oufHw+cdzyQ7VQjsOqF02EBFPuxS2wzPthvtwE7tdDAhpbbMxSyvHTB1u2BMjtlhvqFNQjvGj5biOrvDsHYUAT1ag4BXxZG2W/qECeN022f1g8ZqYDmszyks6e2oRDOqCPTICVLAU+3bemL8vocGOwFNHt3ib2n3od22KGERjkCy2X7EqYheE1eOsWlYJQTBch+W8IONdTi1+qG/boLijgNtgxZ0CXOMj2NZzZYb84zMmsFWB3BIham5qHtLytQH7Lx68RaxNNdiNSTHqQ3BBWxrTd2HkLRdhnavqqDbVohrPdhG2rPMHeWdQyHpo0Eei12ZKI0dQQmJi7m6JWeAy9GhoDxyAgxmHAP3mJuTgP1z5xo63sO+Ur/VF4n7INADHO6/luXf7SHIk7l9x+jVrR1AOoPdmHkShNzwdNucAzvzSaYnqWjKFAfsabxwXHWgLwOBSoaKqBbj0Kf3V51H6VAPliHug7X1NFiPg9sXxnRwuv4Ul8Z7vNaqDJKkf7MhKalrh7v9YoT2kVEcCNhv9MAF9ZaqLw9aPrOt/LBuRhsMIGnkhqJZEvqWGnW3wc9qHuowP74aPT/Sxu88ldtx9VhgnVnEY7xuphVZOUFS6AwFZkhncXS98CMvEqLf4QDsSYQJ9arskNTGcpi61FYKg0wh9Pkg7xw+lIvLv6DDD2/lhZJ5MV6qWnIveiBrqEX7QWhzjLKoC2oR+bDKpxb0sKianx4Ihm4UovqUyU4N6JB8lsOtNVbEZ313spHWUNDsEWqkRwr/eVRN5weFrXulQTMJjUOJcox8j9rmW85hmPaaY71mRW1J93IbCgKmvNp7eLpLkZuM0I7qtLngPl4eegW4QwB8oQK9N0wIvbbJuR+4i9y1WcwG/pFNXo2F6H9en3os7JMBBV9lQnnyXOwLWXG4CgdjuWqYT9fDWNlOWyb0qEes6HO7EbK3678KtCjbic82/ZDu0P6y5It6dTSCKq39yNz+wi73ibY45lYmz4c/pEZ5c1KVJxM92dbVxOpa2hlePFc+IbXKnxcK/SHsjvvhVNo+nieYrsQQDUsIeQ7Xr+0Tyi48iSkNREjljJh32vWbqwreJ1YUHHeG4lY5xFUMLnGeW7nAxVShVpbaGsinOeZby7tCV1h6BpnmPn7g+FWyLzSiAXdqcKZOQdsBLF+aliCU5gl0IZqTCEfClucDdOQDrq9q5uuIhYIX3BRXw1PaiNOT0ys9/rw4fG5ZRZEH9XOMRnbG4YiBfU3aiaGV7+ZREP3617Uh/PcJAuEZyUNuW1QVNajRJrj5/XxwX21ENmNbugStCueAQhXFEfr0ftr3RzT/78B/FiJY83tYTPdyIoJlpCnMPnMgrfNyDuaBuNtH5Ca8oY75TUCr18qqIY9NoQTwz11oO2kHkcK+JIOKmQmrocahRAik0O+7goyF8EGGeQrXnSzDIjLfbQAIZwYzjtkg/l4EtJO25hsSUfKKtcohBsyuRyyNzn4CTPfsSKCJTAxXHrj0hfa8z3zwvvUDccdC9pOlYiT9aR9YYL9GX9VhvQEadl+InwJTAz3lxXoOL3E+iUfawesLXge2mHrNqE8Jwlxhw0wXnMxh8vYmYL94TolOUEslcDEcKnnmMBYotAf47YzCvc9OywdRpSkJiAhtRAmabIw2ScJ62P0FLFu+RHvF5KeLws8hanPaWGR7zKiyEfrtbnWZAkNo92FSKqysQjHjMGC0Famr3t4sXVxKqp5NmwZ0Z3sgzGJokRiHcGzklkGtCzrYoYK5Dd3wxCYYZsglsLTLhQeroYNmTAPFvmXVwghy5theWoRU5jLKlYYCqpZCHN8cJwvXHaxwuQK1TER64xRWMTlPqTd5ULxIbTUk0qEOcueYVlPUIaFIAiCIGZhTWdYCIIgCIIgQgAJFmJ98dIH70Inexrzwreaq1MTRDixCHvwecl2iJWHBAsRlrguG6DPSEJcbCxiYwthmViAw422gjQkiMcTkJZVgq7vpZfGHDDlFKJ9aIG1Ms+sKD5SDas40owg1ho+OBoMqJNG+YiMWmHksygncvuIRVyjQ3oB8A7UQX84zn/8sB55Z+0Tyzb47plgKG6He1w6MB+Pm5D9acvS19shiCVAgoUIS1QZZrSWHEJEJB9naUPPnYBiUSK9oR3GDBm0la1obzYiZSs/7oOtoRCDH5QsfE0iRQpqvhhH+edttKQDsfZggrvldix07wYVmkfpUNLcgExmA7JIZhWX+xGQLPK4IrReKIVmWyYaO1px7rg0TTyfNv7LQSQXG6Ba4Jwbst1FqPybLmSL87cQxMqwPILlqR0tlSUoOVUHU6Np4tF2b4mLSRFvJG6XHcrUdOjYc1tLT9BoMzfc92KgfTdo8qyHLagd0OFYolI6sDDkCZ8iZ9QI01IXOiOIVcJ17RJG/u4Q1NP1uc8J19AhpCcx+xgzoytodJ5vyIXhWA2UQcLEdbkW/QnHcGiR8xepPjqG/R21aHkkHSCIZWbhguWlB9ZTJSjMOYqEKquUSuRza+hRcmMyPhXnXfmlHap/MsJ4ogj5ufkTj/Td/kjAx24uJcV5MMTrJxq7944JeVkm2IPl+vcWGI+XwNhoRGGGEbbgzOedFpQXFKL6KyPyUg1oe8wO8i6BL9h5jyag5IIZ5cXVqM5NQ3Wf9A9feuFoLkFeZR3qygwwXF3uAdfEK3hdsDTw34CJhCAxa+qbnuPwwu3wQh1/DGmfMI/8yISeB9JLoy7Ynu3Hrgm94oP9+gUgTgf1Ymc73qCC9iMFLN3WlV/2nSAWQ3AgeCoPBde3QD3S82ogyERJ/zY1Ps3KFEdpdHVOtm2noxMx70qr9HJ8dnQ1A/sTgo4tlE1aJCd5YLJMdjsRxHKyYMEyep0p6c3HkP83cngHB8HuJcww+tHW52JOX2rqrPHX1Yzg2P/Ih2a2pfJ9TFScdiL5eCZixlywOviNygdHnxn2Zz/BxsB8Ki9d4sqhI0crUKKPRfT/7oR1kP9R9t4Lehw56cT+E/Wo+KIEFfoItNx2wXOjDq6DBqQovLBaRnDoIyUcg27Y7zhEgeW9WQ1DRwyKflWEFBUTL+22ZZ8jZj3C+7sLjxtwNLGaRW9MfLLfqe6kAQmHq2F9YIWxgIlMth+XWDJ15Ve+htA/tmE8uQLnqkqmiNn8hGlTjb90wvHvGqjflkPzN+mQsd/dfF1KP7udsMdum5wpl73X9rVvqiNm73QxcVrCrjMuI9DX7oX9bB70jXb/eSRUO3XAgB33p/l9gggpLOizlBXCkB0H/UULLEx0cPHBZ5w1XLaLwVRhFZ+Blr3e6JjSRqcHgu9tfo6YrCIUBQWCATx/tCMiVo2ore8hJY4duN2GW2Kdlwfue0zkvBP0/oc2dI7FQB1YyZezwOAUzNpiYjXAzUGwuwBBLDsLFCw+PI/Q4NgHgK3VBeXhZGhY+/Z+62ANVY3YQGN32NAfn479s4kVjncc0WmfYte3LDKI1CI9nt+o3HANAIo41eRN6Jkb95ltWM9Xo64XSG/tRWk8+zvfd6Ku0YUth9OhY//U970NLe3jSNduQcSOPBTFshvVIKD8IAXavemob27FxWL/gl5udz+zuwuoPdUCxztG9DZnYnEdCAR3XJ31LuiyU7DlWRdqO2XIO12Dos9SoH7ahZJfD0L7K+Z0y4qQ/syKppsBSehBW1kXdv33UqRsD3KOs/H4Aay71djF37rzEHJ4M+mwwj4GuJgo0uzeNSlORt1wjymg2BwhHfCLqlpXMvL0MfA9soptiYvlvot2eH+8cerU5tEKqODA0P+R9gliGfANtqBpcyaO7WQ+6mwTHPE1ovjIjGfB01eFaIrIw+nKEpRmaeC60IX+gICeHggyu7r0b8wfJ04T+SJeOAeHoVVvYc+joPuAd6g60PXvzA69TOh7tFCLNV9+Rr9zw6dgthPURbSg4FQiejPzoJ4nGCaxT6wACxQsMiiTMqF9xtS4R4lDOv9aFk6HhakMNWI2+9816mFGMWTBheBUf9BDTF1GaZB5WIH7fRbIDjBRwQ3Qww2JiYwdMZM3oSgdik4kQ8kLy5ja1+vPwT7ORMdAFzM/ZmDefvHvdD6UI81kRub2nyJqhwbKp3Z0ste17zJD2iCDYocKUZIIUqedRiaLRpzX6lBdkIbiKdECsSB849i4NwUxPhfsTO7l5Kb7+8PHxjHCWkVybp5/JW7vCNtnv+lmaa1Tjx198hQmVhZWEDvqvI+Id2OYy2VsUCE5S0xuo+33DjjvRmBXTNBKtazd2dhmo1ig68c7Ho30f9gF9/U2yJiIfo87aZ4qZ21j/45pjj4yAtFMUD35jrwusXx4WdtLi4/A8D3mUZPykCeutiwNw9+Wg/xU/8rlI0yAQ7EFWwIiYlog6Oo4B2/mp1DPVCD7kq+3poZ6m98W5AlpSGfvczX2wPHYAdtONZRBJjg8JFoOIiaOLTA4lZCJNkdin1gZFlV06757Cx6FFrFicZYLD37PGmysGhEscrA88iEqZhc7rsYnwan+oMdE6pJFuoO9gGavP0r2PrSLNz+NcgSWy3aMvvTA1nwBPVH5aL85iO4yLbsh2uFmRuH9gScfY3DoM+mcScwAg+oWeKGmL5J3JQRZJcP3sAum9mHozvRi4PY5ZLJ7lvOhU0p3EgtGpmSihEVtrn7mVANtIeDQYqBW+X9j34NBWKBlwlH6zZ+6YffacXWaiJ14TKlh8bHfxg2NalJYKBKl4tvGcjQNaaD6uf/4bETtzUTyz+/D2iuD7rBWFD48Ve5h7UwVnBIniBWCt8n0t0fgeDjp+yayy7GB7LKbBXMe1t5joZQCrSmBYKUBepsKqu+uTtjOlBqW71nwt5UFkQGfKNMgJYvZ0ZgZ5ZVWKFkQMHfrX1hwShCrwaIEi/dPzHDGJTX+2I5b7B6j2R0N5xUrnv8FO7g9BfmoRdNAcO/rDHi9GGabCPFEPjgGuDFoofL2oOk7H2QPLShvaMeDUf+kAHIWAct2p0DDomTlzhRmQOMYD/oTnmslKLzqZmcahesOEzSBroQJRmFtrkbLbQ+8vJYhYiOLKZgxHgjqViAWgQfOOx7IgqI1v0MLFML6YL/dBuzUQgOb+L3jbTWSHyuwf5qInXhMqWHhTnxav/omLXSJbOvxwLODRZDBP9wm3qXzKn7RpIFGfDNPldtZJKuB8pkFLRPDpAMosHGmiJUgQonLwdqkcjJDKGWXJ+qvhuzoesjsJHYL3De6xO6YyUAwB/ujgWT951NsJ7iGhQcOXu0u1ponUcV9KO4z03kluyjfPPMCQvMFp1OJxk//QnpKEMvIogSL+mglkjdcQu1JI0oaR6BJioLjSh2smzP9KXcWxybXNELRqkdeswOjs+mWKB2O5aphP18NY2U5bJvSoeZzAZjdSPlbDeQ7klGRqsT43S6YTpWgxLYNp3+VCRW7OcoTSnGxAGgpLUddo1EcCdQZeQw1Yjr1OZ6Pa5D+0X5/V8IEUdBlFbFblxs2dr3lBU0YyalAUfzUdxELhPeFD3InG4jW/A5togZp1Iq2DtZePtiFkStN7Ftn75LvR3pGH+oWMjKLi2HETMmcsRNA9xEvvmXnZY5z0kUzoqLZLcCD4Wkd6d5noiz2C+wxB2y97BrjVfBamuB5KSktzg/DsLP3KTZPOStBhBxefwXFZIbQn12e7GpxWOrgYsJfG90PU7uXBWvsoBQImi62oO4u850Js/ktf/Cn3jZVlID508ydbMvOqwqqX+FER/EalOFXalDmDU4lxOxPpBLRix2dRxBLgS9+uBw8d38jdP7urHD23OTj6t3n0qtrk5GuAmHPnj3Cnvr70pE3FEeTcPBAtnDVLe2P9AjFe1KFKuuIf//FsNBTelA48vfZQnF9vzD8wn+YH79Vky1k1/QIT/4sHZvCE+Fqfobw/gH2He/ZJ7z/97XCLemUIi+cQtORI8KZu+PSgQDs3326R0j93RNpX+LP94WmXxwUUr+sFcrY48xvsoWDH2cI2Z9fEpxBpxi5zn7Xj88K96efliBCygizC9ZOf9MvBDzh/fMHhX3HJtvj+N2zQsaBVCH7yzLh6h+DGuSfvxFq398jvG/sF0ZmaKfP/1etkPHxQb9/ei9VKGh1CsFve24pFvb8cye7gmm4rwoZzHYvfSvtBxjuEcoOHWS2WisUf3lGOPPL94WDzJ4Lam5NOcf9c/uEfZ/3vHpe4s3kh06hgLfBPWeE5bhL/oj/T9IuxDzQas2hwedxwTpwC094VW4A1YevDm1eBJ4OA45eT0b3xfQp6fD58cJaloBzW81ozfX31xNE2DHUhrwaH/LKVXDftmM4aL2s6P/26StDmxeOB23ZR2H5oBvm1MXanwvmo9m4n/s16g9TtppgLPNqzSRYFgEJljBmzAZjci2iL3TDsF06thC4gaVaobtSj5Sl6yWCWEa4qM6FI+0iinaHXlL7Bow4eCoaF7sNM9aCzQafGya1BqhpZjcmqv8iOMssWBZVw0IQYUukFkUNOvT8ZjHrArEbQX0boitLSawQ4cujdjT9ZzrSdy5P/k8WV4TGxB7UdizccvjEni1GBz6syiexQqwYJFiIdQNfkK1ePwTTtQUU9jJGb1+C7d1KlM44ARdBhAlvZ6LxVMrkpJohRwb18XpkfmtC15B0aE58cHV04XluzcIXGiWIEEBdQouAuoQIgiAIYhaohiV8mBAsM6JFxY16pMy1LAFBEARBrAMcDbEwNEs7r0A1LKtPZDRUO1SzPKIhX7aULUEQBEGEEZtmug8GHtKSLCGGMiwEQRAEQYQ9lGEhCIIgCCLsIcFCEARBEETYQ4KFIAiCIIiwhwQLQRAEQRBhDwkWgiAIgiDCHhIsBEEQBEGEPSRYCIIgCIIIe0iwEARBEAQR9pBgIQiCIAgi7CHBQhAEQRBE2EOChSAIgiCIsIcEC0EQBEEQYQ8JFoIgCIIgwh4SLARBEARBhD0kWAiCIAiCCHOA/w9b+RfJKRy+vQAAAABJRU5ErkJggg==)\n",
        "\n",
        "Therefore in our training loop, we calculate the negative of the above function as our loss and optimize based on that."
      ],
      "metadata": {
        "id": "hNTr09TSPIYy"
      }
    },
    {
      "cell_type": "code",
      "source": [
        "# Training Loop\n",
        "train_losses = []\n",
        "for i in range(numEpochs):\n",
        "    \n",
        "    optimizer.zero_grad()\n",
        "    max_func = 0 # Initialize function we want to maximize\n",
        "    \n",
        "    # Loop through users\n",
        "    for u in range(n_users):\n",
        "\n",
        "        # Get the embedding indices of the movies that are in N(u) \n",
        "        pos_movie_idxs = np.where(adjacency_mat_train[u,:]==1)[0]\n",
        "        pos_movie_idxs = pos_movie_idxs + n_users\n",
        "\n",
        "        # Get the embedding indices of the movies that are not in N(u) \n",
        "        neg_movie_idxs = np.where(adjacency_mat_train[u,:]!=1)[0]\n",
        "        neg_movie_idxs = neg_movie_idxs + n_users\n",
        "        \n",
        "        # Get the embeddings \n",
        "        z_u = embedding(torch.tensor(u)) # embedding for z_u\n",
        "        z_pos_m = embedding(torch.tensor(pos_movie_idxs)) # embedding for z_m's for m in N(u)\n",
        "        z_neg_m = embedding(torch.tensor(neg_movie_idxs)) # embedding for z_m's for m not in N(u)\n",
        "        \n",
        "        # Calculate the value in the square brackets [*] from Equation 1 \n",
        "        max_func_u = 200 * torch.sum(torch.log(torch.sigmoid(torch.matmul(z_u, torch.t(z_pos_m))))) - torch.sum(\n",
        "            torch.log(torch.sigmoid(torch.matmul(z_u, torch.t(z_neg_m)))))\n",
        "\n",
        "        # Update the value of the function\n",
        "        max_func += max_func_u\n",
        "\n",
        "    # Calculate loss as the negative of Equation 1\n",
        "    loss = - max_func\n",
        "    train_losses.append(loss.detach().numpy())\n",
        "\n",
        "    # Calculate Recall@150 based on the training set\n",
        "    recallAt150 = recallAtK(k=150, embedding=embedding, Adj_mat=adjacency_mat_train, n_users=n_users, n_movies=n_movies)\n",
        "    \n",
        "    # Optimize\n",
        "    loss.backward()\n",
        "    optimizer.step()\n",
        "\n",
        "    # Print results for the epoch\n",
        "    print('Epoch %04d  Training Loss %.4f  Recall at 150 %.4f' % (i + 1, loss.detach().numpy(), recallAt150))\n",
        "\n",
        "# Plot Training Loss \n",
        "plt.title(\"Training Loss\")\n",
        "plt.plot(train_losses, label=\"Training Loss\")\n",
        "plt.xlabel(\"Epoch\")\n",
        "plt.ylabel(\"Loss\")\n",
        "plt.legend(loc='best')\n",
        "plt.show()"
      ],
      "metadata": {
        "id": "RehHSx53MDVW",
        "colab": {
          "base_uri": "https://localhost:8080/",
          "height": 660
        },
        "outputId": "6df3c2a2-7f75-4dde-b066-0d2897bd9c52"
      },
      "execution_count": null,
      "outputs": [
        {
          "output_type": "stream",
          "name": "stdout",
          "text": [
            "Epoch 0001  Training Loss -2397192.2500  Recall at 150 0.0114\n",
            "Epoch 0002  Training Loss -2440352.5000  Recall at 150 0.0369\n",
            "Epoch 0003  Training Loss -2479457.2500  Recall at 150 0.0909\n",
            "Epoch 0004  Training Loss -2532858.5000  Recall at 150 0.2135\n",
            "Epoch 0005  Training Loss -2609016.2500  Recall at 150 0.4522\n",
            "Epoch 0006  Training Loss -2718285.7500  Recall at 150 0.5941\n",
            "Epoch 0007  Training Loss -2849215.5000  Recall at 150 0.5567\n",
            "Epoch 0008  Training Loss -2966731.5000  Recall at 150 0.5377\n",
            "Epoch 0009  Training Loss -3054100.2500  Recall at 150 0.5233\n",
            "Epoch 0010  Training Loss -3112884.7500  Recall at 150 0.5224\n",
            "Epoch 0011  Training Loss -3150344.0000  Recall at 150 0.5201\n",
            "Epoch 0012  Training Loss -3173689.7500  Recall at 150 0.5165\n",
            "Epoch 0013  Training Loss -3188155.2500  Recall at 150 0.5136\n",
            "Epoch 0014  Training Loss -3197116.0000  Recall at 150 0.5115\n",
            "Epoch 0015  Training Loss -3202723.5000  Recall at 150 0.5100\n",
            "Epoch 0016  Training Loss -3206301.2500  Recall at 150 0.5067\n",
            "Epoch 0017  Training Loss -3208623.5000  Recall at 150 0.5038\n",
            "Epoch 0018  Training Loss -3210178.0000  Recall at 150 0.5003\n",
            "Epoch 0019  Training Loss -3211241.7500  Recall at 150 0.4976\n",
            "Epoch 0020  Training Loss -3211997.2500  Recall at 150 0.4936\n"
          ]
        },
        {
          "output_type": "display_data",
          "data": {
            "text/plain": [
              "<Figure size 432x288 with 1 Axes>"
            ],
            "image/png": "[encoded data removed]"
          },
          "metadata": {
            "needs_background": "light"
          }
        }
      ]
    },
    {
      "cell_type": "markdown",
      "source": [
        "### Test Results\n",
        "The test set resulted in an average Recall@150 of 49.26%. "
      ],
      "metadata": {
        "id": "hSiUnv9qCGnn"
      }
    },
    {
      "cell_type": "code",
      "source": [
        "# Test Results\n",
        "recallAt150 = recallAtK(k=150, embedding=embedding, Adj_mat=adjacency_mat_test, n_users=n_users, n_movies=n_movies)\n",
        "print(\"Testing Recall at 150:\", recallAt150)"
      ],
      "metadata": {
        "id": "OeL5zXoNJvKB",
        "colab": {
          "base_uri": "https://localhost:8080/"
        },
        "outputId": "b526f5cd-7005-4c1c-8398-da3faed50823"
      },
      "execution_count": null,
      "outputs": [
        {
          "output_type": "stream",
          "name": "stdout",
          "text": [
            "Testing Recall at 150: 0.4926157884961942\n"
          ]
        }
      ]
    },
    {
      "cell_type": "markdown",
      "source": [
        "## Part 2: Node2Vec\n",
        "\n",
        "In this part, we implement the Node2Vec algorithm to learn the graph embeddings."
      ],
      "metadata": {
        "id": "BKhndRHXSZo_"
      }
    },
    {
      "cell_type": "markdown",
      "source": [
        "### Data Preprocessing\n",
        "\n",
        "Similar to Part 1, the data is loaded into a panadas dataframe and each of the unique movies and users are re-indexed starting from 0. The data is then split into a 80% training dataset, 10% validation dataset, and a 10% testing dataset based on the timestamp (the newest timestamped data are used for testing). As well, the adjacency matrix for the training and testing data is created where an edge is created only when the user gives the movie a 5.0 rating. For the training set, a probability matrix is also created to be used for the negative sampling based on the degree of each node."
      ],
      "metadata": {
        "id": "qcJiOG2r1JhG"
      }
    },
    {
      "cell_type": "code",
      "source": [
        "# Load Data\n",
        "ratings = pd.read_csv(\"http://www.cs.toronto.edu/~guerzhoy/324/movielens/ratings.csv\")\n",
        "#ratings.head()"
      ],
      "metadata": {
        "id": "vERk_C7mtbbc"
      },
      "execution_count": null,
      "outputs": []
    },
    {
      "cell_type": "code",
      "source": [
        "n_movies = len(ratings['movieId'].unique())\n",
        "n_users = len(ratings['userId'].unique())"
      ],
      "metadata": {
        "id": "7neCH-7ttbbe"
      },
      "execution_count": null,
      "outputs": []
    },
    {
      "cell_type": "code",
      "source": [
        "# Re-index movies\n",
        "data2movieIdxs = {}\n",
        "movieIdxs2data = {}\n",
        "i = 0\n",
        "for dataIdx in sorted(ratings['movieId'].unique()):\n",
        "  data2movieIdxs[dataIdx] = i\n",
        "  movieIdxs2data[i] = dataIdx\n",
        "  i += 1\n",
        "\n",
        "ratings['movieId'].replace(data2movieIdxs, inplace=True)\n",
        "\n",
        "# Re-index users\n",
        "data2userIdxs = {}\n",
        "userIdxs2data = {}\n",
        "i = 0\n",
        "for dataIdx in sorted(ratings['userId'].unique()):\n",
        "  data2userIdxs[dataIdx] = i\n",
        "  userIdxs2data[i] = dataIdx\n",
        "  i += 1\n",
        "\n",
        "ratings['userId'].replace(data2userIdxs, inplace=True)"
      ],
      "metadata": {
        "id": "vn2Q-WILtbbe"
      },
      "execution_count": null,
      "outputs": []
    },
    {
      "cell_type": "code",
      "source": [
        "# Split data into training, validation, and testing sets by timestamp\n",
        "\n",
        "N = len(ratings)\n",
        "N_train = int(N*0.8)\n",
        "N_valid = int(N*0.1)\n",
        "N_test = N - N_train - N_valid\n",
        "\n",
        "ratings.sort_values(by=['timestamp'])\n",
        "ratings_train = ratings.head(N_train)\n",
        "ratings = ratings.tail(N_valid + N_test)\n",
        "ratings_valid = ratings.head(N_valid)\n",
        "ratings_test = ratings.tail(N_test)\n",
        "\n",
        "assert(len(ratings_train) + len(ratings_valid) + len(ratings_test) == N)"
      ],
      "metadata": {
        "id": "FDsLzb_9tbbf"
      },
      "execution_count": null,
      "outputs": []
    },
    {
      "cell_type": "code",
      "source": [
        "# Get adjacency matrix for training\n",
        "adjacency_mat_train = np.zeros(shape=(n_users+n_movies,n_movies+n_movies))\n",
        "for row in ratings_train.itertuples():\n",
        "    userId = row[1]\n",
        "    movieId = row[2]\n",
        "    rating = row[3]\n",
        "    if rating == 5.0:\n",
        "        adjacency_mat_train[userId,movieId+n_users] = 1\n",
        "        adjacency_mat_train[movieId+n_users,userId] = 1\n",
        "\n",
        "# Find number of degree for each node and calculate the probability they\n",
        "# would be selected during negative sampling\n",
        "P_train = np.sum(adjacency_mat_train, axis=1)\n",
        "train_probs = P_train / np.sum(P_train)"
      ],
      "metadata": {
        "id": "yu83idz8p4nE"
      },
      "execution_count": null,
      "outputs": []
    },
    {
      "cell_type": "code",
      "source": [
        "# Get adjacency matrix for validation\n",
        "adjacency_mat_valid = np.zeros(shape=(n_users,n_movies))\n",
        "for row in ratings_valid.itertuples():\n",
        "    userId = row[1]\n",
        "    movieId = row[2]\n",
        "    rating = row[3]\n",
        "    if rating == 5.0:\n",
        "        adjacency_mat_valid[userId,movieId] = 1\n",
        "\n",
        "# Get adjacency matrix for testing\n",
        "adjacency_mat_test = np.zeros(shape=(n_users,n_movies))\n",
        "for row in ratings_valid.itertuples():\n",
        "    userId = row[1]\n",
        "    movieId = row[2]\n",
        "    rating = row[3]\n",
        "    if rating == 5.0:\n",
        "        adjacency_mat_test[userId,movieId] = 1"
      ],
      "metadata": {
        "id": "gT9c8_ASuRjE"
      },
      "execution_count": null,
      "outputs": []
    },
    {
      "cell_type": "markdown",
      "source": [
        "### Node2Vec Implementation\n",
        "\n",
        "To learn the embeddings, a random walk for each node is performed and the loss is calculated using the equations in the lecture slides (https://www.cs.toronto.edu/~guerzhoy/324/lec/W07/GNN.pdf Slides 16&17). "
      ],
      "metadata": {
        "id": "pOynfcEy1MsH"
      }
    },
    {
      "cell_type": "code",
      "source": [
        "# Function for Random walk\n",
        "def random_walk(Adj_mat, walk_length, start_node, p, q):\n",
        "    \"\"\"\n",
        "    Returns a random walk of length walk_length from the start_node \n",
        "    \n",
        "    Inputs:\n",
        "    - Adj_mat: adjacency matrix of size (n_users + n_movies, n_users + n_movies)\n",
        "    - walk_length: length of the random walk\n",
        "    - start_node: node that the random walk starts at\n",
        "    - p: in-out parameter\n",
        "    - q: return parameter\n",
        "\n",
        "    Output:\n",
        "    - walk: list of nodes in the random walk \n",
        "    \"\"\"\n",
        "\n",
        "    walk = [start_node]\n",
        "    for i in range(walk_length):\n",
        "        curr = walk[-1]\n",
        "        \n",
        "        # Get neighbors\n",
        "        curr_neighbors = np.where(Adj_mat[curr,:]==1)[0]\n",
        "        num_neighbors = len(curr_neighbors)\n",
        "        \n",
        "        if num_neighbors > 0:\n",
        "\n",
        "            # If first node, just choose a random next node\n",
        "            if len(walk) == 1:\n",
        "                next = curr_neighbors[np.random.randint(num_neighbors)]\n",
        "\n",
        "            # Otherwise we sample based on p and q\n",
        "            else:\n",
        "                prev = walk[-2]\n",
        "                transition_probs = [1/p] + [1/q]*num_neighbors\n",
        "                nodes = [prev]\n",
        "                nodes.extend(curr_neighbors)\n",
        "                next = np.random.choice(a=nodes, p=transition_probs/np.sum(transition_probs))\n",
        "            \n",
        "            walk.append(next)\n",
        "        \n",
        "        else:\n",
        "            break\n",
        "\n",
        "    return walk"
      ],
      "metadata": {
        "id": "vV9ygc-zCeQC"
      },
      "execution_count": null,
      "outputs": []
    },
    {
      "cell_type": "code",
      "source": [
        "# Training loop definition\n",
        "def train_node2vec(q, p, walk_length, num_epochs, k, learningRate, max_norm,\n",
        "                   n_users, n_movies, d, adjacency_mat_train, train_probs):\n",
        "    \"\"\"\n",
        "    Training loop for node2vec\n",
        "\n",
        "    Inputs:\n",
        "    - q - return parameter for random walk\n",
        "    - p - in-out parameter for random walk\n",
        "    - walk_length - length of the random walk\n",
        "    - num_epochs - number of epochs for training\n",
        "    - k - number of negative sampled nodes\n",
        "    - learningRate - learning rate\n",
        "    - max_norm - normalization maximum for embedding\n",
        "    - n_users - number of users\n",
        "    - n_movies - number of movies\n",
        "    - d - embedding size\n",
        "    - adjacency_mat_train - training adjacency matrix\n",
        "    - train_probs - probabilities used for negative sampling of nodes\n",
        "    \n",
        "    Outputs:\n",
        "    - embedding_node2vec - final embedding learned\n",
        "    - train_losses[-1] - final training loss value\n",
        "    - recallAt150 - final training recall@150 value\n",
        "    \"\"\"\n",
        "\n",
        "    # Embedding\n",
        "    n = n_users + n_movies\n",
        "    embedding_node2vec = nn.Embedding(n, d, max_norm=max_norm)\n",
        "\n",
        "    # Optimizer\n",
        "    optimizer = torch.optim.SGD(embedding_node2vec.parameters(), lr=learningRate)\n",
        "\n",
        "    train_losses = []\n",
        "    for epoch in range(num_epochs):\n",
        "\n",
        "        optimizer.zero_grad()\n",
        "\n",
        "        # Initialize walks and loss\n",
        "        train_walks = []\n",
        "        train_loss = 0\n",
        "        \n",
        "        # Get random walks\n",
        "        for u in range(n_users):\n",
        "            train_walks.append(random_walk(adjacency_mat_train, walk_length, u, p, q))\n",
        "\n",
        "        # Calculate loss\n",
        "        for u in range(n_users):\n",
        "            \n",
        "            train_walk = train_walks[u]\n",
        "\n",
        "            # Get z_u\n",
        "            train_u = train_walk[0]\n",
        "            train_z_u = embedding_node2vec(torch.tensor(train_u))\n",
        "\n",
        "            # Negative sampling - Get sample k random nodes based on their degree\n",
        "            # Note: we sample negatives from the entire set\n",
        "            train_neg_sampling_res = 0\n",
        "            for i in range(k):\n",
        "                train_n_idx = np.where(np.random.multinomial(1, train_probs)==1)[0][0]\n",
        "                train_z_n = embedding_node2vec(torch.tensor(train_n_idx))\n",
        "                train_neg_sampling_res += torch.log(torch.sigmoid(torch.dot(train_z_u, train_z_n)))\n",
        "            \n",
        "            # Loop through nodes in the random walk and update the loss\n",
        "            for j in range(1,len(train_walk)):\n",
        "                # Get z_v\n",
        "                train_v = train_walk[j]\n",
        "                train_z_v = embedding_node2vec(torch.tensor(train_v))\n",
        "\n",
        "                train_walk_res = torch.log(torch.sigmoid(torch.dot(train_z_u, train_z_v)))\n",
        "\n",
        "                # Update loss\n",
        "                train_loss -= (train_walk_res - train_neg_sampling_res)\n",
        "        \n",
        "        # Record results\n",
        "        recallAt150 = recallAtK(k=150, embedding=embedding_node2vec, Adj_mat=adjacency_mat_train, n_users=n_users, n_movies=n_movies)\n",
        "        train_losses.append(train_loss.detach().numpy())\n",
        "        print('Epoch %04d  Training Loss %.4f  Training Recall@150 %.4f' % (epoch + 1, train_loss.detach().numpy(), recallAt150))\n",
        "\n",
        "        # Optimize\n",
        "        train_loss.backward()\n",
        "        optimizer.step()\n",
        "\n",
        "    # Plot Loss \n",
        "    plt.title(\"Training Loss\")\n",
        "    plt.plot(train_losses, label=\"Training Loss\")\n",
        "    plt.xlabel(\"Epoch\")\n",
        "    plt.ylabel(\"Loss\")\n",
        "    plt.legend(loc='best')\n",
        "    plt.show()\n",
        "\n",
        "    return (embedding_node2vec, train_losses[-1], recallAt150)"
      ],
      "metadata": {
        "id": "jr1NACkZBZaQ"
      },
      "execution_count": null,
      "outputs": []
    },
    {
      "cell_type": "markdown",
      "source": [
        "### Node2Vec Tuning\n",
        "In several trials, hyperparameters such as q, p, and walk length for the random walk, the amount of nodes that were randomly sampled, the size of the embedding for each node, and the learning rate and number of epochs were tuned to achieve better Node2Vec performance. The Recall@150 value for the validation set was used to evaluate the result of the learned embedding."
      ],
      "metadata": {
        "id": "rc1O2bHVKubx"
      }
    },
    {
      "cell_type": "markdown",
      "source": [
        "#### Trial 1 - Initial Results"
      ],
      "metadata": {
        "id": "8_549WTzNmZS"
      }
    },
    {
      "cell_type": "code",
      "source": [
        "# Initial Parameters\n",
        "q = 3 # return parameter\n",
        "p = 5 # in-out parameter\n",
        "walk_length = 5 # walk length\n",
        "k = 20 # for negative sampling\n",
        "d = 10 # Embedding size\n",
        "max_norm = 0.5 # for embedding\n",
        "num_epochs = 50\n",
        "learningRate = 0.01\n",
        "\n",
        "# Training Results\n",
        "embedding_node2vec, train_loss, train_recallAt150 = train_node2vec(\n",
        "    q, p, walk_length, num_epochs, k, learningRate, max_norm, n_users, n_movies, d, adjacency_mat_train, train_probs)\n",
        "\n",
        "# Validation Results\n",
        "valid_recallAt150 = recallAtK(k=150, embedding=embedding_node2vec, Adj_mat=adjacency_mat_valid, n_users=n_users, n_movies=n_movies)\n",
        "print(\"Validation Recall at 150:\", valid_recallAt150)"
      ],
      "metadata": {
        "colab": {
          "base_uri": "https://localhost:8080/",
          "height": 1000
        },
        "id": "SehQGiWK3Db9",
        "outputId": "baf52ef8-491e-437c-bf0a-04d4aea3af71"
      },
      "execution_count": null,
      "outputs": [
        {
          "output_type": "stream",
          "name": "stdout",
          "text": [
            "Epoch 0001  Training Loss -31448.7031  Training Recall@150 0.0124\n",
            "Epoch 0002  Training Loss -31481.5664  Training Recall@150 0.0125\n",
            "Epoch 0003  Training Loss -31444.5605  Training Recall@150 0.0130\n",
            "Epoch 0004  Training Loss -31513.3027  Training Recall@150 0.0133\n",
            "Epoch 0005  Training Loss -31488.2891  Training Recall@150 0.0114\n",
            "Epoch 0006  Training Loss -31466.5977  Training Recall@150 0.0110\n",
            "Epoch 0007  Training Loss -31476.2500  Training Recall@150 0.0108\n",
            "Epoch 0008  Training Loss -31496.8887  Training Recall@150 0.0101\n",
            "Epoch 0009  Training Loss -31520.5156  Training Recall@150 0.0104\n",
            "Epoch 0010  Training Loss -31508.5137  Training Recall@150 0.0111\n",
            "Epoch 0011  Training Loss -31540.4512  Training Recall@150 0.0100\n",
            "Epoch 0012  Training Loss -31575.1230  Training Recall@150 0.0113\n",
            "Epoch 0013  Training Loss -31604.5586  Training Recall@150 0.0103\n",
            "Epoch 0014  Training Loss -31605.2910  Training Recall@150 0.0128\n",
            "Epoch 0015  Training Loss -31649.4609  Training Recall@150 0.0117\n",
            "Epoch 0016  Training Loss -31721.6484  Training Recall@150 0.0128\n",
            "Epoch 0017  Training Loss -31754.8086  Training Recall@150 0.0122\n",
            "Epoch 0018  Training Loss -31821.1992  Training Recall@150 0.0116\n",
            "Epoch 0019  Training Loss -31920.3535  Training Recall@150 0.0117\n",
            "Epoch 0020  Training Loss -32002.9023  Training Recall@150 0.0130\n",
            "Epoch 0021  Training Loss -32059.8555  Training Recall@150 0.0117\n",
            "Epoch 0022  Training Loss -32151.7910  Training Recall@150 0.0124\n",
            "Epoch 0023  Training Loss -32260.5156  Training Recall@150 0.0120\n",
            "Epoch 0024  Training Loss -32289.5137  Training Recall@150 0.0143\n",
            "Epoch 0025  Training Loss -32407.7109  Training Recall@150 0.0145\n",
            "Epoch 0026  Training Loss -32554.2031  Training Recall@150 0.0139\n",
            "Epoch 0027  Training Loss -32565.6406  Training Recall@150 0.0148\n",
            "Epoch 0028  Training Loss -32627.3242  Training Recall@150 0.0128\n",
            "Epoch 0029  Training Loss -32698.6777  Training Recall@150 0.0131\n",
            "Epoch 0030  Training Loss -32742.2422  Training Recall@150 0.0138\n",
            "Epoch 0031  Training Loss -32788.5820  Training Recall@150 0.0151\n",
            "Epoch 0032  Training Loss -32851.0469  Training Recall@150 0.0140\n",
            "Epoch 0033  Training Loss -32881.1875  Training Recall@150 0.0138\n",
            "Epoch 0034  Training Loss -32917.7383  Training Recall@150 0.0142\n",
            "Epoch 0035  Training Loss -32948.0703  Training Recall@150 0.0139\n",
            "Epoch 0036  Training Loss -33048.0820  Training Recall@150 0.0149\n",
            "Epoch 0037  Training Loss -33105.2266  Training Recall@150 0.0142\n",
            "Epoch 0038  Training Loss -33015.3359  Training Recall@150 0.0156\n",
            "Epoch 0039  Training Loss -33198.7578  Training Recall@150 0.0160\n",
            "Epoch 0040  Training Loss -33190.6680  Training Recall@150 0.0159\n",
            "Epoch 0041  Training Loss -33172.7500  Training Recall@150 0.0164\n",
            "Epoch 0042  Training Loss -33124.7812  Training Recall@150 0.0168\n",
            "Epoch 0043  Training Loss -33155.4375  Training Recall@150 0.0160\n",
            "Epoch 0044  Training Loss -33187.4922  Training Recall@150 0.0165\n",
            "Epoch 0045  Training Loss -33167.8477  Training Recall@150 0.0170\n",
            "Epoch 0046  Training Loss -33263.7617  Training Recall@150 0.0172\n",
            "Epoch 0047  Training Loss -33189.4766  Training Recall@150 0.0163\n",
            "Epoch 0048  Training Loss -33225.7070  Training Recall@150 0.0172\n",
            "Epoch 0049  Training Loss -33223.7461  Training Recall@150 0.0159\n",
            "Epoch 0050  Training Loss -33347.3086  Training Recall@150 0.0162\n"
          ]
        },
        {
          "output_type": "display_data",
          "data": {
            "text/plain": [
              "<Figure size 432x288 with 1 Axes>"
            ],
            "image/png": "[encoded data removed]"
          },
          "metadata": {
            "needs_background": "light"
          }
        },
        {
          "output_type": "stream",
          "name": "stdout",
          "text": [
            "Validation Recall at 150: 0.003091060749331682\n"
          ]
        }
      ]
    },
    {
      "cell_type": "markdown",
      "source": [
        "#### Trial 2"
      ],
      "metadata": {
        "id": "a1Oo9NqULA9L"
      }
    },
    {
      "cell_type": "code",
      "source": [
        "# Initial Parameters\n",
        "q = 3 # return parameter\n",
        "p = 5 # in-out parameter\n",
        "walk_length = 5 # walk length\n",
        "k = 20 # for negative sampling\n",
        "d = 10 # Embedding size\n",
        "max_norm = 0.5 # for embedding\n",
        "num_epochs = 20\n",
        "learningRate = 0.01\n",
        "\n",
        "# Training Results\n",
        "embedding_node2vec, train_loss, train_recallAt150 = train_node2vec(\n",
        "    q, p, walk_length, num_epochs, k, learningRate, max_norm, n_users, n_movies, d, adjacency_mat_train, train_probs)\n",
        "\n",
        "# Validation Results\n",
        "valid_recallAt150 = recallAtK(k=150, embedding=embedding_node2vec, Adj_mat=adjacency_mat_valid, n_users=n_users, n_movies=n_movies)\n",
        "print(\"Validation Recall at 150:\", valid_recallAt150)"
      ],
      "metadata": {
        "id": "LmJQ34yAkGtf",
        "colab": {
          "base_uri": "https://localhost:8080/",
          "height": 678
        },
        "outputId": "1c1370b3-9072-4932-893a-d55ea23282a8"
      },
      "execution_count": null,
      "outputs": [
        {
          "output_type": "stream",
          "name": "stdout",
          "text": [
            "Epoch 0001  Training Loss -31448.2207  Training Recall@150 0.0150\n",
            "Epoch 0002  Training Loss -31470.5547  Training Recall@150 0.0157\n",
            "Epoch 0003  Training Loss -31479.5625  Training Recall@150 0.0161\n",
            "Epoch 0004  Training Loss -31470.7129  Training Recall@150 0.0169\n",
            "Epoch 0005  Training Loss -31457.9473  Training Recall@150 0.0158\n",
            "Epoch 0006  Training Loss -31471.8496  Training Recall@150 0.0130\n",
            "Epoch 0007  Training Loss -31497.3848  Training Recall@150 0.0122\n",
            "Epoch 0008  Training Loss -31513.5039  Training Recall@150 0.0145\n",
            "Epoch 0009  Training Loss -31531.4766  Training Recall@150 0.0108\n",
            "Epoch 0010  Training Loss -31540.9766  Training Recall@150 0.0109\n",
            "Epoch 0011  Training Loss -31510.0176  Training Recall@150 0.0129\n",
            "Epoch 0012  Training Loss -31567.4492  Training Recall@150 0.0143\n",
            "Epoch 0013  Training Loss -31632.3047  Training Recall@150 0.0123\n",
            "Epoch 0014  Training Loss -31686.1172  Training Recall@150 0.0118\n",
            "Epoch 0015  Training Loss -31728.1953  Training Recall@150 0.0126\n",
            "Epoch 0016  Training Loss -31817.1133  Training Recall@150 0.0135\n",
            "Epoch 0017  Training Loss -31881.7383  Training Recall@150 0.0129\n",
            "Epoch 0018  Training Loss -31954.0098  Training Recall@150 0.0138\n",
            "Epoch 0019  Training Loss -32034.9336  Training Recall@150 0.0126\n",
            "Epoch 0020  Training Loss -32163.7695  Training Recall@150 0.0127\n"
          ]
        },
        {
          "output_type": "display_data",
          "data": {
            "text/plain": [
              "<Figure size 432x288 with 1 Axes>"
            ],
            "image/png": "[encoded data removed]"
          },
          "metadata": {
            "needs_background": "light"
          }
        },
        {
          "output_type": "stream",
          "name": "stdout",
          "text": [
            "Validation Recall at 150: 0.016388386332661965\n"
          ]
        }
      ]
    },
    {
      "cell_type": "markdown",
      "source": [
        "#### Trial 3"
      ],
      "metadata": {
        "id": "XbarSwqgOyr_"
      }
    },
    {
      "cell_type": "code",
      "source": [
        "# Parameters\n",
        "q = 2 # return parameter\n",
        "p = 5 # in-out parameter\n",
        "walk_length = 5 # walk length\n",
        "k = 20 # for negative sampling\n",
        "d = 10 # Embedding size\n",
        "max_norm = 0.5 # for embedding\n",
        "num_epochs = 30\n",
        "learningRate = 0.02\n",
        "\n",
        "# Training Results\n",
        "embedding_node2vec, train_loss, train_recallAt150 = train_node2vec(\n",
        "    q, p, walk_length, num_epochs, k, learningRate, max_norm, n_users, n_movies, d, adjacency_mat_train, train_probs)\n",
        "\n",
        "# Validation Results\n",
        "valid_recallAt150 = recallAtK(k=150, embedding=embedding_node2vec, Adj_mat=adjacency_mat_valid, n_users=n_users, n_movies=n_movies)\n",
        "print(\"Validation Recall at 150:\", valid_recallAt150)"
      ],
      "metadata": {
        "colab": {
          "base_uri": "https://localhost:8080/",
          "height": 861
        },
        "id": "V1N8WKyeBIYc",
        "outputId": "584884e9-d7a8-418b-b13f-a9e3eaecef05"
      },
      "execution_count": null,
      "outputs": [
        {
          "output_type": "stream",
          "name": "stdout",
          "text": [
            "Epoch 0001  Training Loss -31476.4590  Training Recall@150 0.0179\n",
            "Epoch 0002  Training Loss -31452.3828  Training Recall@150 0.0192\n",
            "Epoch 0003  Training Loss -31469.7793  Training Recall@150 0.0189\n",
            "Epoch 0004  Training Loss -31475.2598  Training Recall@150 0.0161\n",
            "Epoch 0005  Training Loss -31458.3203  Training Recall@150 0.0156\n",
            "Epoch 0006  Training Loss -31472.0762  Training Recall@150 0.0153\n",
            "Epoch 0007  Training Loss -31487.6113  Training Recall@150 0.0167\n",
            "Epoch 0008  Training Loss -31522.0859  Training Recall@150 0.0146\n",
            "Epoch 0009  Training Loss -31572.9453  Training Recall@150 0.0129\n",
            "Epoch 0010  Training Loss -31605.0098  Training Recall@150 0.0117\n",
            "Epoch 0011  Training Loss -31713.9434  Training Recall@150 0.0128\n",
            "Epoch 0012  Training Loss -31863.3223  Training Recall@150 0.0119\n",
            "Epoch 0013  Training Loss -31958.0781  Training Recall@150 0.0122\n",
            "Epoch 0014  Training Loss -32155.0195  Training Recall@150 0.0104\n",
            "Epoch 0015  Training Loss -32263.7012  Training Recall@150 0.0114\n",
            "Epoch 0016  Training Loss -32419.0488  Training Recall@150 0.0119\n",
            "Epoch 0017  Training Loss -32517.6699  Training Recall@150 0.0118\n",
            "Epoch 0018  Training Loss -32740.4668  Training Recall@150 0.0116\n",
            "Epoch 0019  Training Loss -32819.7148  Training Recall@150 0.0111\n",
            "Epoch 0020  Training Loss -32876.0859  Training Recall@150 0.0094\n",
            "Epoch 0021  Training Loss -32959.6992  Training Recall@150 0.0124\n",
            "Epoch 0022  Training Loss -32939.8164  Training Recall@150 0.0130\n",
            "Epoch 0023  Training Loss -32968.2891  Training Recall@150 0.0118\n",
            "Epoch 0024  Training Loss -33072.4531  Training Recall@150 0.0120\n",
            "Epoch 0025  Training Loss -33073.4102  Training Recall@150 0.0123\n",
            "Epoch 0026  Training Loss -33117.7500  Training Recall@150 0.0118\n",
            "Epoch 0027  Training Loss -33154.8320  Training Recall@150 0.0110\n",
            "Epoch 0028  Training Loss -33215.3516  Training Recall@150 0.0101\n",
            "Epoch 0029  Training Loss -33272.8555  Training Recall@150 0.0102\n",
            "Epoch 0030  Training Loss -33321.6445  Training Recall@150 0.0107\n"
          ]
        },
        {
          "output_type": "display_data",
          "data": {
            "text/plain": [
              "<Figure size 432x288 with 1 Axes>"
            ],
            "image/png": "[encoded data removed]"
          },
          "metadata": {
            "needs_background": "light"
          }
        },
        {
          "output_type": "stream",
          "name": "stdout",
          "text": [
            "Validation Recall at 150: 0.022033181118507026\n"
          ]
        }
      ]
    },
    {
      "cell_type": "markdown",
      "source": [
        "#### Trial 4"
      ],
      "metadata": {
        "id": "ZWskZI02O4EA"
      }
    },
    {
      "cell_type": "code",
      "source": [
        "# Parameters\n",
        "q = 1 # return parameter\n",
        "p = 1 # in-out parameter\n",
        "walk_length = 3 # walk length\n",
        "k = 20 # for negative sampling\n",
        "d = 10 # Embedding size\n",
        "max_norm = 0.4 # for embedding\n",
        "num_epochs = 20\n",
        "learningRate = 0.02\n",
        "\n",
        "# Training Results\n",
        "embedding_node2vec, train_loss, train_recallAt150 = train_node2vec(\n",
        "    q, p, walk_length, num_epochs, k, learningRate, max_norm, n_users, n_movies, d, adjacency_mat_train, train_probs)\n",
        "\n",
        "# Validation Results\n",
        "valid_recallAt150 = recallAtK(k=150, embedding=embedding_node2vec, Adj_mat=adjacency_mat_valid, n_users=n_users, n_movies=n_movies)\n",
        "print(\"Validation Recall at 150:\", valid_recallAt150)"
      ],
      "metadata": {
        "colab": {
          "base_uri": "https://localhost:8080/",
          "height": 678
        },
        "id": "OdkOfHRheBDm",
        "outputId": "ce730d46-511f-488d-d563-cfa98eb43133"
      },
      "execution_count": null,
      "outputs": [
        {
          "output_type": "stream",
          "name": "stdout",
          "text": [
            "Epoch 0001  Training Loss -18858.4414  Training Recall@150 0.0156\n",
            "Epoch 0002  Training Loss -18860.9258  Training Recall@150 0.0151\n",
            "Epoch 0003  Training Loss -18853.9531  Training Recall@150 0.0163\n",
            "Epoch 0004  Training Loss -18875.8340  Training Recall@150 0.0165\n",
            "Epoch 0005  Training Loss -18867.0742  Training Recall@150 0.0181\n",
            "Epoch 0006  Training Loss -18864.4219  Training Recall@150 0.0145\n",
            "Epoch 0007  Training Loss -18864.1191  Training Recall@150 0.0155\n",
            "Epoch 0008  Training Loss -18885.6328  Training Recall@150 0.0148\n",
            "Epoch 0009  Training Loss -18866.2676  Training Recall@150 0.0141\n",
            "Epoch 0010  Training Loss -18895.9082  Training Recall@150 0.0156\n",
            "Epoch 0011  Training Loss -18914.2402  Training Recall@150 0.0141\n",
            "Epoch 0012  Training Loss -18900.0703  Training Recall@150 0.0127\n",
            "Epoch 0013  Training Loss -18933.3340  Training Recall@150 0.0127\n",
            "Epoch 0014  Training Loss -18949.6953  Training Recall@150 0.0130\n",
            "Epoch 0015  Training Loss -18973.5742  Training Recall@150 0.0133\n",
            "Epoch 0016  Training Loss -18989.7324  Training Recall@150 0.0125\n",
            "Epoch 0017  Training Loss -19018.9141  Training Recall@150 0.0123\n",
            "Epoch 0018  Training Loss -19065.8633  Training Recall@150 0.0125\n",
            "Epoch 0019  Training Loss -19087.7617  Training Recall@150 0.0126\n",
            "Epoch 0020  Training Loss -19130.3418  Training Recall@150 0.0126\n"
          ]
        },
        {
          "output_type": "display_data",
          "data": {
            "text/plain": [
              "<Figure size 432x288 with 1 Axes>"
            ],
            "image/png": "[encoded data removed]"
          },
          "metadata": {
            "needs_background": "light"
          }
        },
        {
          "output_type": "stream",
          "name": "stdout",
          "text": [
            "Validation Recall at 150: 0.011957451965293688\n"
          ]
        }
      ]
    },
    {
      "cell_type": "markdown",
      "source": [
        "#### Trial 5"
      ],
      "metadata": {
        "id": "F-_fL3UzPJwJ"
      }
    },
    {
      "cell_type": "code",
      "source": [
        "# Parameters\n",
        "q = 1 # return parameter\n",
        "p = 1 # in-out parameter\n",
        "walk_length = 5 # walk length\n",
        "k = 40 # for negative sampling\n",
        "d = 10 # Embedding size\n",
        "max_norm = 0.3 # for embedding\n",
        "num_epochs = 20\n",
        "learningRate = 0.01\n",
        "\n",
        "# Training Results\n",
        "embedding_node2vec, train_loss, train_recallAt150 = train_node2vec(\n",
        "    q, p, walk_length, num_epochs, k, learningRate, max_norm, n_users, n_movies, d, adjacency_mat_train, train_probs)\n",
        "\n",
        "# Validation Results\n",
        "valid_recallAt150 = recallAtK(k=150, embedding=embedding_node2vec, Adj_mat=adjacency_mat_valid, n_users=n_users, n_movies=n_movies)\n",
        "print(\"Validation Recall at 150:\", valid_recallAt150)"
      ],
      "metadata": {
        "colab": {
          "base_uri": "https://localhost:8080/",
          "height": 678
        },
        "id": "xcxT-mqwZqPZ",
        "outputId": "1dbd3634-91c9-43fe-d438-a559837ea95a"
      },
      "execution_count": null,
      "outputs": [
        {
          "output_type": "stream",
          "name": "stdout",
          "text": [
            "Epoch 0001  Training Loss -64491.5859  Training Recall@150 0.0132\n",
            "Epoch 0002  Training Loss -64498.9180  Training Recall@150 0.0153\n",
            "Epoch 0003  Training Loss -64501.5273  Training Recall@150 0.0141\n",
            "Epoch 0004  Training Loss -64505.7344  Training Recall@150 0.0133\n",
            "Epoch 0005  Training Loss -64498.2148  Training Recall@150 0.0139\n",
            "Epoch 0006  Training Loss -64514.6758  Training Recall@150 0.0142\n",
            "Epoch 0007  Training Loss -64519.9688  Training Recall@150 0.0144\n",
            "Epoch 0008  Training Loss -64559.3828  Training Recall@150 0.0132\n",
            "Epoch 0009  Training Loss -64600.4453  Training Recall@150 0.0124\n",
            "Epoch 0010  Training Loss -64662.0703  Training Recall@150 0.0122\n",
            "Epoch 0011  Training Loss -64772.7031  Training Recall@150 0.0121\n",
            "Epoch 0012  Training Loss -64837.9570  Training Recall@150 0.0127\n",
            "Epoch 0013  Training Loss -64975.7500  Training Recall@150 0.0121\n",
            "Epoch 0014  Training Loss -65037.0547  Training Recall@150 0.0122\n",
            "Epoch 0015  Training Loss -65179.8672  Training Recall@150 0.0120\n",
            "Epoch 0016  Training Loss -65275.8984  Training Recall@150 0.0114\n",
            "Epoch 0017  Training Loss -65352.4102  Training Recall@150 0.0108\n",
            "Epoch 0018  Training Loss -65385.2305  Training Recall@150 0.0114\n",
            "Epoch 0019  Training Loss -65431.9453  Training Recall@150 0.0112\n",
            "Epoch 0020  Training Loss -65488.8164  Training Recall@150 0.0119\n"
          ]
        },
        {
          "output_type": "display_data",
          "data": {
            "text/plain": [
              "<Figure size 432x288 with 1 Axes>"
            ],
            "image/png": "[encoded data removed]"
          },
          "metadata": {
            "needs_background": "light"
          }
        },
        {
          "output_type": "stream",
          "name": "stdout",
          "text": [
            "Validation Recall at 150: 0.01984595542327023\n"
          ]
        }
      ]
    },
    {
      "cell_type": "markdown",
      "source": [
        "#### Trial 6"
      ],
      "metadata": {
        "id": "M-GmcRwyO7WP"
      }
    },
    {
      "cell_type": "code",
      "source": [
        "# Parameters\n",
        "q = 2 # return parameter\n",
        "p = 3 # in-out parameter\n",
        "walk_length = 3 # walk length\n",
        "k = 10 # for negative sampling\n",
        "d = 10 # Embedding size\n",
        "max_norm = 0.4 # for embedding\n",
        "num_epochs = 35\n",
        "learningRate = 0.05\n",
        "\n",
        "# Training Results\n",
        "embedding_node2vec, train_loss, train_recallAt150 = train_node2vec(\n",
        "    q, p, walk_length, num_epochs, k, learningRate, max_norm, n_users, n_movies, d, adjacency_mat_train, train_probs)\n",
        "\n",
        "# Validation Results\n",
        "valid_recallAt150 = recallAtK(k=150, embedding=embedding_node2vec, Adj_mat=adjacency_mat_valid, n_users=n_users, n_movies=n_movies)\n",
        "print(\"Validation Recall at 150:\", valid_recallAt150)"
      ],
      "metadata": {
        "colab": {
          "base_uri": "https://localhost:8080/",
          "height": 953
        },
        "id": "2guhAQMaIfNF",
        "outputId": "4a402705-b23a-41ec-a5de-6c69aa8834c3"
      },
      "execution_count": null,
      "outputs": [
        {
          "output_type": "stream",
          "name": "stdout",
          "text": [
            "Epoch 0001  Training Loss -8941.0479  Training Recall@150 0.0142\n",
            "Epoch 0002  Training Loss -8937.4678  Training Recall@150 0.0152\n",
            "Epoch 0003  Training Loss -8943.1562  Training Recall@150 0.0123\n",
            "Epoch 0004  Training Loss -8939.9609  Training Recall@150 0.0145\n",
            "Epoch 0005  Training Loss -8946.2666  Training Recall@150 0.0157\n",
            "Epoch 0006  Training Loss -8948.8779  Training Recall@150 0.0154\n",
            "Epoch 0007  Training Loss -8946.6592  Training Recall@150 0.0142\n",
            "Epoch 0008  Training Loss -8938.0000  Training Recall@150 0.0149\n",
            "Epoch 0009  Training Loss -8944.6719  Training Recall@150 0.0167\n",
            "Epoch 0010  Training Loss -8956.0439  Training Recall@150 0.0159\n",
            "Epoch 0011  Training Loss -8960.1680  Training Recall@150 0.0180\n",
            "Epoch 0012  Training Loss -8956.7666  Training Recall@150 0.0178\n",
            "Epoch 0013  Training Loss -8953.5889  Training Recall@150 0.0156\n",
            "Epoch 0014  Training Loss -8965.5146  Training Recall@150 0.0158\n",
            "Epoch 0015  Training Loss -8970.3711  Training Recall@150 0.0184\n",
            "Epoch 0016  Training Loss -8983.7627  Training Recall@150 0.0167\n",
            "Epoch 0017  Training Loss -8994.7217  Training Recall@150 0.0157\n",
            "Epoch 0018  Training Loss -9000.1602  Training Recall@150 0.0159\n",
            "Epoch 0019  Training Loss -9026.4043  Training Recall@150 0.0168\n",
            "Epoch 0020  Training Loss -9042.2168  Training Recall@150 0.0146\n",
            "Epoch 0021  Training Loss -9057.7920  Training Recall@150 0.0175\n",
            "Epoch 0022  Training Loss -9069.4980  Training Recall@150 0.0171\n",
            "Epoch 0023  Training Loss -9085.8867  Training Recall@150 0.0166\n",
            "Epoch 0024  Training Loss -9120.5537  Training Recall@150 0.0150\n",
            "Epoch 0025  Training Loss -9114.8604  Training Recall@150 0.0149\n",
            "Epoch 0026  Training Loss -9120.0254  Training Recall@150 0.0156\n",
            "Epoch 0027  Training Loss -9151.5205  Training Recall@150 0.0164\n",
            "Epoch 0028  Training Loss -9154.7227  Training Recall@150 0.0194\n",
            "Epoch 0029  Training Loss -9160.3389  Training Recall@150 0.0193\n",
            "Epoch 0030  Training Loss -9186.8018  Training Recall@150 0.0194\n",
            "Epoch 0031  Training Loss -9184.0234  Training Recall@150 0.0174\n",
            "Epoch 0032  Training Loss -9190.8623  Training Recall@150 0.0187\n",
            "Epoch 0033  Training Loss -9195.2510  Training Recall@150 0.0198\n",
            "Epoch 0034  Training Loss -9211.0596  Training Recall@150 0.0174\n",
            "Epoch 0035  Training Loss -9213.4277  Training Recall@150 0.0183\n"
          ]
        },
        {
          "output_type": "display_data",
          "data": {
            "text/plain": [
              "<Figure size 432x288 with 1 Axes>"
            ],
            "image/png": "[encoded data removed]"
          },
          "metadata": {
            "needs_background": "light"
          }
        },
        {
          "output_type": "stream",
          "name": "stdout",
          "text": [
            "Validation Recall at 150: 0.0074002536091613514\n"
          ]
        }
      ]
    },
    {
      "cell_type": "markdown",
      "source": [
        "#### Trial 7"
      ],
      "metadata": {
        "id": "AexDXuzBPRMU"
      }
    },
    {
      "cell_type": "code",
      "source": [
        "# Parameters\n",
        "q = 2 # return parameter\n",
        "p = 3 # in-out parameter\n",
        "walk_length = 3 # walk length\n",
        "k = 10 # for negative sampling\n",
        "d = 10 # Embedding size\n",
        "max_norm = 0.4 # for embedding\n",
        "num_epochs = 30\n",
        "learningRate = 0.05\n",
        "\n",
        "# Training Results\n",
        "embedding_node2vec, train_loss, train_recallAt150 = train_node2vec(\n",
        "    q, p, walk_length, num_epochs, k, learningRate, max_norm, n_users, n_movies, d, adjacency_mat_train, train_probs)\n",
        "\n",
        "# Validation Results\n",
        "valid_recallAt150 = recallAtK(k=150, embedding=embedding_node2vec, Adj_mat=adjacency_mat_valid, n_users=n_users, n_movies=n_movies)\n",
        "print(\"Validation Recall at 150:\", valid_recallAt150)"
      ],
      "metadata": {
        "colab": {
          "base_uri": "https://localhost:8080/",
          "height": 861
        },
        "id": "jERSeF7KXn-Y",
        "outputId": "eca32c28-ca35-47f2-9f16-3f76c06aae83"
      },
      "execution_count": null,
      "outputs": [
        {
          "output_type": "stream",
          "name": "stdout",
          "text": [
            "Epoch 0001  Training Loss -8941.6133  Training Recall@150 0.0170\n",
            "Epoch 0002  Training Loss -8943.0244  Training Recall@150 0.0149\n",
            "Epoch 0003  Training Loss -8942.6816  Training Recall@150 0.0138\n",
            "Epoch 0004  Training Loss -8949.2129  Training Recall@150 0.0151\n",
            "Epoch 0005  Training Loss -8940.6357  Training Recall@150 0.0152\n",
            "Epoch 0006  Training Loss -8948.6104  Training Recall@150 0.0153\n",
            "Epoch 0007  Training Loss -8943.2549  Training Recall@150 0.0142\n",
            "Epoch 0008  Training Loss -8961.0518  Training Recall@150 0.0150\n",
            "Epoch 0009  Training Loss -8968.4326  Training Recall@150 0.0148\n",
            "Epoch 0010  Training Loss -8976.2109  Training Recall@150 0.0130\n",
            "Epoch 0011  Training Loss -8977.5928  Training Recall@150 0.0141\n",
            "Epoch 0012  Training Loss -8992.9600  Training Recall@150 0.0155\n",
            "Epoch 0013  Training Loss -9001.6641  Training Recall@150 0.0165\n",
            "Epoch 0014  Training Loss -9011.7861  Training Recall@150 0.0161\n",
            "Epoch 0015  Training Loss -9038.9736  Training Recall@150 0.0126\n",
            "Epoch 0016  Training Loss -9045.8574  Training Recall@150 0.0141\n",
            "Epoch 0017  Training Loss -9064.9365  Training Recall@150 0.0148\n",
            "Epoch 0018  Training Loss -9078.5703  Training Recall@150 0.0140\n",
            "Epoch 0019  Training Loss -9107.0293  Training Recall@150 0.0128\n",
            "Epoch 0020  Training Loss -9100.8545  Training Recall@150 0.0114\n",
            "Epoch 0021  Training Loss -9132.1689  Training Recall@150 0.0098\n",
            "Epoch 0022  Training Loss -9123.1680  Training Recall@150 0.0097\n",
            "Epoch 0023  Training Loss -9155.2197  Training Recall@150 0.0098\n",
            "Epoch 0024  Training Loss -9152.1250  Training Recall@150 0.0095\n",
            "Epoch 0025  Training Loss -9178.6826  Training Recall@150 0.0093\n",
            "Epoch 0026  Training Loss -9179.1768  Training Recall@150 0.0097\n",
            "Epoch 0027  Training Loss -9172.6680  Training Recall@150 0.0093\n",
            "Epoch 0028  Training Loss -9190.6543  Training Recall@150 0.0099\n",
            "Epoch 0029  Training Loss -9180.0000  Training Recall@150 0.0106\n",
            "Epoch 0030  Training Loss -9204.1631  Training Recall@150 0.0105\n"
          ]
        },
        {
          "output_type": "display_data",
          "data": {
            "text/plain": [
              "<Figure size 432x288 with 1 Axes>"
            ],
            "image/png": "[encoded data removed]"
          },
          "metadata": {
            "needs_background": "light"
          }
        },
        {
          "output_type": "stream",
          "name": "stdout",
          "text": [
            "Validation Recall at 150: 0.022238220576897023\n"
          ]
        }
      ]
    },
    {
      "cell_type": "markdown",
      "source": [
        "#### Trial 8"
      ],
      "metadata": {
        "id": "L5ueXzyUO-Cz"
      }
    },
    {
      "cell_type": "code",
      "source": [
        "# Parameters\n",
        "q = 2 # return parameter\n",
        "p = 3 # in-out parameter\n",
        "walk_length = 3 # walk length\n",
        "k = 50 # for negative sampling\n",
        "d = 10 # Embedding size\n",
        "max_norm = 0.4 # for embedding\n",
        "num_epochs = 15\n",
        "learningRate = 0.01\n",
        "\n",
        "# Training Results\n",
        "embedding_node2vec, train_loss, train_recallAt150 = train_node2vec(\n",
        "    q, p, walk_length, num_epochs, k, learningRate, max_norm, n_users, n_movies, d, adjacency_mat_train, train_probs)\n",
        "\n",
        "# Validation Results\n",
        "valid_recallAt150 = recallAtK(k=150, embedding=embedding_node2vec, Adj_mat=adjacency_mat_valid, n_users=n_users, n_movies=n_movies)\n",
        "print(\"Validation Recall at 150:\", valid_recallAt150)"
      ],
      "metadata": {
        "colab": {
          "base_uri": "https://localhost:8080/",
          "height": 587
        },
        "id": "xhTTs30lfThe",
        "outputId": "4f3d108f-8374-4f70-edb7-a3dccb648fcd"
      },
      "execution_count": null,
      "outputs": [
        {
          "output_type": "stream",
          "name": "stdout",
          "text": [
            "Epoch 0001  Training Loss -48607.7656  Training Recall@150 0.0116\n",
            "Epoch 0002  Training Loss -48635.0898  Training Recall@150 0.0127\n",
            "Epoch 0003  Training Loss -48622.3281  Training Recall@150 0.0127\n",
            "Epoch 0004  Training Loss -48632.5781  Training Recall@150 0.0129\n",
            "Epoch 0005  Training Loss -48646.1445  Training Recall@150 0.0124\n",
            "Epoch 0006  Training Loss -48644.6094  Training Recall@150 0.0121\n",
            "Epoch 0007  Training Loss -48639.6211  Training Recall@150 0.0126\n",
            "Epoch 0008  Training Loss -48674.1875  Training Recall@150 0.0136\n",
            "Epoch 0009  Training Loss -48675.1328  Training Recall@150 0.0140\n",
            "Epoch 0010  Training Loss -48702.8828  Training Recall@150 0.0137\n",
            "Epoch 0011  Training Loss -48776.3789  Training Recall@150 0.0132\n",
            "Epoch 0012  Training Loss -48818.9258  Training Recall@150 0.0131\n",
            "Epoch 0013  Training Loss -48901.8633  Training Recall@150 0.0119\n",
            "Epoch 0014  Training Loss -48976.0195  Training Recall@150 0.0139\n",
            "Epoch 0015  Training Loss -49114.2070  Training Recall@150 0.0163\n"
          ]
        },
        {
          "output_type": "display_data",
          "data": {
            "text/plain": [
              "<Figure size 432x288 with 1 Axes>"
            ],
            "image/png": "[encoded data removed]"
          },
          "metadata": {
            "needs_background": "light"
          }
        },
        {
          "output_type": "stream",
          "name": "stdout",
          "text": [
            "Validation Recall at 150: 0.009437643809599355\n"
          ]
        }
      ]
    },
    {
      "cell_type": "markdown",
      "source": [
        "#### Trial 9"
      ],
      "metadata": {
        "id": "UmHeZxVKPXxc"
      }
    },
    {
      "cell_type": "code",
      "source": [
        "# Parameters\n",
        "q = 2 # return parameter\n",
        "p = 3 # in-out parameter\n",
        "walk_length = 5 # walk length\n",
        "k = 15 # for negative sampling\n",
        "d = 10 # Embedding size\n",
        "max_norm = 0.4 # for embedding\n",
        "num_epochs = 15\n",
        "learningRate = 0.02\n",
        "\n",
        "# Training Results\n",
        "embedding_node2vec, train_loss, train_recallAt150 = train_node2vec(\n",
        "    q, p, walk_length, num_epochs, k, learningRate, max_norm, n_users, n_movies, d, adjacency_mat_train, train_probs)\n",
        "\n",
        "# Validation Results\n",
        "valid_recallAt150 = recallAtK(k=150, embedding=embedding_node2vec, Adj_mat=adjacency_mat_valid, n_users=n_users, n_movies=n_movies)\n",
        "print(\"Validation Recall at 150:\", valid_recallAt150)"
      ],
      "metadata": {
        "colab": {
          "base_uri": "https://localhost:8080/",
          "height": 587
        },
        "id": "F7bQqfULvD1z",
        "outputId": "6e67ed9c-07cb-4300-fd36-383242e32f60"
      },
      "execution_count": null,
      "outputs": [
        {
          "output_type": "stream",
          "name": "stdout",
          "text": [
            "Epoch 0001  Training Loss -23167.9824  Training Recall@150 0.0173\n",
            "Epoch 0002  Training Loss -23150.4082  Training Recall@150 0.0187\n",
            "Epoch 0003  Training Loss -23166.6543  Training Recall@150 0.0183\n",
            "Epoch 0004  Training Loss -23163.5020  Training Recall@150 0.0173\n",
            "Epoch 0005  Training Loss -23186.5410  Training Recall@150 0.0171\n",
            "Epoch 0006  Training Loss -23176.1484  Training Recall@150 0.0169\n",
            "Epoch 0007  Training Loss -23182.4648  Training Recall@150 0.0156\n",
            "Epoch 0008  Training Loss -23204.8633  Training Recall@150 0.0153\n",
            "Epoch 0009  Training Loss -23221.6055  Training Recall@150 0.0154\n",
            "Epoch 0010  Training Loss -23223.5820  Training Recall@150 0.0171\n",
            "Epoch 0011  Training Loss -23246.9902  Training Recall@150 0.0163\n",
            "Epoch 0012  Training Loss -23308.2617  Training Recall@150 0.0165\n",
            "Epoch 0013  Training Loss -23330.4336  Training Recall@150 0.0171\n",
            "Epoch 0014  Training Loss -23372.1172  Training Recall@150 0.0174\n",
            "Epoch 0015  Training Loss -23431.9746  Training Recall@150 0.0169\n"
          ]
        },
        {
          "output_type": "display_data",
          "data": {
            "text/plain": [
              "<Figure size 432x288 with 1 Axes>"
            ],
            "image/png": "[encoded data removed]"
          },
          "metadata": {
            "needs_background": "light"
          }
        },
        {
          "output_type": "stream",
          "name": "stdout",
          "text": [
            "Validation Recall at 150: 0.014858142069459731\n"
          ]
        }
      ]
    },
    {
      "cell_type": "markdown",
      "source": [
        "#### Trial 10"
      ],
      "metadata": {
        "id": "jacXUmr6LKVZ"
      }
    },
    {
      "cell_type": "code",
      "source": [
        "# Parameters\n",
        "q = 1 # return parameter\n",
        "p = 1 # in-out parameter\n",
        "walk_length = 3 # walk length\n",
        "k = 40 # for negative sampling\n",
        "d = 10 # Embedding size\n",
        "max_norm = 0.4 # for embedding\n",
        "num_epochs = 20\n",
        "learningRate = 0.01\n",
        "\n",
        "# Training Results\n",
        "embedding_node2vec, train_loss, train_recallAt150 = train_node2vec(\n",
        "    q, p, walk_length, num_epochs, k, learningRate, max_norm, n_users, n_movies, d, adjacency_mat_train, train_probs)\n",
        "\n",
        "# Validation Results\n",
        "valid_recallAt150 = recallAtK(k=150, embedding=embedding_node2vec, Adj_mat=adjacency_mat_valid, n_users=n_users, n_movies=n_movies)\n",
        "print(\"Validation Recall at 150:\", valid_recallAt150)"
      ],
      "metadata": {
        "colab": {
          "base_uri": "https://localhost:8080/",
          "height": 678
        },
        "id": "TGPhcbXrWWgt",
        "outputId": "25e4f957-7176-4d94-862b-1aef4492454e"
      },
      "execution_count": null,
      "outputs": [
        {
          "output_type": "stream",
          "name": "stdout",
          "text": [
            "Epoch 0001  Training Loss -38693.9141  Training Recall@150 0.0132\n",
            "Epoch 0002  Training Loss -38713.7422  Training Recall@150 0.0143\n",
            "Epoch 0003  Training Loss -38716.4023  Training Recall@150 0.0171\n",
            "Epoch 0004  Training Loss -38719.7383  Training Recall@150 0.0140\n",
            "Epoch 0005  Training Loss -38712.7148  Training Recall@150 0.0161\n",
            "Epoch 0006  Training Loss -38717.5703  Training Recall@150 0.0162\n",
            "Epoch 0007  Training Loss -38721.2656  Training Recall@150 0.0164\n",
            "Epoch 0008  Training Loss -38739.5898  Training Recall@150 0.0150\n",
            "Epoch 0009  Training Loss -38739.3867  Training Recall@150 0.0161\n",
            "Epoch 0010  Training Loss -38763.2070  Training Recall@150 0.0154\n",
            "Epoch 0011  Training Loss -38767.2266  Training Recall@150 0.0149\n",
            "Epoch 0012  Training Loss -38795.7383  Training Recall@150 0.0149\n",
            "Epoch 0013  Training Loss -38833.7695  Training Recall@150 0.0147\n",
            "Epoch 0014  Training Loss -38853.3242  Training Recall@150 0.0134\n",
            "Epoch 0015  Training Loss -38912.9180  Training Recall@150 0.0126\n",
            "Epoch 0016  Training Loss -38950.8438  Training Recall@150 0.0133\n",
            "Epoch 0017  Training Loss -39012.5898  Training Recall@150 0.0134\n",
            "Epoch 0018  Training Loss -39102.2578  Training Recall@150 0.0127\n",
            "Epoch 0019  Training Loss -39157.3984  Training Recall@150 0.0130\n",
            "Epoch 0020  Training Loss -39233.3867  Training Recall@150 0.0135\n"
          ]
        },
        {
          "output_type": "display_data",
          "data": {
            "text/plain": [
              "<Figure size 432x288 with 1 Axes>"
            ],
            "image/png": "[encoded data removed]"
          },
          "metadata": {
            "needs_background": "light"
          }
        },
        {
          "output_type": "stream",
          "name": "stdout",
          "text": [
            "Validation Recall at 150: 0.024514964318910624\n"
          ]
        }
      ]
    },
    {
      "cell_type": "markdown",
      "source": [
        "#### Trial 11"
      ],
      "metadata": {
        "id": "Xwi92PQ8Pfsb"
      }
    },
    {
      "cell_type": "code",
      "source": [
        "# Parameters\n",
        "q = 1 # return parameter\n",
        "p = 1 # in-out parameter\n",
        "walk_length = 3 # walk length\n",
        "k = 40 # for negative sampling\n",
        "d = 10 # Embedding size\n",
        "max_norm = 0.4 # for embedding\n",
        "num_epochs = 30\n",
        "learningRate = 0.01\n",
        "\n",
        "# Training Results\n",
        "embedding_node2vec, train_loss, train_recallAt150 = train_node2vec(\n",
        "    q, p, walk_length, num_epochs, k, learningRate, max_norm, n_users, n_movies, d, adjacency_mat_train, train_probs)\n",
        "\n",
        "# Validation Results\n",
        "valid_recallAt150 = recallAtK(k=150, embedding=embedding_node2vec, Adj_mat=adjacency_mat_valid, n_users=n_users, n_movies=n_movies)\n",
        "print(\"Validation Recall at 150:\", valid_recallAt150)"
      ],
      "metadata": {
        "colab": {
          "base_uri": "https://localhost:8080/",
          "height": 861
        },
        "id": "mxGeOKXuadv8",
        "outputId": "63e07613-b944-4a2d-9926-06c3c403cc13"
      },
      "execution_count": null,
      "outputs": [
        {
          "output_type": "stream",
          "name": "stdout",
          "text": [
            "Epoch 0001  Training Loss -38702.3086  Training Recall@150 0.0154\n",
            "Epoch 0002  Training Loss -38713.6250  Training Recall@150 0.0137\n",
            "Epoch 0003  Training Loss -38716.3789  Training Recall@150 0.0172\n",
            "Epoch 0004  Training Loss -38720.8047  Training Recall@150 0.0145\n",
            "Epoch 0005  Training Loss -38729.0234  Training Recall@150 0.0145\n",
            "Epoch 0006  Training Loss -38728.0820  Training Recall@150 0.0148\n",
            "Epoch 0007  Training Loss -38723.5586  Training Recall@150 0.0134\n",
            "Epoch 0008  Training Loss -38737.5664  Training Recall@150 0.0135\n",
            "Epoch 0009  Training Loss -38759.8750  Training Recall@150 0.0135\n",
            "Epoch 0010  Training Loss -38772.5508  Training Recall@150 0.0129\n",
            "Epoch 0011  Training Loss -38782.1523  Training Recall@150 0.0136\n",
            "Epoch 0012  Training Loss -38836.2461  Training Recall@150 0.0135\n",
            "Epoch 0013  Training Loss -38878.4258  Training Recall@150 0.0130\n",
            "Epoch 0014  Training Loss -38929.4805  Training Recall@150 0.0120\n",
            "Epoch 0015  Training Loss -38973.3516  Training Recall@150 0.0129\n",
            "Epoch 0016  Training Loss -39045.6992  Training Recall@150 0.0124\n",
            "Epoch 0017  Training Loss -39134.6133  Training Recall@150 0.0115\n",
            "Epoch 0018  Training Loss -39219.3281  Training Recall@150 0.0104\n",
            "Epoch 0019  Training Loss -39294.5234  Training Recall@150 0.0102\n",
            "Epoch 0020  Training Loss -39388.0547  Training Recall@150 0.0111\n",
            "Epoch 0021  Training Loss -39458.6875  Training Recall@150 0.0121\n",
            "Epoch 0022  Training Loss -39496.2578  Training Recall@150 0.0116\n",
            "Epoch 0023  Training Loss -39572.0273  Training Recall@150 0.0112\n",
            "Epoch 0024  Training Loss -39611.4023  Training Recall@150 0.0121\n",
            "Epoch 0025  Training Loss -39700.3359  Training Recall@150 0.0135\n",
            "Epoch 0026  Training Loss -39729.5977  Training Recall@150 0.0136\n",
            "Epoch 0027  Training Loss -39774.4727  Training Recall@150 0.0144\n",
            "Epoch 0028  Training Loss -39839.0820  Training Recall@150 0.0143\n",
            "Epoch 0029  Training Loss -39898.2852  Training Recall@150 0.0148\n",
            "Epoch 0030  Training Loss -39894.7148  Training Recall@150 0.0141\n"
          ]
        },
        {
          "output_type": "display_data",
          "data": {
            "text/plain": [
              "<Figure size 432x288 with 1 Axes>"
            ],
            "image/png": "[encoded data removed]"
          },
          "metadata": {
            "needs_background": "light"
          }
        },
        {
          "output_type": "stream",
          "name": "stdout",
          "text": [
            "Validation Recall at 150: 0.023097226963291712\n"
          ]
        }
      ]
    },
    {
      "cell_type": "markdown",
      "source": [
        "#### Trial 12"
      ],
      "metadata": {
        "id": "ksZTAaHnPtC9"
      }
    },
    {
      "cell_type": "code",
      "source": [
        "# Parameters\n",
        "q = 2 # return parameter\n",
        "p = 3 # in-out parameter\n",
        "walk_length = 3 # walk length\n",
        "k = 40 # for negative sampling\n",
        "d = 10 # Embedding size\n",
        "max_norm = 0.4 # for embedding\n",
        "num_epochs = 20\n",
        "learningRate = 0.01\n",
        "\n",
        "# Training Results\n",
        "embedding_node2vec, train_loss, train_recallAt150 = train_node2vec(\n",
        "    q, p, walk_length, num_epochs, k, learningRate, max_norm, n_users, n_movies, d, adjacency_mat_train, train_probs)\n",
        "\n",
        "# Validation Results\n",
        "valid_recallAt150 = recallAtK(k=150, embedding=embedding_node2vec, Adj_mat=adjacency_mat_valid, n_users=n_users, n_movies=n_movies)\n",
        "print(\"Validation Recall at 150:\", valid_recallAt150)"
      ],
      "metadata": {
        "colab": {
          "base_uri": "https://localhost:8080/",
          "height": 678
        },
        "id": "1rKHVcLHgF7s",
        "outputId": "7879d5f2-fa4c-4bdc-c32c-4c462e9dba7b"
      },
      "execution_count": null,
      "outputs": [
        {
          "output_type": "stream",
          "name": "stdout",
          "text": [
            "Epoch 0001  Training Loss -38700.4336  Training Recall@150 0.0146\n",
            "Epoch 0002  Training Loss -38709.4453  Training Recall@150 0.0153\n",
            "Epoch 0003  Training Loss -38694.1055  Training Recall@150 0.0163\n",
            "Epoch 0004  Training Loss -38717.2227  Training Recall@150 0.0155\n",
            "Epoch 0005  Training Loss -38720.7891  Training Recall@150 0.0165\n",
            "Epoch 0006  Training Loss -38706.1875  Training Recall@150 0.0156\n",
            "Epoch 0007  Training Loss -38713.9922  Training Recall@150 0.0162\n",
            "Epoch 0008  Training Loss -38732.3750  Training Recall@150 0.0172\n",
            "Epoch 0009  Training Loss -38733.3398  Training Recall@150 0.0150\n",
            "Epoch 0010  Training Loss -38728.0000  Training Recall@150 0.0161\n",
            "Epoch 0011  Training Loss -38743.8008  Training Recall@150 0.0151\n",
            "Epoch 0012  Training Loss -38763.5273  Training Recall@150 0.0145\n",
            "Epoch 0013  Training Loss -38782.9375  Training Recall@150 0.0137\n",
            "Epoch 0014  Training Loss -38807.7422  Training Recall@150 0.0152\n",
            "Epoch 0015  Training Loss -38824.3867  Training Recall@150 0.0163\n",
            "Epoch 0016  Training Loss -38866.6836  Training Recall@150 0.0137\n",
            "Epoch 0017  Training Loss -38915.1445  Training Recall@150 0.0148\n",
            "Epoch 0018  Training Loss -38993.5234  Training Recall@150 0.0136\n",
            "Epoch 0019  Training Loss -39051.2812  Training Recall@150 0.0143\n",
            "Epoch 0020  Training Loss -39118.7109  Training Recall@150 0.0131\n"
          ]
        },
        {
          "output_type": "display_data",
          "data": {
            "text/plain": [
              "<Figure size 432x288 with 1 Axes>"
            ],
            "image/png": "[encoded data removed]"
          },
          "metadata": {
            "needs_background": "light"
          }
        },
        {
          "output_type": "stream",
          "name": "stdout",
          "text": [
            "Validation Recall at 150: 0.033185706034864614\n"
          ]
        }
      ]
    },
    {
      "cell_type": "markdown",
      "source": [
        "### Test Results\n",
        "From the trials above, it was found that embeddings learned in Trial 12 resulted the highest Recall@150 on the validation set with the following hyperparameters:\n",
        "* q (return parameter) = 2 \n",
        "* p (in-out parameter) = 3 \n",
        "* Random walk length = 3 \n",
        "* k (number of negatively sampled nodes) = 40 \n",
        "* d (size of embedding for each node) = 10 \n",
        "* Max norm of embedding = 0.4 \n",
        "* Number of epochs = 20\n",
        "* Learning rate = 0.01\n",
        "\n",
        "This embedding was then tested with the test set and achieved a Recall@150 of 3.32% which is an improvement from the 0.31% Recall@150 seen on the validation set initially in the first trial."
      ],
      "metadata": {
        "id": "AOhp2l_PPo8s"
      }
    },
    {
      "cell_type": "code",
      "source": [
        "# Test Results\n",
        "recallAt150 = recallAtK(k=150, embedding=embedding_node2vec, Adj_mat=adjacency_mat_test, n_users=n_users, n_movies=n_movies)\n",
        "print(\"Testing Recall at 150:\", recallAt150)"
      ],
      "metadata": {
        "colab": {
          "base_uri": "https://localhost:8080/"
        },
        "id": "-JEqfeZTsKaA",
        "outputId": "44fdd1d6-f248-4e4e-aaef-442a9fa6c719"
      },
      "execution_count": null,
      "outputs": [
        {
          "output_type": "stream",
          "name": "stdout",
          "text": [
            "Testing Recall at 150: 0.033185706034864614\n"
          ]
        }
      ]
    }
  ]
}