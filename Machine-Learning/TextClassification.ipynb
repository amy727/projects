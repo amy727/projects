{
  "cells": [
    {
      "cell_type": "markdown",
      "source": [
        "# Machine Learning - Text Classification\n",
        "\n",
        "This notebook implements and experiments with different classifiers to perform text classification on the 20 Newsgroups data set, a collection of approximately 20,000 newsgroup documents that are partitioned (nearly) evenly across 20 different newsgroups.\n",
        "\n",
        "The Logistic Regression and Naive Bayes classifiers are implemented and the following configurations are explored:\n",
        "* Feature selection methods to obtain the feature set\n",
        "* Feature Encoding (binary encodings or term-freqency encodings)\n",
        "* Amount of features\n",
        "* Hyperparameters such as regularization\n",
        "\n",
        "\n"
      ],
      "metadata": {
        "id": "4gBjt-F4LHz2"
      }
    },
    {
      "cell_type": "markdown",
      "source": [
        "## Setup"
      ],
      "metadata": {
        "id": "MAuMiYUKLMpP"
      }
    },
    {
      "cell_type": "code",
      "execution_count": null,
      "metadata": {
        "id": "IBeCy78aSCrF"
      },
      "outputs": [],
      "source": [
        "%%capture\n",
        "!pip install wget"
      ]
    },
    {
      "cell_type": "code",
      "execution_count": null,
      "metadata": {
        "id": "nlvLXZf5Rbbc"
      },
      "outputs": [],
      "source": [
        "from abc import abstractmethod, ABC\n",
        "import os\n",
        "import wget\n",
        "from pathlib import Path\n",
        "\n",
        "from nltk.tokenize import RegexpTokenizer\n",
        "import re\n",
        "from collections import Counter\n",
        "\n",
        "from sklearn.linear_model import LogisticRegression\n",
        "from sklearn.naive_bayes import GaussianNB, BernoulliNB, MultinomialNB, _BaseNB, _BaseDiscreteNB\n",
        "from sklearn.model_selection import train_test_split\n",
        "from sklearn.metrics import accuracy_score, confusion_matrix\n",
        "from sklearn.exceptions import ConvergenceWarning\n",
        "\n",
        "import pandas as pd\n",
        "import numpy as np\n",
        "from scipy import stats\n",
        "\n",
        "import matplotlib\n",
        "import matplotlib.pyplot as plt\n",
        "%matplotlib inline\n",
        "\n",
        "import random\n",
        "random.seed()\n",
        "from typing import Tuple, List, Optional, Union, Dict\n",
        "\n",
        "import warnings\n",
        "warnings.filterwarnings(\"ignore\", category=FutureWarning)\n",
        "warnings.filterwarnings(\"ignore\", category=ConvergenceWarning)\n",
        "\n",
        "# Please add necessary imports here\n",
        "import nltk\n",
        "from nltk.corpus import stopwords\n",
        "from nltk.stem import *\n",
        "\n",
        "\n",
        "nltk.download('wordnet')\n",
        "nltk.download('stopwords')"
      ]
    },
    {
      "cell_type": "code",
      "execution_count": null,
      "metadata": {
        "id": "fevhNc7iSfgl"
      },
      "outputs": [],
      "source": [
        "%%capture\n",
        "filename = wget.download(\"https://github.com/MIE451-1513-2023/course-datasets/raw/main/20_newsgroups.zip\", \"20_newsgroups.zip\")\n",
        "!unzip 20_newsgroups.zip"
      ]
    },
    {
      "cell_type": "code",
      "execution_count": null,
      "metadata": {
        "id": "v7qmpRq53Kwx"
      },
      "outputs": [],
      "source": [
        "## IMPORTANT: DO NOT CHANGE THESE GLOBAL VARIABLES!\n",
        "DATA_DIR = \"20_newsgroups\"\n",
        "ALL_FILES = [pth for pth in Path(DATA_DIR).glob(\"**/*\") if pth.is_file() and not pth.name.startswith(\".\")]"
      ]
    },
    {
      "cell_type": "code",
      "execution_count": null,
      "metadata": {
        "id": "Fs6A1ANPRvnb"
      },
      "outputs": [],
      "source": [
        "def clean_file_text(text):\n",
        "    new_text = re.sub(\"Newsgroups:.*?\\n\", \"\", text)\n",
        "    new_text = re.sub(\"Xref:.*?\\n\", \"\", new_text)\n",
        "    new_text = re.sub(\"Path:.*?\\n\", \"\", new_text)\n",
        "    new_text = re.sub(\"Date:.*?\\n\", \"\", new_text)\n",
        "    new_text = re.sub(\"Followup-To:.*?\\n\", \"\", new_text)\n",
        "    new_text = re.sub(\"Lines:.*?\\n\", \"\", new_text)\n",
        "    new_text = re.sub(\"Reply-To:.*?\\n\", \"\", new_text)\n",
        "    new_text = re.sub(\"Message-ID:.*?\\n\", \"\", new_text)\n",
        "    new_text = re.sub(\"From:.*?\\n\", \"\", new_text)\n",
        "    new_text = re.sub(\"NNTP-Posting-Host:.*?\\n\", \"\", new_text)\n",
        "    return new_text"
      ]
    },
    {
      "cell_type": "code",
      "execution_count": null,
      "metadata": {
        "id": "aAuECBXTRxzF"
      },
      "outputs": [],
      "source": [
        "def corpus_count_words(file_list):\n",
        "    tokenizer = RegexpTokenizer(r\"\\w+\")\n",
        "    word_counter = Counter()\n",
        "    for file_path in file_list:\n",
        "        with open(file_path, \"r\", encoding=\"utf-8\", errors=\"ignore\") as file:\n",
        "            file_data = file.read()\n",
        "            file_data = clean_file_text(file_data)\n",
        "            file_words = tokenizer.tokenize(file_data)\n",
        "            word_counter.update(file_words)\n",
        "    return word_counter"
      ]
    },
    {
      "cell_type": "code",
      "execution_count": null,
      "metadata": {
        "id": "WOsik8k4R355"
      },
      "outputs": [],
      "source": [
        "def get_topic_name(file_path):\n",
        "    return file_path.parent.name\n",
        "\n",
        "def get_target(topic_name):\n",
        "    topics = [\"talk.politics.mideast\", \"rec.autos\", \"comp.sys.mac.hardware\", \"alt.atheism\", \"rec.sport.baseball\",\n",
        "     \"comp.os.ms-windows.misc\", \"rec.sport.hockey\", \"sci.crypt\", \"sci.med\", \"talk.politics.misc\",\n",
        "     \"rec.motorcycles\", \"comp.windows.x\", \"comp.graphics\", \"comp.sys.ibm.pc.hardware\", \"sci.electronics\",\n",
        "     \"talk.politics.guns\", \"sci.space\", \"soc.religion.christian\", \"misc.forsale\", \"talk.religion.misc\"]\n",
        "    return topics.index(topic_name)"
      ]
    },
    {
      "cell_type": "code",
      "execution_count": null,
      "metadata": {
        "id": "oT6__eoJR5FS"
      },
      "outputs": [],
      "source": [
        "def plot_confusion_matrix(cm):\n",
        "    # plot the confusion matrix\n",
        "    plt.figure(figsize=(10,10))\n",
        "    plt.matshow(cm, fignum=1)\n",
        "\n",
        "    # add labels for all targets\n",
        "    num_targets = cm.shape[0]\n",
        "    plt.xticks(list(range(num_targets+1)))\n",
        "    plt.yticks(list(range(num_targets+1)))"
      ]
    },
    {
      "cell_type": "markdown",
      "source": [
        "## Classifier Class"
      ],
      "metadata": {
        "id": "KYOq4vOPMtYb"
      }
    },
    {
      "cell_type": "code",
      "execution_count": null,
      "metadata": {
        "id": "fN9q9aBMRh69"
      },
      "outputs": [],
      "source": [
        "class Classifier(ABC):\n",
        "    \"\"\"\n",
        "    Defines the super class that all classifier classes have to inherit.\n",
        "    This class requires one argument 'model_cls' which should be the sklearn classfication algorithm class.\n",
        "    For example, 'LogisticRegression' or 'MultinomialNB' can be used.\n",
        "    \"\"\"\n",
        "    _X, _y = None, None      # Class variables that store features and labels\n",
        "\n",
        "    def __init__(self, model_cls):\n",
        "        self._model_cls = model_cls\n",
        "\n",
        "    @abstractmethod\n",
        "    def get_dataset(\n",
        "            self, file_list, num_words=1000\n",
        "    ) -> Tuple[pd.DataFrame, List[int]]:\n",
        "        \"\"\"\n",
        "        Returns the tuple (X, y) where X is the feature set and y is the label.\n",
        "        This is an abstract method which has to be implemented in subclasses.\n",
        "\n",
        "        Args:\n",
        "            file_list (List[int]): The list containing file names to process.\n",
        "            num_words (int): The number of words (terms) to be used as features\n",
        "              Note that the feature dataframe you create should have the number\n",
        "              of columns the same as 'num_words'.\n",
        "\n",
        "        Returns:\n",
        "            X (pd.DataFrame), y (List[int])\n",
        "        \"\"\"\n",
        "        pass\n",
        "\n",
        "    def train_and_predict(\n",
        "            self, file_list=None, X=None, y=None, test_size=0.3, random_state=22, **model_kwargs\n",
        "    ) -> Tuple[Dict, Dict]:\n",
        "        \"\"\"\n",
        "        Complete this method for Q1(b).\n",
        "\n",
        "        This method (1) constructs the dataset; (2) splits it into train/test sets;\n",
        "        (3) trains a multi-class classifier model with the type 'self._model_cls';\n",
        "        (4) evaluates the trained model with the test set;\n",
        "        (5) and finally returns the dataset and accuracy information as dictionaries.\n",
        "\n",
        "        \"\"\"\n",
        "        # This method can also be used with an already-built dataset (X, y)\n",
        "        if file_list is None:\n",
        "            assert X is not None and y is not None, \"Either 'file_list' or (X, y) should be provided\"\n",
        "\n",
        "        # Get the dataset (features and labels) if not provided\n",
        "        if X is None or y is None:\n",
        "            X, y = self.get_dataset(file_list)\n",
        "\n",
        "        # Split the dataset to train and test sets.\n",
        "        X_train, X_test, y_train, y_test = train_test_split(X, y, test_size=test_size, random_state=random_state)\n",
        "\n",
        "        # Train a classifier of type 'self._model_cls' using the train set.\n",
        "        clf = self._model_cls(**model_kwargs).fit(X_train, y_train)\n",
        "\n",
        "        # Make predictions with the train and test sets\n",
        "        y_train_predict = clf.predict(X_train)\n",
        "        y_test_predict = clf.predict(X_test)\n",
        "\n",
        "        # Calculate the train and test accuracy\n",
        "        train_accuracy = accuracy_score(y_train, y_train_predict)\n",
        "        test_accuracy = accuracy_score(y_test, y_test_predict)\n",
        "\n",
        "        # Values to return\n",
        "        dataset = dict(\n",
        "            X_train=X_train, X_test=X_test, y_train=y_train, y_test=y_test,\n",
        "        )\n",
        "        info = dict(\n",
        "            y_train_predict=y_train_predict, y_test_predict=y_test_predict,\n",
        "            train_accuracy=train_accuracy, test_accuracy=test_accuracy\n",
        "        )\n",
        "\n",
        "        # Validate return types\n",
        "        assert isinstance(train_accuracy, float) and isinstance(test_accuracy, float), \"incorrect return types\"\n",
        "        assert isinstance(X_train, pd.DataFrame) and isinstance(X_test, pd.DataFrame), \"incorrect return types\"\n",
        "        assert isinstance(y_train, list) and isinstance(y_test, list), \"incorrect return types\"\n",
        "        assert isinstance(y_train_predict, np.ndarray) and isinstance(y_test_predict, np.ndarray), \"incorrect return types\"\n",
        "\n",
        "        return dataset, info\n",
        "\n",
        "    @staticmethod\n",
        "    def get_performance_ci(\n",
        "            classifier, X=None, y=None, num_tests=10, test_size=0.3, file_list=None\n",
        "    ) -> Tuple[float, float, float, float, float, float]:\n",
        "        if X is None or y is None:\n",
        "            assert file_list is not None, \"When X/y is not passed, you should provide 'file_list'\"\n",
        "            X, y = classifier.get_dataset(file_list)\n",
        "\n",
        "        # 'train_results' is a list of train accuracy for differrent random splits of the dataset\n",
        "        train_results = []\n",
        "\n",
        "        # 'test_results' is a list of test accuracy for differrent random splits of the dataset\n",
        "        test_results = []\n",
        "\n",
        "        # Get random states for different splits\n",
        "        random_states = np.random.permutation(range(1000))[:num_tests]\n",
        "\n",
        "        # Get accuracy results for each split\n",
        "        for random_state in random_states:\n",
        "            dataset, info = classifier.train_and_predict(X=X, y=y, random_state=random_state)\n",
        "            train_results.append(info['train_accuracy'])\n",
        "            test_results.append(info['test_accuracy'])\n",
        "\n",
        "        # Calculate the train mean and the 95% confidence interval for the list of results\n",
        "        train_mean = np.mean(train_results)\n",
        "        train_ci_low, train_ci_high = stats.t.interval(0.95, len(train_results)-1, loc=train_mean, scale=stats.sem(train_results))\n",
        "\n",
        "        # Calculate the test mean and the 95% confidence interval for the list of results\n",
        "        test_mean = np.mean(test_results)\n",
        "        test_ci_low, test_ci_high = stats.t.interval(0.95, len(test_results)-1, loc=test_mean, scale=stats.sem(test_results))\n",
        "\n",
        "        # Validate return types\n",
        "        assert isinstance(train_mean, float) and isinstance(train_ci_low, float) and isinstance(train_ci_high, float), \"return types\"\n",
        "        assert isinstance(test_mean, float) and isinstance(test_ci_low, float) and isinstance(test_ci_high, float), \"return types\"\n",
        "\n",
        "        return train_mean, train_ci_low, train_ci_high, test_mean, test_ci_low, test_ci_high\n",
        "\n",
        "    @staticmethod\n",
        "    def create_cm(\n",
        "            classifier, X: pd.DataFrame, y: List[int], num_tests: int, test_size=0.3\n",
        "    ) -> np.ndarray:\n",
        "        # 'cm_list' should contain the confusion matrices for different random splits of the dataset\n",
        "        cm_list = []\n",
        "\n",
        "        # Get random states for different splits\n",
        "        random_states = np.random.permutation(range(1000))[:num_tests]\n",
        "\n",
        "        # Get confusion matrix for each split\n",
        "        for random_state in random_states:\n",
        "            dataset, info = classifier.train_and_predict(X=X, y=y, random_state=random_state)\n",
        "            cm_list.append(confusion_matrix(dataset['y_test'], info['y_test_predict']))\n",
        "\n",
        "        # Sum the confusion matrices and return the combined confusion matrix\n",
        "        combined_cm = np.array(cm_list).sum(axis=0)\n",
        "\n",
        "        # validate return type\n",
        "        assert isinstance(combined_cm, np.ndarray), \"return type\"\n",
        "\n",
        "        return combined_cm\n",
        "\n",
        "    @property\n",
        "    @abstractmethod\n",
        "    def X(self):\n",
        "        pass\n",
        "\n",
        "    @property\n",
        "    @abstractmethod\n",
        "    def y(self):\n",
        "        pass\n",
        "\n",
        "    @X.setter\n",
        "    @abstractmethod\n",
        "    def X(self, X):\n",
        "        pass\n",
        "\n",
        "    @y.setter\n",
        "    @abstractmethod\n",
        "    def y(self, y):\n",
        "        pass"
      ]
    },
    {
      "cell_type": "markdown",
      "metadata": {
        "id": "1V7hHUYcFItZ"
      },
      "source": [
        "## Binary Encodings"
      ]
    },
    {
      "cell_type": "code",
      "source": [
        "print(len(ALL_FILES))"
      ],
      "metadata": {
        "colab": {
          "base_uri": "https://localhost:8080/"
        },
        "id": "64BgBLJZEZmt",
        "outputId": "e8d6d7d7-c182-49c4-f7fd-3675f4d885a2"
      },
      "execution_count": null,
      "outputs": [
        {
          "output_type": "stream",
          "name": "stdout",
          "text": [
            "19997\n"
          ]
        }
      ]
    },
    {
      "cell_type": "markdown",
      "metadata": {
        "id": "FDK906n_eow6"
      },
      "source": [
        "The feature set is constructed based on the most common words in the corpus. It does this by taking the word count of all the words in the corpus and then selecting the ones that appear the most frequently. Then for each file, we check if the word in the feature set appears in the file (it would be encoded as a 1 and if not, it would be encoded as a 0). This would be how each file is encoded in the feature set. The label y is encoded as the index of the topic as it appears in the get_target() function.\n",
        "\n",
        "The dataset consists of 19997 files and the default number of words used in the feature set is 1000. Therefore size of the features X is (19997, 1000) and size of the labels y is (19997, 1)\n"
      ]
    },
    {
      "cell_type": "markdown",
      "source": [
        "### Classifier with Binary Encoding"
      ],
      "metadata": {
        "id": "nSqZ-3yOM_DZ"
      }
    },
    {
      "cell_type": "code",
      "execution_count": null,
      "metadata": {
        "id": "Q4_RGDVQhYWE"
      },
      "outputs": [],
      "source": [
        "class ClassifierWithBinaryEncoding(Classifier):\n",
        "\n",
        "    _X, _y = None, None\n",
        "\n",
        "    def __init__(self, model_cls):\n",
        "        super().__init__(\n",
        "            model_cls=model_cls\n",
        "        )\n",
        "\n",
        "    def get_dataset(\n",
        "            self, file_list, num_words=1000\n",
        "    ) -> Tuple[pd.DataFrame, List[int]]:\n",
        "        \"\"\"\n",
        "        Returns the tuple (X, y) where X is the feature set and y is the label.\n",
        "        This method uses the binary encoding for features, where the most common\n",
        "        'num_words' number of terms are used.\n",
        "\n",
        "        Args:\n",
        "            file_list (List[int]): The list containing file names to process.\n",
        "            num_words (int): The number of words (terms) to be used as features\n",
        "              Note that the feature dataframe you create should have the number\n",
        "              of columns the same as 'num_words'.\n",
        "\n",
        "        Returns:\n",
        "            X (pd.DataFrame), y (List[int])\n",
        "        \"\"\"\n",
        "        if self.X is not None and self.y is not None:\n",
        "            return self.X, self.y\n",
        "\n",
        "        # Calculate word count in corpus\n",
        "        news_cnt = corpus_count_words(file_list)\n",
        "\n",
        "        # Select the most common numWords\n",
        "        word_list = [word for (word, freq) in news_cnt.most_common(num_words)]\n",
        "\n",
        "        # Create a binary encoding of dataset based on the selected features (X)\n",
        "        tokenizer = RegexpTokenizer(r\"\\w+\")\n",
        "        df_rows = []\n",
        "        for file_path in file_list:\n",
        "            with open(file_path, \"r\", encoding=\"utf-8\", errors=\"ignore\") as file:\n",
        "                file_data = file.read()\n",
        "                file_data = clean_file_text(file_data)\n",
        "                file_words = tokenizer.tokenize(file_data)\n",
        "                df_rows.append([1 if word in file_words else 0 for word in word_list])\n",
        "        X = pd.DataFrame(df_rows, index=[str(f) for f in file_list], columns=word_list)\n",
        "\n",
        "        # Create a dataframe of targets (y)\n",
        "        y = [get_target(get_topic_name(file_path)) for file_path in file_list]\n",
        "\n",
        "        self.X = X; self.y = y\n",
        "\n",
        "        return X, y\n",
        "\n",
        "    @property\n",
        "    def X(self):\n",
        "        return ClassifierWithBinaryEncoding._X\n",
        "\n",
        "    @property\n",
        "    def y(self):\n",
        "        return ClassifierWithBinaryEncoding._y\n",
        "\n",
        "    @X.setter\n",
        "    def X(self, X):\n",
        "        ClassifierWithBinaryEncoding._X = X\n",
        "\n",
        "    @y.setter\n",
        "    def y(self, y):\n",
        "        ClassifierWithBinaryEncoding._y = y"
      ]
    },
    {
      "cell_type": "code",
      "execution_count": null,
      "metadata": {
        "id": "VnuPhI49afyT"
      },
      "outputs": [],
      "source": [
        "# Instantiate the classifier\n",
        "q1_b = ClassifierWithBinaryEncoding(model_cls=LogisticRegression)\n",
        "\n",
        "# Construct the dataset and train the classifier\n",
        "X_base, y = q1_b.get_dataset(file_list=ALL_FILES)\n",
        "q1_b_dataset, q1_b_info = q1_b.train_and_predict(\n",
        "    X=X_base, y=y, test_size=0.3, random_state=22, C=1.0)"
      ]
    },
    {
      "cell_type": "code",
      "execution_count": null,
      "metadata": {
        "id": "844FerMnbcXD",
        "colab": {
          "base_uri": "https://localhost:8080/"
        },
        "outputId": "be74cf9e-ad38-47a7-d260-7e47c7560e22"
      },
      "outputs": [
        {
          "output_type": "stream",
          "name": "stdout",
          "text": [
            "Train accuracy of the baseline model: 0.9476316353504323\n",
            "Test accuracy of the baseline model: 0.6813333333333333\n"
          ]
        }
      ],
      "source": [
        "train_accuracy_q1b = q1_b_info['train_accuracy']\n",
        "test_accuracy_q1b = q1_b_info['test_accuracy']\n",
        "\n",
        "# report results\n",
        "print(f\"Train accuracy of the baseline model: {train_accuracy_q1b}\")\n",
        "print(f\"Test accuracy of the baseline model: {test_accuracy_q1b}\")"
      ]
    },
    {
      "cell_type": "markdown",
      "metadata": {
        "id": "zPbqIDvkfs05"
      },
      "source": [
        "### Classifier with Improved Binary Encoding\n",
        "\n",
        "Implemented an improved feature set in the *get_dataset* method of the following class."
      ]
    },
    {
      "cell_type": "code",
      "execution_count": null,
      "metadata": {
        "id": "pfaHm4OsTfN3"
      },
      "outputs": [],
      "source": [
        "class ClassifierWithImprovedBinaryEncoding(ClassifierWithBinaryEncoding):\n",
        "\n",
        "    _X = None\n",
        "\n",
        "    def __init__(self, model_cls):\n",
        "        super().__init__(\n",
        "            model_cls=model_cls\n",
        "        )\n",
        "\n",
        "    def get_dataset(\n",
        "            self, file_list, num_words=1000\n",
        "    ) -> Tuple[pd.DataFrame, List[int]]:\n",
        "        \"\"\"\n",
        "        Returns the tuple (X, y) where X is the feature set and y is the label.\n",
        "        This method uses the binary encoding for features, where the most common\n",
        "        'num_words' number of terms are used. Further, this class should use\n",
        "        improved features than the one given by its super class.\n",
        "\n",
        "        Args:\n",
        "            file_list (List[int]): The list containing file names to process.\n",
        "            num_words (int): The number of words (terms) to be used as features\n",
        "              Note that the feature dataframe you create should have the number\n",
        "              of columns the same as 'num_words'.\n",
        "\n",
        "        Returns:\n",
        "            X (pd.DataFrame), y (List[int])\n",
        "        \"\"\"\n",
        "        if self.X is not None and self.y is not None:\n",
        "            return self.X, self.y\n",
        "\n",
        "        X = None\n",
        "        y = self.y      # Could be None if 'ClassifierWithBinaryEncoding.get_dataset()' has not been called\n",
        "\n",
        "        # Make improvements to the feature set\n",
        "        tokenizer = RegexpTokenizer(r\"\\w+\")\n",
        "        stop_words = set(stopwords.words('english'))\n",
        "        news_cnt = Counter()\n",
        "        for file_path in file_list:\n",
        "            with open(file_path, \"r\", encoding=\"utf-8\", errors=\"ignore\") as file:\n",
        "                file_data = file.read()\n",
        "                file_data = clean_file_text(file_data)\n",
        "                file_words = tokenizer.tokenize(file_data)\n",
        "                file_words = [word.lower() for word in file_words if word.lower() not in stop_words]\n",
        "                file_words = [SnowballStemmer('english').stem(word) for word in file_words]\n",
        "                news_cnt.update(file_words)\n",
        "\n",
        "        # Select the most common numWords\n",
        "        word_list = [word for (word, freq) in news_cnt.most_common(num_words)]\n",
        "\n",
        "        # Create a binary encoding of dataset based on the selected features (X)\n",
        "        df_rows = []\n",
        "        for file_path in file_list:\n",
        "            with open(file_path, \"r\", encoding=\"utf-8\", errors=\"ignore\") as file:\n",
        "                file_data = file.read()\n",
        "                file_data = clean_file_text(file_data)\n",
        "                file_words = tokenizer.tokenize(file_data)\n",
        "                file_words = [word.lower() for word in file_words if word.lower() not in stop_words]\n",
        "                file_words = [SnowballStemmer('english').stem(word) for word in file_words]\n",
        "                df_rows.append([1 if word in file_words else 0 for word in word_list])\n",
        "        X = pd.DataFrame(df_rows, index=[str(f) for f in file_list], columns=word_list)\n",
        "\n",
        "        # Create a dataframe of targets (y)\n",
        "        y = [get_target(get_topic_name(file_path)) for file_path in file_list]\n",
        "\n",
        "        # Validate return types\n",
        "        assert isinstance(X, pd.DataFrame) and isinstance(y, list), \"incorrect return types\"\n",
        "\n",
        "        self.X = X; self.y = y\n",
        "\n",
        "        return X, y\n",
        "\n",
        "    @property\n",
        "    def X(self):\n",
        "        return ClassifierWithImprovedBinaryEncoding._X\n",
        "\n",
        "    @X.setter\n",
        "    def X(self, X):\n",
        "        ClassifierWithImprovedBinaryEncoding._X = X\n"
      ]
    },
    {
      "cell_type": "code",
      "execution_count": null,
      "metadata": {
        "id": "DQM_14hJparE"
      },
      "outputs": [],
      "source": [
        "# Instantiate the classifier\n",
        "q1_c = ClassifierWithImprovedBinaryEncoding(LogisticRegression)\n",
        "\n",
        "# Construct the dataset and train the classifier\n",
        "X_b_improved, y = q1_c.get_dataset(ALL_FILES, num_words=1000)\n",
        "q1_c_dataset, q1_c_info = q1_c.train_and_predict(\n",
        "    X=X_b_improved, y=y, test_size=0.3, random_state=22, C=1.0)"
      ]
    },
    {
      "cell_type": "code",
      "execution_count": null,
      "metadata": {
        "id": "q-YO91qScbJ4",
        "colab": {
          "base_uri": "https://localhost:8080/"
        },
        "outputId": "2c4dcbe4-7162-495a-c18c-230512ae4848"
      },
      "outputs": [
        {
          "output_type": "stream",
          "name": "stdout",
          "text": [
            "Train accuracy of the improved model: 0.9604200900192899\n",
            "Test accuracy of the improved model: 0.7375\n"
          ]
        }
      ],
      "source": [
        "# Retrieve and report the results\n",
        "train_accuracy_q1c = q1_c_info['train_accuracy']\n",
        "test_accuracy_q1c = q1_c_info['test_accuracy']\n",
        "\n",
        "print(f\"Train accuracy of the improved model: {train_accuracy_q1c}\")\n",
        "print(f\"Test accuracy of the improved model: {test_accuracy_q1c}\")"
      ]
    },
    {
      "cell_type": "markdown",
      "metadata": {
        "id": "32odky0vgMbw"
      },
      "source": [
        "\n",
        "The train and test accuracy of the model increased after using the improved feature set."
      ]
    },
    {
      "cell_type": "markdown",
      "metadata": {
        "id": "Pco8o8L3goZS"
      },
      "source": [
        "### Results with 10 random splits\n",
        "\n",
        "The following code computes the mean accuracy and 95% confidence interval over 10 random splits. The confusion matrix is also shown."
      ]
    },
    {
      "cell_type": "code",
      "execution_count": null,
      "metadata": {
        "id": "ymzv7RgygXXo",
        "colab": {
          "base_uri": "https://localhost:8080/"
        },
        "outputId": "0c07c0b7-fc12-42dd-ffdc-a0ff99af1936"
      },
      "outputs": [
        {
          "output_type": "stream",
          "name": "stdout",
          "text": [
            "Average training accuracy over 10 random splits: 0.9606487104379509\n",
            "Confidence interval for training accuracy over 10 random splits: [0.9597774415198784, 0.9615199793560233]\n",
            "Average test accuracy over 10 random splits: 0.73835\n",
            "Confidence interval for test accuracy over 10 random splits: [0.7341763467138873, 0.7425236532861126]\n"
          ]
        }
      ],
      "source": [
        "train_mean_bin, train_low_bin, train_high_bin, test_mean_bin, test_low_bin, test_high_bin = Classifier.get_performance_ci(q1_c, X_b_improved, y, num_tests=10)\n",
        "print(f\"Average training accuracy over 10 random splits: {train_mean_bin}\")\n",
        "print(f\"Confidence interval for training accuracy over 10 random splits: [{train_low_bin}, {train_high_bin}]\")\n",
        "print(f\"Average test accuracy over 10 random splits: {test_mean_bin}\")\n",
        "print(f\"Confidence interval for test accuracy over 10 random splits: [{test_low_bin}, {test_high_bin}]\")"
      ]
    },
    {
      "cell_type": "code",
      "execution_count": null,
      "metadata": {
        "id": "P0_zQmOMjpHE",
        "colab": {
          "base_uri": "https://localhost:8080/",
          "height": 844
        },
        "outputId": "3a88bb03-beee-4cb6-fcbd-6df36936956d"
      },
      "outputs": [
        {
          "output_type": "display_data",
          "data": {
            "text/plain": [
              "<Figure size 1000x1000 with 1 Axes>"
            ],
            "image/png": "[encoded data removed]"
          },
          "metadata": {}
        }
      ],
      "source": [
        "cm10 = Classifier.create_cm(q1_c, X_b_improved, y, num_tests=10, test_size=0.3)\n",
        "plot_confusion_matrix(cm10)"
      ]
    },
    {
      "cell_type": "markdown",
      "metadata": {
        "id": "BdcHguHQj_LM"
      },
      "source": [
        "From the confusion matrix, we can see that some classes such as alt.atheism and talk.religion.misc are more easily confused. This is because they are very similar/related topics and so would likely have many terms that are very similar so it would be easier to misclassify."
      ]
    },
    {
      "cell_type": "markdown",
      "metadata": {
        "id": "WB0iFuk9kNPg"
      },
      "source": [
        "## Experiments Varying the Number of Features"
      ]
    },
    {
      "cell_type": "code",
      "execution_count": null,
      "metadata": {
        "id": "rrVX2JRdgW81"
      },
      "outputs": [],
      "source": [
        "class ClassifierWithVaryingNumFeatures(ClassifierWithImprovedBinaryEncoding):\n",
        "    def __init__(self, model_cls):\n",
        "        super().__init__(\n",
        "            model_cls=model_cls\n",
        "        )\n",
        "\n",
        "    def predict_with_varying_num_features(\n",
        "            self,\n",
        "            X: pd.DataFrame,\n",
        "            y: List[int],\n",
        "            p_lst: List[float],  # list of percentages of features to use\n",
        "            test_size=0.3,\n",
        "            random_state=22\n",
        "    ) -> pd.DataFrame:\n",
        "        # 'result_list' is a list of tuples (num_features, train_accuracy, test_accuracy)\n",
        "        # where 'num_features' is the number of words used as features\n",
        "        result_list = []\n",
        "\n",
        "        # Note: only use a single train/test split for this evaluation\n",
        "        X_train, X_test, y_train, y_test = train_test_split(\n",
        "            X, y, test_size=test_size, random_state=random_state\n",
        "        )\n",
        "\n",
        "        for p in p_lst:\n",
        "            subset_size = int(p*X.shape[1])\n",
        "            X_train_subset = X_train.iloc[:, 0:subset_size]\n",
        "            X_test_subset = X_test.iloc[:, 0:subset_size]\n",
        "\n",
        "            clf = self._model_cls().fit(X_train_subset, y_train)\n",
        "\n",
        "            # Make predictions with the train and test sets\n",
        "            y_train_predict = clf.predict(X_train_subset)\n",
        "            y_test_predict = clf.predict(X_test_subset)\n",
        "\n",
        "            train_accuracy = accuracy_score(y_train, y_train_predict)\n",
        "            test_accuracy = accuracy_score(y_test, y_test_predict)\n",
        "\n",
        "            # Add to 'result_list'\n",
        "            result_list.append((p, train_accuracy, test_accuracy))\n",
        "\n",
        "        # Make a dataframe of the results\n",
        "        result_df = pd.DataFrame(result_list,\n",
        "                                 columns=[\"num_features\", \"train_accuracy\", \"test_accuracy\"])\n",
        "\n",
        "        # Validate return type\n",
        "        assert isinstance(result_df, pd.DataFrame), \"return type\"\n",
        "\n",
        "        return result_df\n"
      ]
    },
    {
      "cell_type": "markdown",
      "metadata": {
        "id": "iX3UdIj6lB-T"
      },
      "source": [
        "Plot of train and test accuracy for the different feature set sizes"
      ]
    },
    {
      "cell_type": "code",
      "execution_count": null,
      "metadata": {
        "id": "U_t-DUHG2l48",
        "colab": {
          "base_uri": "https://localhost:8080/",
          "height": 467
        },
        "outputId": "5c80736c-5026-4f86-9bc1-7b12684421a2"
      },
      "outputs": [
        {
          "output_type": "execute_result",
          "data": {
            "text/plain": [
              "<Axes: xlabel='num_features'>"
            ]
          },
          "metadata": {},
          "execution_count": 22
        },
        {
          "output_type": "display_data",
          "data": {
            "text/plain": [
              "<Figure size 640x480 with 1 Axes>"
            ],
            "image/png": "[encoded data removed]"
          },
          "metadata": {}
        }
      ],
      "source": [
        "q2 = ClassifierWithVaryingNumFeatures(LogisticRegression)\n",
        "p_lst = [0.1, 0.2, 0.4, 0.6, 0.8, 1.0]\n",
        "feature_num_df = q2.predict_with_varying_num_features(X_b_improved, y, p_lst)\n",
        "\n",
        "feature_num_df.plot(x=\"num_features\", y=[\"train_accuracy\", \"test_accuracy\"])"
      ]
    },
    {
      "cell_type": "markdown",
      "metadata": {
        "id": "B9l5qCr-lZlQ"
      },
      "source": [
        "Generally the accuracy for both the training and testing set improved as there was an increased number of features. However after using around 60% of the features, there was less accuracy improvements on the train and test sets."
      ]
    },
    {
      "cell_type": "markdown",
      "metadata": {
        "id": "TaXDfHvflekQ"
      },
      "source": [
        "## Hyperparameter Tuning"
      ]
    },
    {
      "cell_type": "code",
      "execution_count": null,
      "metadata": {
        "id": "IyTLJ7B73f3T"
      },
      "outputs": [],
      "source": [
        "def hyperparameter(\n",
        "    classifier: Classifier,\n",
        "    X: pd.DataFrame,\n",
        "    y: List[int],\n",
        "    param_list: List[float],\n",
        "    test_size: float = 0.3,\n",
        "    random_state: int = 22,\n",
        ") -> pd.DataFrame:\n",
        "    # 'result_list' is a list of tuples (param, train_accuracy, test_accuracy)\n",
        "    # where 'param' is the hyperparameter value used for training.\n",
        "    result_list = []\n",
        "\n",
        "    # Note that this function uses a single train/test split\n",
        "    # If the trends are not clear, try repeating this for multiple random splits\n",
        "    X_train, X_test, y_train, y_test = train_test_split(\n",
        "        X, y, test_size=test_size, random_state=random_state\n",
        "    )\n",
        "\n",
        "    for param in param_list:\n",
        "        data, info = classifier.train_and_predict(X=X, y=y, test_size=test_size, random_state=random_state, C=param)\n",
        "        train_accuracy = info['train_accuracy']\n",
        "        test_accuracy = info['test_accuracy']\n",
        "\n",
        "        # Add to result_list\n",
        "        result_list.append((param, train_accuracy, test_accuracy))\n",
        "\n",
        "    # Make a dataframe of the results\n",
        "    result_df = pd.DataFrame(result_list, columns=[\"param\", \"train_accuracy\", \"test_accuracy\"])\n",
        "\n",
        "    # validate return type\n",
        "    assert isinstance(result_df, pd.DataFrame), \"return type\"\n",
        "\n",
        "    return result_df"
      ]
    },
    {
      "cell_type": "code",
      "execution_count": null,
      "metadata": {
        "id": "GKRzwpqj39-u"
      },
      "outputs": [],
      "source": [
        "param_list = [0.001, 0.01, 0.1, 1, 10, 100, 1000]\n",
        "param_df = hyperparameter(\n",
        "    classifier=q1_c,\n",
        "    X=X_b_improved,\n",
        "    y=y,\n",
        "    param_list=param_list,\n",
        "    test_size=0.3,\n",
        "    random_state=22,\n",
        ")"
      ]
    },
    {
      "cell_type": "code",
      "execution_count": null,
      "metadata": {
        "id": "IoKmchFC55Cx",
        "colab": {
          "base_uri": "https://localhost:8080/",
          "height": 471
        },
        "outputId": "5375f521-e9a0-4555-e2cd-befb234e9d7e"
      },
      "outputs": [
        {
          "output_type": "execute_result",
          "data": {
            "text/plain": [
              "<Axes: xlabel='param'>"
            ]
          },
          "metadata": {},
          "execution_count": 40
        },
        {
          "output_type": "display_data",
          "data": {
            "text/plain": [
              "<Figure size 640x480 with 1 Axes>"
            ],
            "image/png": "[encoded data removed]"
          },
          "metadata": {}
        }
      ],
      "source": [
        "param_df.plot(x=\"param\", y=[\"train_accuracy\", \"test_accuracy\"], logx=True)"
      ]
    },
    {
      "cell_type": "markdown",
      "metadata": {
        "id": "TAwEn79UqARh"
      },
      "source": [
        "It can be seen that the training accuracy increases as the regularization hyperparameter value increases but the test accuracy decreases after around 0.1 which indicates that the model is starting to overfit due to the weaker regularization."
      ]
    },
    {
      "cell_type": "markdown",
      "metadata": {
        "id": "OekUz4CGqFT7"
      },
      "source": [
        "## Feature Encoding (Term Frequency)"
      ]
    },
    {
      "cell_type": "code",
      "execution_count": null,
      "metadata": {
        "id": "jsfRXds257r2"
      },
      "outputs": [],
      "source": [
        "class ClassifierWithTFEncoding(ClassifierWithBinaryEncoding):\n",
        "\n",
        "    _X = None\n",
        "\n",
        "    def __init__(self, model_cls):\n",
        "        super().__init__(model_cls=model_cls)\n",
        "\n",
        "    def get_dataset(\n",
        "            self, file_list, num_words=1000\n",
        "    ) -> Tuple[pd.DataFrame, List[int]]:\n",
        "        \"\"\"\n",
        "        Put your code for Q4(a) here.\n",
        "\n",
        "        Returns the tuple (X, y) where X is the feature set and y is the label.\n",
        "        This method uses the term frequency encoding for features, where the most\n",
        "        common 'num_words' number of terms are used. Further, this class should\n",
        "        use the improved features from Q1(c) rather than the baseline we provided.\n",
        "\n",
        "        Args:\n",
        "            file_list (List[int]): The list containing file names to process.\n",
        "            num_words (int): The number of words (terms) to be used as features\n",
        "              Note that the feature dataframe you create should have the number\n",
        "              of columns the same as 'num_words'.\n",
        "\n",
        "        Returns:\n",
        "            X (pd.DataFrame), y (List[int])\n",
        "        \"\"\"\n",
        "        if self.X is not None and self.y is not None:\n",
        "            return self.X, self.y\n",
        "\n",
        "        X, y = None, None\n",
        "\n",
        "        # Use the term frequencies to construct the feature set.\n",
        "        tokenizer = RegexpTokenizer(r\"\\w+\")\n",
        "        stop_words = set(stopwords.words('english'))\n",
        "        news_cnt = Counter()\n",
        "        for file_path in file_list:\n",
        "            with open(file_path, \"r\", encoding=\"utf-8\", errors=\"ignore\") as file:\n",
        "                file_data = file.read()\n",
        "                file_data = clean_file_text(file_data)\n",
        "                file_words = tokenizer.tokenize(file_data)\n",
        "                file_words = [word.lower() for word in file_words if word.lower() not in stop_words]\n",
        "                file_words = [SnowballStemmer('english').stem(word) for word in file_words]\n",
        "                news_cnt.update(file_words)\n",
        "\n",
        "        # Select the most common numWords\n",
        "        word_list = [word for (word, freq) in news_cnt.most_common(num_words)]\n",
        "\n",
        "        # Create a binary encoding of dataset based on the selected features (X)\n",
        "        df_rows = []\n",
        "        for file_path in file_list:\n",
        "            with open(file_path, \"r\", encoding=\"utf-8\", errors=\"ignore\") as file:\n",
        "                file_data = file.read()\n",
        "                file_data = clean_file_text(file_data)\n",
        "                file_words = tokenizer.tokenize(file_data)\n",
        "                file_words = [word.lower() for word in file_words if word.lower() not in stop_words]\n",
        "                file_words = [SnowballStemmer('english').stem(word) for word in file_words]\n",
        "                file_word_counts = Counter(file_words)\n",
        "                df_rows.append([file_word_counts[word] if word in file_word_counts else 0 for word in word_list])\n",
        "        X = pd.DataFrame(df_rows, index=[str(f) for f in file_list], columns=word_list)\n",
        "\n",
        "        # Create a dataframe of targets (y)\n",
        "        y = [get_target(get_topic_name(file_path)) for file_path in file_list]\n",
        "\n",
        "        # Validate return types\n",
        "        assert isinstance(X, pd.DataFrame) and isinstance(y, list), \"incorrect return types\"\n",
        "\n",
        "        self.X = X; self.y = y\n",
        "        return X, y\n",
        "\n",
        "    @property\n",
        "    def X(self):\n",
        "        return ClassifierWithTFEncoding._X\n",
        "\n",
        "    @X.setter\n",
        "    def X(self, X):\n",
        "        ClassifierWithTFEncoding._X = X"
      ]
    },
    {
      "cell_type": "code",
      "execution_count": null,
      "metadata": {
        "id": "c_D9ZdvG8WW1"
      },
      "outputs": [],
      "source": [
        "q4 = ClassifierWithTFEncoding(LogisticRegression)\n",
        "X_tf, y_tf = q4.get_dataset(ALL_FILES)"
      ]
    },
    {
      "cell_type": "code",
      "execution_count": null,
      "metadata": {
        "id": "vOW0MGcb8kAl",
        "colab": {
          "base_uri": "https://localhost:8080/"
        },
        "outputId": "ba8453ba-de4e-4e5e-9d96-4d7e4a1962ba"
      },
      "outputs": [
        {
          "output_type": "stream",
          "name": "stdout",
          "text": [
            "Average training accuracy over 10 random splits: 0.9446167035793385\n",
            "Confidence interval for training accuracy over 10 random splits: [0.9411931287355693, 0.9480402784231077]\n",
            "Average test accuracy over 10 random splits: 0.73655\n",
            "Confidence interval for test accuracy over 10 random splits: [0.7333626726974091, 0.739737327302591]\n"
          ]
        }
      ],
      "source": [
        "train_mean_tf, train_low_tf, train_high_tf, test_mean_tf, test_low_tf, test_high_tf = Classifier.get_performance_ci(q4, X_tf, y_tf, num_tests=10)\n",
        "print(f\"Average training accuracy over 10 random splits: {train_mean_tf}\")\n",
        "print(f\"Confidence interval for training accuracy over 10 random splits: [{train_low_tf}, {train_high_tf}]\")\n",
        "print(f\"Average test accuracy over 10 random splits: {test_mean_tf}\")\n",
        "print(f\"Confidence interval for test accuracy over 10 random splits: [{test_low_tf}, {test_high_tf}]\")"
      ]
    },
    {
      "cell_type": "markdown",
      "metadata": {
        "id": "JB04-SIfrmKJ"
      },
      "source": [
        "Comparing the two encodings, the improved binary encodings performed slightly better than the TF encodings. This could be because the binary encodings weigh each term the same regardless of its frequency which can help reduce noise and may have worked better for this dataset as perhaps the term frequency doesn't correlate that well with term importance."
      ]
    },
    {
      "cell_type": "markdown",
      "metadata": {
        "id": "a8X2vO-HrqwD"
      },
      "source": [
        "## Comparison with Naive Bayes"
      ]
    },
    {
      "cell_type": "code",
      "execution_count": null,
      "metadata": {
        "id": "6YauwwDn89H1"
      },
      "outputs": [],
      "source": [
        "def evaluate_nb(X, y, num_tests) -> Tuple[Classifier, Tuple]:\n",
        "    train_mean, train_ci_low, train_ci_high, test_mean, test_ci_low, test_ci_high = [None] * 6\n",
        "    nb_classifier =  ClassifierWithImprovedBinaryEncoding(BernoulliNB)\n",
        "    train_mean, train_ci_low, train_ci_high, test_mean, test_ci_low, test_ci_high = Classifier.get_performance_ci(nb_classifier, X, y, num_tests=num_tests)\n",
        "\n",
        "    # Validate return types\n",
        "    assert isinstance(nb_classifier, Classifier) and 'NB' in nb_classifier._model_cls.__name__, \"incorrect return types\"\n",
        "    assert isinstance(train_mean, float) and isinstance(train_ci_low, float) and isinstance(train_ci_high, float), \"incorrect return types\"\n",
        "    assert isinstance(test_mean, float) and isinstance(test_ci_low, float) and isinstance(test_ci_high, float), \"incorrect return types\"\n",
        "\n",
        "    return nb_classifier, (train_mean, train_ci_low, train_ci_high, test_mean, test_ci_low, test_ci_high)"
      ]
    },
    {
      "cell_type": "code",
      "execution_count": null,
      "metadata": {
        "id": "Pom8530C9h8Y",
        "colab": {
          "base_uri": "https://localhost:8080/"
        },
        "outputId": "c3d2e7d3-60c5-459d-fba3-1ccede3a8ed4"
      },
      "outputs": [
        {
          "output_type": "stream",
          "name": "stdout",
          "text": [
            "Average training accuracy over 10 random splits: 0.6869543473601486\n",
            "Confidence interval for training accuracy over 10 random splits: [0.6839837286194864, 0.6899249661008108]\n",
            "Average test accuracy over 10 random splits: 0.6436333333333334\n",
            "Confidence interval for test accuracy over 10 random splits: [0.6394489653445344, 0.6478177013221323]\n"
          ]
        }
      ],
      "source": [
        "nb_classifier, (train_mean_nb, train_low_nb, train_high_nb, test_mean_nb, test_low_nb, test_high_nb) = evaluate_nb(X_b_improved, y, num_tests=10)\n",
        "print(f\"Average training accuracy over 10 random splits: {train_mean_nb}\")\n",
        "print(f\"Confidence interval for training accuracy over 10 random splits: [{train_low_nb}, {train_high_nb}]\")\n",
        "print(f\"Average test accuracy over 10 random splits: {test_mean_nb}\")\n",
        "print(f\"Confidence interval for test accuracy over 10 random splits: [{test_low_nb}, {test_high_nb}]\")"
      ]
    },
    {
      "cell_type": "markdown",
      "metadata": {
        "id": "vMcY-FEwt0ZQ"
      },
      "source": [
        "The classifier with logistic regression and improved binary encodings performed better on this dataset than the naive bayes classifier. This is likely because Naive Bayes assumes that features are conditionally independent given the class, which is likely not the case with the frequent words in these documents."
      ]
    },
    {
      "cell_type": "markdown",
      "metadata": {
        "id": "O7F8PNFLt4yd"
      },
      "source": [
        "## Binary Logistic Regression"
      ]
    },
    {
      "cell_type": "code",
      "execution_count": null,
      "metadata": {
        "id": "QZA5IaCB__OK"
      },
      "outputs": [],
      "source": [
        "class BinaryLogisticClassifier(ClassifierWithImprovedBinaryEncoding):\n",
        "\n",
        "    _y = None\n",
        "\n",
        "    def __init__(self, model_cls):\n",
        "        super().__init__(model_cls=model_cls)\n",
        "\n",
        "    def get_dataset(\n",
        "            self, file_list, num_words=1000\n",
        "    ) -> Tuple[pd.DataFrame, List[int]]:\n",
        "        \"\"\"\n",
        "        Put your code for Q6(a) here.\n",
        "\n",
        "        Returns the tuple (X, y) where X is the feature set and y is the label.\n",
        "        Use the improved binary encoding from Q1(c) for features, where the most\n",
        "        common 'num_words' number of terms are used.\n",
        "\n",
        "        Args:\n",
        "            file_list (List[int]): The list containing file names to process.\n",
        "            num_words (int): The number of words (terms) to be used as features\n",
        "              Note that the feature dataframe you create should have the number\n",
        "              of columns the same as 'num_words'.\n",
        "\n",
        "        Returns:\n",
        "            X (pd.DataFrame), y (List[int])\n",
        "        \"\"\"\n",
        "        if self.X is not None and self.y is not None:\n",
        "            return self.X, self.y\n",
        "\n",
        "        X, y = None, None\n",
        "\n",
        "        X = ClassifierWithImprovedBinaryEncoding._X\n",
        "\n",
        "        y = [1 if get_topic_name(file_path) == 'sci.med' else 0 for file_path in file_list]\n",
        "\n",
        "        # Validate return types\n",
        "        assert isinstance(X, pd.DataFrame) and isinstance(y, list), \"incorrect return types\"\n",
        "\n",
        "        self.X = X; self.y = y\n",
        "        return X, y\n",
        "\n",
        "    @property\n",
        "    def y(self):\n",
        "        return BinaryLogisticClassifier._y\n",
        "\n",
        "    @y.setter\n",
        "    def y(self, y):\n",
        "        BinaryLogisticClassifier._y = y"
      ]
    },
    {
      "cell_type": "code",
      "execution_count": null,
      "metadata": {
        "id": "BdH5PUx8Bf5e"
      },
      "outputs": [],
      "source": [
        "q6 = BinaryLogisticClassifier(LogisticRegression)\n",
        "X_bin, y_bin = q6.get_dataset(ALL_FILES, num_words=1000)"
      ]
    },
    {
      "cell_type": "code",
      "execution_count": null,
      "metadata": {
        "id": "_jpyu-x4CG7A",
        "colab": {
          "base_uri": "https://localhost:8080/"
        },
        "outputId": "d172b0ad-5a5c-45c1-d499-7f3f6cf411de"
      },
      "outputs": [
        {
          "output_type": "stream",
          "name": "stdout",
          "text": [
            "Average training accuracy over 10 random splits: 0.9919196970779453\n",
            "Confidence interval for training accuracy over 10 random splits: [0.9915484460698631, 0.9922909480860274]\n",
            "Average test accuracy over 10 random splits: 0.9753999999999999\n",
            "Confidence interval for test accuracy over 10 random splits: [0.9744847241009377, 0.9763152758990622]\n"
          ]
        }
      ],
      "source": [
        "train_mean_bin, train_low_bin, train_high_bin, test_mean_bin, test_low_bin, test_high_bin = Classifier.get_performance_ci(q6, X_bin, y_bin, num_tests=10)\n",
        "print(f\"Average training accuracy over 10 random splits: {train_mean_bin}\")\n",
        "print(f\"Confidence interval for training accuracy over 10 random splits: [{train_low_bin}, {train_high_bin}]\")\n",
        "print(f\"Average test accuracy over 10 random splits: {test_mean_bin}\")\n",
        "print(f\"Confidence interval for test accuracy over 10 random splits: [{test_low_bin}, {test_high_bin}]\")\n"
      ]
    },
    {
      "cell_type": "markdown",
      "metadata": {
        "id": "-jW_XJ4Owckl"
      },
      "source": [
        "Both the average training and test accuracy are really high and the confidence intervals give pretty tight bounds indicating that we can be confident in the averages that we are seeing. From the results we can see that the binary class logistic regression achieved a higher train and test accuracy than the multi-class logistic regression."
      ]
    }
  ],
  "metadata": {
    "colab": {
      "provenance": [],
      "toc_visible": true
    },
    "kernelspec": {
      "display_name": "Python 3",
      "name": "python3"
    },
    "language_info": {
      "name": "python"
    }
  },
  "nbformat": 4,
  "nbformat_minor": 0
}